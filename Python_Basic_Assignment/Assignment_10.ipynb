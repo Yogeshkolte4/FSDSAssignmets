{
 "cells": [
  {
   "cell_type": "code",
   "execution_count": 1,
   "id": "055a8e53",
   "metadata": {},
   "outputs": [],
   "source": [
    "import shutil, os\n",
    "from pathlib import Path\n",
    "\n",
    "p = Path(\"E:/Complete_python/Krishna/Fullstack/Class_execution/Eda/train.csv\")"
   ]
  },
  {
   "cell_type": "code",
   "execution_count": 2,
   "id": "b58c5219",
   "metadata": {},
   "outputs": [],
   "source": [
    "dpath = Path(\"E:/Complete_python/Krishna/Fullstack/Class_execution/Eda/test/train.csv\")"
   ]
  },
  {
   "cell_type": "code",
   "execution_count": 3,
   "id": "b1847aa8",
   "metadata": {},
   "outputs": [
    {
     "data": {
      "text/plain": [
       "WindowsPath('E:/Complete_python/Krishna/Fullstack/Class_execution/Eda/test/train.csv')"
      ]
     },
     "execution_count": 3,
     "metadata": {},
     "output_type": "execute_result"
    }
   ],
   "source": [
    "shutil.copy(src=p, dst=dpath)"
   ]
  },
  {
   "cell_type": "code",
   "execution_count": 4,
   "id": "85f82274",
   "metadata": {},
   "outputs": [],
   "source": [
    "dpath = Path(\"E:/Complete_python/Krishna/Fullstack/Class_execution/Eda/test/train_copy.csv\")"
   ]
  },
  {
   "cell_type": "code",
   "execution_count": 5,
   "id": "b594d068",
   "metadata": {},
   "outputs": [
    {
     "data": {
      "text/plain": [
       "WindowsPath('E:/Complete_python/Krishna/Fullstack/Class_execution/Eda/test/train_copy.csv')"
      ]
     },
     "execution_count": 5,
     "metadata": {},
     "output_type": "execute_result"
    }
   ],
   "source": [
    "shutil.copy(src=p, dst=dpath)"
   ]
  },
  {
   "cell_type": "code",
   "execution_count": 6,
   "id": "03b5222e",
   "metadata": {},
   "outputs": [],
   "source": [
    "spath = Path(\"E:/Complete_python/Krishna/Fullstack/FSDS_Assignments/\")"
   ]
  },
  {
   "cell_type": "code",
   "execution_count": 9,
   "id": "c534dec5",
   "metadata": {},
   "outputs": [],
   "source": [
    "dpath = Path(\"E:/Complete_python/Krishna/Fullstack/Class_execution/Eda/test3\")"
   ]
  },
  {
   "cell_type": "code",
   "execution_count": 10,
   "id": "597c5e45",
   "metadata": {},
   "outputs": [
    {
     "data": {
      "text/plain": [
       "WindowsPath('E:/Complete_python/Krishna/Fullstack/Class_execution/Eda/test3')"
      ]
     },
     "execution_count": 10,
     "metadata": {},
     "output_type": "execute_result"
    }
   ],
   "source": [
    "shutil.copytree(src=spath, dst=dpath)"
   ]
  },
  {
   "cell_type": "code",
   "execution_count": 14,
   "id": "6baee546",
   "metadata": {},
   "outputs": [],
   "source": [
    "import os\n",
    "from pathlib import Path\n"
   ]
  },
  {
   "cell_type": "code",
   "execution_count": 15,
   "id": "08d2237d",
   "metadata": {},
   "outputs": [],
   "source": [
    "dpath = Path(\"E:/Complete_python/Krishna/Fullstack/Class_execution/Eda/test2/Python_Basic_Assignment/\")"
   ]
  },
  {
   "cell_type": "code",
   "execution_count": 16,
   "id": "5a3f6aad",
   "metadata": {},
   "outputs": [],
   "source": [
    "for filename in dpath.glob(\"*.docx\"):\n",
    "    print(filename)"
   ]
  },
  {
   "cell_type": "code",
   "execution_count": 17,
   "id": "9c146d94",
   "metadata": {},
   "outputs": [],
   "source": [
    "for filename in dpath.glob(\"*.docx\"):\n",
    "    os.unlink(filename)\n",
    "    print(filename)"
   ]
  },
  {
   "cell_type": "code",
   "execution_count": 18,
   "id": "cc48356b",
   "metadata": {},
   "outputs": [],
   "source": [
    "#!pip install --user send2trash"
   ]
  },
  {
   "cell_type": "markdown",
   "id": "3bbb0256",
   "metadata": {},
   "source": [
    "#### Q1. How do you distinguish between shutil.copy() and shutil.copytree()?"
   ]
  },
  {
   "cell_type": "markdown",
   "id": "59216843",
   "metadata": {},
   "source": [
    "+ __shutil.copy(src, dst):__ Copy file from source path to destination path. If destination is filename then copy the file with new name.\n",
    "\n",
    "+ __shutil.copytree(src, dst):__ Copy an entier files and subfolders contains in source path to the folder at  destination path."
   ]
  },
  {
   "cell_type": "markdown",
   "id": "58b2a307",
   "metadata": {},
   "source": [
    "#### Q2. What function is used to rename files??"
   ]
  },
  {
   "cell_type": "markdown",
   "id": "b2068a10",
   "metadata": {},
   "source": [
    "shutil.move(src=\"source file path\", dst=\"destination path with new filename\") used to rename the file."
   ]
  },
  {
   "cell_type": "markdown",
   "id": "a96c2812",
   "metadata": {},
   "source": [
    "#### Q3. What is the difference between the delete functions in the send2trash and shutil modules?"
   ]
  },
  {
   "cell_type": "markdown",
   "id": "257fdbd0",
   "metadata": {},
   "source": [
    "+ shutil.rmtree(path) will irreversibly deletes the  all files and subfolders at given path.\n",
    "\n",
    "+ send2trash: Instade of permanently deleting the  all files and subfolders at given path send2trash method send them to computer's trash or recycle bin folders. "
   ]
  },
  {
   "cell_type": "markdown",
   "id": "57429af7",
   "metadata": {},
   "source": [
    "#### Q4.ZipFile objects have a close() method just like File objects’ close() method. What ZipFile method is equivalent to File objects’ open() method?"
   ]
  },
  {
   "cell_type": "markdown",
   "id": "5aafdc72",
   "metadata": {},
   "source": [
    "ZipFile method is similler to the file object return by the open() method in python."
   ]
  },
  {
   "cell_type": "markdown",
   "id": "5d2ebe38",
   "metadata": {},
   "source": [
    "#### Q5. Create a programme that searches a folder tree for files with a certain file extension (such as .pdf or .jpg). Copy these files from whatever location they are in to a new folder."
   ]
  },
  {
   "cell_type": "code",
   "execution_count": 19,
   "id": "eef5d044",
   "metadata": {},
   "outputs": [],
   "source": [
    "import os\n",
    "import shutil\n",
    "from pathlib import Path"
   ]
  },
  {
   "cell_type": "code",
   "execution_count": 20,
   "id": "6e9ca808",
   "metadata": {},
   "outputs": [],
   "source": [
    "spath = Path(\"E:/Complete_python/Krishna/Fullstack/FSDS_Assignments/Python_Basic_Assignment/\")\n",
    "dpath = Path(\"E:/Complete_python/Krishna/Fullstack/Class_execution/Eda/test2/Python_Basic_Assignment/\")"
   ]
  },
  {
   "cell_type": "code",
   "execution_count": 21,
   "id": "ebb077a4",
   "metadata": {},
   "outputs": [
    {
     "name": "stdout",
     "output_type": "stream",
     "text": [
      "\n",
      "current folder is E:\\Complete_python\\Krishna\\Fullstack\\FSDS_Assignments\\Python_Basic_Assignment\n",
      "\n",
      "Subfolder of E:\\Complete_python\\Krishna\\Fullstack\\FSDS_Assignments\\Python_Basic_Assignment is .ipynb_checkpoints\n",
      "E:\\Complete_python\\Krishna\\Fullstack\\FSDS_Assignments\\Python_Basic_Assignment\\.ipynb_checkpoints\\APyInputPlus.ipynb\n",
      "E:\\Complete_python\\Krishna\\Fullstack\\FSDS_Assignments\\Python_Basic_Assignment\\.ipynb_checkpoints\\Assignment_1.docx\n",
      "E:\\Complete_python\\Krishna\\Fullstack\\FSDS_Assignments\\Python_Basic_Assignment\\.ipynb_checkpoints\\Assignment_1.ipynb\n",
      "E:\\Complete_python\\Krishna\\Fullstack\\FSDS_Assignments\\Python_Basic_Assignment\\.ipynb_checkpoints\\Assignment_10.docx\n",
      "E:\\Complete_python\\Krishna\\Fullstack\\FSDS_Assignments\\Python_Basic_Assignment\\.ipynb_checkpoints\\Assignment_10.ipynb\n",
      "E:\\Complete_python\\Krishna\\Fullstack\\FSDS_Assignments\\Python_Basic_Assignment\\.ipynb_checkpoints\\Assignment_2.docx\n",
      "E:\\Complete_python\\Krishna\\Fullstack\\FSDS_Assignments\\Python_Basic_Assignment\\.ipynb_checkpoints\\Assignment_2.ipynb\n",
      "E:\\Complete_python\\Krishna\\Fullstack\\FSDS_Assignments\\Python_Basic_Assignment\\.ipynb_checkpoints\\Assignment_3.docx\n",
      "E:\\Complete_python\\Krishna\\Fullstack\\FSDS_Assignments\\Python_Basic_Assignment\\.ipynb_checkpoints\\Assignment_3.ipynb\n",
      "E:\\Complete_python\\Krishna\\Fullstack\\FSDS_Assignments\\Python_Basic_Assignment\\.ipynb_checkpoints\\Assignment_4.docx\n",
      "E:\\Complete_python\\Krishna\\Fullstack\\FSDS_Assignments\\Python_Basic_Assignment\\.ipynb_checkpoints\\Assignment_4.ipynb\n",
      "E:\\Complete_python\\Krishna\\Fullstack\\FSDS_Assignments\\Python_Basic_Assignment\\.ipynb_checkpoints\\Assignment_5.docx\n",
      "E:\\Complete_python\\Krishna\\Fullstack\\FSDS_Assignments\\Python_Basic_Assignment\\.ipynb_checkpoints\\Assignment_5.ipynb\n",
      "E:\\Complete_python\\Krishna\\Fullstack\\FSDS_Assignments\\Python_Basic_Assignment\\.ipynb_checkpoints\\Assignment_6.docx\n",
      "E:\\Complete_python\\Krishna\\Fullstack\\FSDS_Assignments\\Python_Basic_Assignment\\.ipynb_checkpoints\\Assignment_6.ipynb\n",
      "E:\\Complete_python\\Krishna\\Fullstack\\FSDS_Assignments\\Python_Basic_Assignment\\.ipynb_checkpoints\\Assignment_7.docx\n",
      "E:\\Complete_python\\Krishna\\Fullstack\\FSDS_Assignments\\Python_Basic_Assignment\\.ipynb_checkpoints\\Assignment_7.ipynb\n",
      "E:\\Complete_python\\Krishna\\Fullstack\\FSDS_Assignments\\Python_Basic_Assignment\\.ipynb_checkpoints\\Assignment_8.docx\n",
      "E:\\Complete_python\\Krishna\\Fullstack\\FSDS_Assignments\\Python_Basic_Assignment\\.ipynb_checkpoints\\Assignment_8.ipynb\n",
      "E:\\Complete_python\\Krishna\\Fullstack\\FSDS_Assignments\\Python_Basic_Assignment\\.ipynb_checkpoints\\Assignment_9.docx\n",
      "E:\\Complete_python\\Krishna\\Fullstack\\FSDS_Assignments\\Python_Basic_Assignment\\.ipynb_checkpoints\\Assignment_9.ipynb\n",
      "E:\\Complete_python\\Krishna\\Fullstack\\FSDS_Assignments\\Python_Basic_Assignment\\.ipynb_checkpoints\\EDA_01May2022.ipynb\n",
      "E:\\Complete_python\\Krishna\\Fullstack\\FSDS_Assignments\\Python_Basic_Assignment\\.ipynb_checkpoints\\Reading_writing_files.ipynb\n",
      "\n",
      "current folder is E:\\Complete_python\\Krishna\\Fullstack\\FSDS_Assignments\\Python_Basic_Assignment\\.ipynb_checkpoints\n"
     ]
    }
   ],
   "source": [
    "import os\n",
    "for folderName, subfolders, filenames in os.walk(spath):\n",
    "    print(\"\\ncurrent folder is {0}\".format(folderName))\n",
    "    for subfolder in subfolders:\n",
    "        print(\"\\nSubfolder of {0} is {1}\".format(folderName, subfolder))\n",
    "        \n",
    "        for filename in filenames:\n",
    "            print(folderName + \"\\\\\"+subfolder + '\\\\'+ filename)"
   ]
  },
  {
   "cell_type": "code",
   "execution_count": 22,
   "id": "fa69a184",
   "metadata": {},
   "outputs": [
    {
     "data": {
      "text/plain": [
       "[('E:\\\\Complete_python\\\\Krishna\\\\Fullstack\\\\FSDS_Assignments\\\\Python_Basic_Assignment',\n",
       "  ['.ipynb_checkpoints'],\n",
       "  ['APyInputPlus.ipynb',\n",
       "   'Assignment_1.docx',\n",
       "   'Assignment_1.ipynb',\n",
       "   'Assignment_10.docx',\n",
       "   'Assignment_10.ipynb',\n",
       "   'Assignment_2.docx',\n",
       "   'Assignment_2.ipynb',\n",
       "   'Assignment_3.docx',\n",
       "   'Assignment_3.ipynb',\n",
       "   'Assignment_4.docx',\n",
       "   'Assignment_4.ipynb',\n",
       "   'Assignment_5.docx',\n",
       "   'Assignment_5.ipynb',\n",
       "   'Assignment_6.docx',\n",
       "   'Assignment_6.ipynb',\n",
       "   'Assignment_7.docx',\n",
       "   'Assignment_7.ipynb',\n",
       "   'Assignment_8.docx',\n",
       "   'Assignment_8.ipynb',\n",
       "   'Assignment_9.docx',\n",
       "   'Assignment_9.ipynb',\n",
       "   'EDA_01May2022.ipynb',\n",
       "   'Reading_writing_files.ipynb']),\n",
       " ('E:\\\\Complete_python\\\\Krishna\\\\Fullstack\\\\FSDS_Assignments\\\\Python_Basic_Assignment\\\\.ipynb_checkpoints',\n",
       "  [],\n",
       "  ['APyInputPlus-checkpoint.ipynb',\n",
       "   'Assignment_1-checkpoint.ipynb',\n",
       "   'Assignment_10-checkpoint.ipynb',\n",
       "   'Assignment_2-checkpoint.ipynb',\n",
       "   'Assignment_3-checkpoint.ipynb',\n",
       "   'Assignment_4-checkpoint.ipynb',\n",
       "   'Assignment_5-checkpoint.ipynb',\n",
       "   'Assignment_6-checkpoint.ipynb',\n",
       "   'Assignment_7-checkpoint.ipynb',\n",
       "   'Assignment_8-checkpoint.ipynb',\n",
       "   'Assignment_9-checkpoint.ipynb',\n",
       "   'EDA_01May2022-checkpoint.ipynb',\n",
       "   'Reading_writing_files-checkpoint.ipynb'])]"
      ]
     },
     "execution_count": 22,
     "metadata": {},
     "output_type": "execute_result"
    }
   ],
   "source": [
    "list(os.walk(spath))"
   ]
  },
  {
   "cell_type": "code",
   "execution_count": 23,
   "id": "e580c957",
   "metadata": {},
   "outputs": [],
   "source": [
    "spath = Path(\"E:/Complete_python/Krishna/Fullstack/FSDS_Assignments/Python_Basic_Assignment/\")"
   ]
  },
  {
   "cell_type": "code",
   "execution_count": 24,
   "id": "e7fa6933",
   "metadata": {},
   "outputs": [],
   "source": [
    "import glob"
   ]
  },
  {
   "cell_type": "code",
   "execution_count": 25,
   "id": "d21d103f",
   "metadata": {},
   "outputs": [
    {
     "name": "stdout",
     "output_type": "stream",
     "text": [
      "E:\\Complete_python\\Krishna\\Fullstack\\FSDS_Assignments\\Python_Basic_Assignment\\Assignment_1.docx\n",
      "E:\\Complete_python\\Krishna\\Fullstack\\FSDS_Assignments\\Python_Basic_Assignment\\Assignment_10.docx\n",
      "E:\\Complete_python\\Krishna\\Fullstack\\FSDS_Assignments\\Python_Basic_Assignment\\Assignment_2.docx\n",
      "E:\\Complete_python\\Krishna\\Fullstack\\FSDS_Assignments\\Python_Basic_Assignment\\Assignment_3.docx\n",
      "E:\\Complete_python\\Krishna\\Fullstack\\FSDS_Assignments\\Python_Basic_Assignment\\Assignment_4.docx\n",
      "E:\\Complete_python\\Krishna\\Fullstack\\FSDS_Assignments\\Python_Basic_Assignment\\Assignment_5.docx\n",
      "E:\\Complete_python\\Krishna\\Fullstack\\FSDS_Assignments\\Python_Basic_Assignment\\Assignment_6.docx\n",
      "E:\\Complete_python\\Krishna\\Fullstack\\FSDS_Assignments\\Python_Basic_Assignment\\Assignment_7.docx\n",
      "E:\\Complete_python\\Krishna\\Fullstack\\FSDS_Assignments\\Python_Basic_Assignment\\Assignment_8.docx\n",
      "E:\\Complete_python\\Krishna\\Fullstack\\FSDS_Assignments\\Python_Basic_Assignment\\Assignment_9.docx\n"
     ]
    }
   ],
   "source": [
    "for filename in spath.glob(\"*.docx\"):\n",
    "    \n",
    "    print(filename)"
   ]
  },
  {
   "cell_type": "code",
   "execution_count": null,
   "id": "146b1eab",
   "metadata": {},
   "outputs": [],
   "source": []
  }
 ],
 "metadata": {
  "kernelspec": {
   "display_name": "Python 3 (ipykernel)",
   "language": "python",
   "name": "python3"
  },
  "language_info": {
   "codemirror_mode": {
    "name": "ipython",
    "version": 3
   },
   "file_extension": ".py",
   "mimetype": "text/x-python",
   "name": "python",
   "nbconvert_exporter": "python",
   "pygments_lexer": "ipython3",
   "version": "3.9.7"
  }
 },
 "nbformat": 4,
 "nbformat_minor": 5
}
