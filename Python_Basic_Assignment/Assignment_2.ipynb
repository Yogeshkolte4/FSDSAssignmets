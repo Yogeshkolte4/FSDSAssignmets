{
 "cells": [
  {
   "cell_type": "markdown",
   "id": "26724f06",
   "metadata": {},
   "source": [
    "#### Q1.What are the two values of the Boolean data type? How do you write them?"
   ]
  },
  {
   "cell_type": "markdown",
   "id": "c3f15fb7",
   "metadata": {},
   "source": [
    "Boolean dataypte contains two states \"0\" and \"1\" which are represented by True and  False."
   ]
  },
  {
   "cell_type": "markdown",
   "id": "35a7d8ba",
   "metadata": {},
   "source": [
    "#### Q2. What are the three different types of Boolean operators?"
   ]
  },
  {
   "cell_type": "markdown",
   "id": "23d995c3",
   "metadata": {},
   "source": [
    "+ and : result of and operation is True only when bothe operands are True.\n",
    "+ or  : Reault of or operation is True when one of the operand value is true.\n",
    "+ not : Result is negation of operand value."
   ]
  },
  {
   "cell_type": "markdown",
   "id": "2eccb78c",
   "metadata": {},
   "source": [
    "#### Q3. Make a list of each Boolean operator's truth tables (i.e. every possible combination of Boolean values for the operator and what it evaluate )."
   ]
  },
  {
   "cell_type": "markdown",
   "id": "95115a10",
   "metadata": {},
   "source": [
    "#### And and Or :  \n",
    "| A | B | A and B| A or B |\n",
    "|---|---|--------|--------|\n",
    "| 0 | 0 |    0   |    0   |\n",
    "|---|---|--------|--------|\n",
    "| 0 | 1 |    0   |    1   |\n",
    "|---|---|--------|--------|\n",
    "| 1 | 0 |    0   |    1   |\n",
    "|---|---|--------|--------|\n",
    "| 1 | 1 |    1   |    1   |\n",
    "|---|---|--------|--------|\n",
    "\n",
    "#### Not :\n",
    "| A | not A  |\n",
    "|---|--------|\n",
    "| 0 |    1   |\n",
    "|---|--------|\n",
    "| 1 |    0   |\n",
    "|---|--------|\n"
   ]
  },
  {
   "cell_type": "markdown",
   "id": "5166b535",
   "metadata": {},
   "source": [
    "#### Q4. What are the values of the following expressions?\n",
    "(5 > 4) and (3 == 5)\n",
    "\n",
    "not (5 > 4)\n",
    "\n",
    "(5 > 4) or (3 == 5)\n",
    "\n",
    "not ((5 > 4) or (3 == 5))\n",
    "\n",
    "(True and True) and (True == False)\n",
    "\n",
    "(not False) or (not True)\n"
   ]
  },
  {
   "cell_type": "code",
   "execution_count": 1,
   "id": "5b7bc57a",
   "metadata": {},
   "outputs": [
    {
     "data": {
      "text/plain": [
       "False"
      ]
     },
     "execution_count": 1,
     "metadata": {},
     "output_type": "execute_result"
    }
   ],
   "source": [
    "(5 > 4) and (3 == 5)"
   ]
  },
  {
   "cell_type": "code",
   "execution_count": 2,
   "id": "e6cc590d",
   "metadata": {},
   "outputs": [
    {
     "data": {
      "text/plain": [
       "False"
      ]
     },
     "execution_count": 2,
     "metadata": {},
     "output_type": "execute_result"
    }
   ],
   "source": [
    "not (5 > 4)"
   ]
  },
  {
   "cell_type": "code",
   "execution_count": 3,
   "id": "d02979a0",
   "metadata": {},
   "outputs": [
    {
     "data": {
      "text/plain": [
       "True"
      ]
     },
     "execution_count": 3,
     "metadata": {},
     "output_type": "execute_result"
    }
   ],
   "source": [
    "(5 > 4) or (3 == 5)"
   ]
  },
  {
   "cell_type": "code",
   "execution_count": 4,
   "id": "b4241e2c",
   "metadata": {},
   "outputs": [
    {
     "data": {
      "text/plain": [
       "False"
      ]
     },
     "execution_count": 4,
     "metadata": {},
     "output_type": "execute_result"
    }
   ],
   "source": [
    "not ((5 > 4) or (3 == 5))"
   ]
  },
  {
   "cell_type": "code",
   "execution_count": 5,
   "id": "06412ba5",
   "metadata": {},
   "outputs": [
    {
     "data": {
      "text/plain": [
       "False"
      ]
     },
     "execution_count": 5,
     "metadata": {},
     "output_type": "execute_result"
    }
   ],
   "source": [
    "(True and True) and (True == False)"
   ]
  },
  {
   "cell_type": "code",
   "execution_count": 6,
   "id": "f6160aa8",
   "metadata": {},
   "outputs": [
    {
     "data": {
      "text/plain": [
       "True"
      ]
     },
     "execution_count": 6,
     "metadata": {},
     "output_type": "execute_result"
    }
   ],
   "source": [
    "(not False) or (not True)"
   ]
  },
  {
   "cell_type": "markdown",
   "id": "a8293b9c",
   "metadata": {},
   "source": [
    "#### Q5. What are the six comparison operators?"
   ]
  },
  {
   "cell_type": "markdown",
   "id": "2565f3c4",
   "metadata": {},
   "source": [
    "+  '==' : Equal to.\n",
    "\n",
    "+  '!=' : Not equal to.\n",
    "\n",
    "+  '< ' : Less than.\n",
    "\n",
    "+  '<=' : Less than or equal to.\n",
    "\n",
    "+  '> ' : Grater than.\n",
    "\n",
    "+  '>=' : Grater than or equal to."
   ]
  },
  {
   "cell_type": "markdown",
   "id": "08d46d83",
   "metadata": {},
   "source": [
    "#### Q6. How do you tell the difference between the equal to and assignment operators?Describe a condition and when you would use one."
   ]
  },
  {
   "cell_type": "markdown",
   "id": "22f5fb56",
   "metadata": {},
   "source": [
    "+ Equal to operator used to test both quanties in two different object are equal or not.\n"
   ]
  },
  {
   "cell_type": "code",
   "execution_count": 7,
   "id": "dbcd7e92",
   "metadata": {},
   "outputs": [
    {
     "data": {
      "text/plain": [
       "False"
      ]
     },
     "execution_count": 7,
     "metadata": {},
     "output_type": "execute_result"
    }
   ],
   "source": [
    "a = 20\n",
    "b = \"yog\"\n",
    "a == b"
   ]
  },
  {
   "cell_type": "markdown",
   "id": "49feb770",
   "metadata": {},
   "source": [
    "+ Assignment operator \"=\" used to assign value to object.\n"
   ]
  },
  {
   "cell_type": "code",
   "execution_count": 8,
   "id": "4b242157",
   "metadata": {},
   "outputs": [],
   "source": [
    "a = 30"
   ]
  },
  {
   "cell_type": "code",
   "execution_count": 9,
   "id": "bbf0a85d",
   "metadata": {},
   "outputs": [
    {
     "data": {
      "text/plain": [
       "30"
      ]
     },
     "execution_count": 9,
     "metadata": {},
     "output_type": "execute_result"
    }
   ],
   "source": [
    "a"
   ]
  },
  {
   "cell_type": "markdown",
   "id": "72c795aa",
   "metadata": {},
   "source": [
    "#### Q7. Identify the three blocks in this code:\n",
    "spam = 0\n",
    "\n",
    "if spam == 10:\n",
    "\n",
    "\n",
    "    print('eggs')\n",
    "\n",
    "\n",
    "if spam > 5:\n",
    "\n",
    "\n",
    "    print('bacon')\n",
    "    \n",
    "    \n",
    "else:\n",
    "\n",
    "\n",
    "    print('ham')\n",
    "    \n",
    "    \n",
    "    print('spam')\n",
    "    \n",
    "    \n",
    "    print('spam')\n"
   ]
  },
  {
   "cell_type": "markdown",
   "id": "2abb34bf",
   "metadata": {},
   "source": [
    "1) First block caled expression.\n",
    "\n",
    "2) Second block of code is if loop.\n",
    "\n",
    "2) Third block of code is calles if- else loop."
   ]
  },
  {
   "cell_type": "markdown",
   "id": "71bc73a4",
   "metadata": {},
   "source": [
    "#### Q8. Write code that prints Hello if 1 is stored in spam, prints Howdy if 2 is stored in spam, and prints Greetings! if anything else is stored in spam."
   ]
  },
  {
   "cell_type": "code",
   "execution_count": 10,
   "id": "8b03f8b9",
   "metadata": {},
   "outputs": [
    {
     "name": "stdout",
     "output_type": "stream",
     "text": [
      "Greeting\n"
     ]
    }
   ],
   "source": [
    "spam =None\n",
    "\n",
    "if spam == 1:\n",
    "    print(\"Hello\")\n",
    "elif spam == 2:\n",
    "    print(\"Howdy\")\n",
    "elif spam == None:\n",
    "    print(\"Greeting\")"
   ]
  },
  {
   "cell_type": "markdown",
   "id": "b38a8719",
   "metadata": {},
   "source": [
    "#### Q9.If your programme is stuck in an endless loop, what keys you’ll press?"
   ]
  },
  {
   "cell_type": "markdown",
   "id": "e442a75c",
   "metadata": {},
   "source": [
    "Ctrl + c"
   ]
  },
  {
   "cell_type": "markdown",
   "id": "b336b6d6",
   "metadata": {},
   "source": [
    "#### Q10. How can you tell the difference between break and continue?"
   ]
  },
  {
   "cell_type": "markdown",
   "id": "61631d7f",
   "metadata": {},
   "source": [
    "+ The break statement will allow control to move out of current loop by skipping the execution of the remaining statements of loop.\n",
    "+ The continue statement  will allow the control to remain inside the loop by moving 1 iteration ahead. "
   ]
  },
  {
   "cell_type": "markdown",
   "id": "2ac38698",
   "metadata": {},
   "source": [
    "#### Q11. In a for loop, what is the difference between range(10), range(0, 10), and range(0, 10, 1)?"
   ]
  },
  {
   "cell_type": "code",
   "execution_count": 11,
   "id": "13f32588",
   "metadata": {},
   "outputs": [
    {
     "name": "stdout",
     "output_type": "stream",
     "text": [
      "0\n",
      "1\n",
      "2\n",
      "3\n",
      "4\n",
      "5\n",
      "6\n",
      "7\n",
      "8\n",
      "9\n"
     ]
    }
   ],
   "source": [
    "for i in range(10):\n",
    "    print(i)"
   ]
  },
  {
   "cell_type": "code",
   "execution_count": 12,
   "id": "d25ebf75",
   "metadata": {},
   "outputs": [
    {
     "name": "stdout",
     "output_type": "stream",
     "text": [
      "0\n",
      "1\n",
      "2\n",
      "3\n",
      "4\n",
      "5\n",
      "6\n",
      "7\n",
      "8\n",
      "9\n"
     ]
    }
   ],
   "source": [
    "for i in range(0,10):\n",
    "    print(i)"
   ]
  },
  {
   "cell_type": "code",
   "execution_count": 13,
   "id": "69c09f1b",
   "metadata": {},
   "outputs": [
    {
     "name": "stdout",
     "output_type": "stream",
     "text": [
      "0\n",
      "1\n",
      "2\n",
      "3\n",
      "4\n",
      "5\n",
      "6\n",
      "7\n",
      "8\n",
      "9\n"
     ]
    }
   ],
   "source": [
    "for i in range(0,10,1):\n",
    "    print(i)"
   ]
  },
  {
   "cell_type": "markdown",
   "id": "2dbea434",
   "metadata": {},
   "source": [
    "+ Technically there is no difference between range (10),  range (0, 10), and  range (0, 10, 1) all for loops, but these are the three ways of calling range function in for loop"
   ]
  },
  {
   "cell_type": "markdown",
   "id": "d75c846c",
   "metadata": {},
   "source": [
    "#### Q12. Write a short program that prints the numbers 1 to 10 using a for loop. Then write an equivalent program that prints the numbers 1 to 10 using a while loop."
   ]
  },
  {
   "cell_type": "code",
   "execution_count": 14,
   "id": "f55ca72e",
   "metadata": {},
   "outputs": [
    {
     "name": "stdout",
     "output_type": "stream",
     "text": [
      "0\n",
      "1\n",
      "2\n",
      "3\n",
      "4\n",
      "5\n",
      "6\n",
      "7\n",
      "8\n",
      "9\n"
     ]
    }
   ],
   "source": [
    "for i in range(10):\n",
    "    print(i)"
   ]
  },
  {
   "cell_type": "code",
   "execution_count": 15,
   "id": "a429d03f",
   "metadata": {},
   "outputs": [
    {
     "name": "stdout",
     "output_type": "stream",
     "text": [
      "0\n",
      "1\n",
      "2\n",
      "3\n",
      "4\n",
      "5\n",
      "6\n",
      "7\n",
      "8\n",
      "9\n"
     ]
    }
   ],
   "source": [
    "i = 0\n",
    "while(i <10):\n",
    "    print(i)\n",
    "    i = i+1"
   ]
  },
  {
   "cell_type": "code",
   "execution_count": 16,
   "id": "ce8184f5",
   "metadata": {},
   "outputs": [
    {
     "name": "stdout",
     "output_type": "stream",
     "text": [
      "0\n",
      "1\n",
      "2\n",
      "3\n",
      "4\n",
      "5\n",
      "6\n",
      "7\n",
      "8\n",
      "9\n"
     ]
    }
   ],
   "source": [
    "i = 0\n",
    "while(True):\n",
    "    if i < 10:\n",
    "        print(i)\n",
    "        i = i+1\n",
    "    else:\n",
    "        break"
   ]
  },
  {
   "cell_type": "markdown",
   "id": "646ff09c",
   "metadata": {},
   "source": [
    "#### Q13. If you had a function named bacon() inside a module named spam, how would you call it after importing spam?"
   ]
  },
  {
   "cell_type": "markdown",
   "id": "11c9c24e",
   "metadata": {},
   "source": [
    "spam.bacon()"
   ]
  },
  {
   "cell_type": "code",
   "execution_count": null,
   "id": "aa72aace",
   "metadata": {},
   "outputs": [],
   "source": []
  }
 ],
 "metadata": {
  "kernelspec": {
   "display_name": "Python 3 (ipykernel)",
   "language": "python",
   "name": "python3"
  },
  "language_info": {
   "codemirror_mode": {
    "name": "ipython",
    "version": 3
   },
   "file_extension": ".py",
   "mimetype": "text/x-python",
   "name": "python",
   "nbconvert_exporter": "python",
   "pygments_lexer": "ipython3",
   "version": "3.9.7"
  }
 },
 "nbformat": 4,
 "nbformat_minor": 5
}
