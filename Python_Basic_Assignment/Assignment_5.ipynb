{
 "cells": [
  {
   "cell_type": "markdown",
   "id": "4983ac6e",
   "metadata": {},
   "source": [
    "#### Q1. What does an empty dictionary's code look like?"
   ]
  },
  {
   "cell_type": "code",
   "execution_count": 1,
   "id": "4116643b",
   "metadata": {},
   "outputs": [],
   "source": [
    "dict1 = {}"
   ]
  },
  {
   "cell_type": "code",
   "execution_count": 2,
   "id": "b7004933",
   "metadata": {},
   "outputs": [
    {
     "data": {
      "text/plain": [
       "{}"
      ]
     },
     "execution_count": 2,
     "metadata": {},
     "output_type": "execute_result"
    }
   ],
   "source": [
    "dict1"
   ]
  },
  {
   "cell_type": "code",
   "execution_count": 3,
   "id": "93f68696",
   "metadata": {},
   "outputs": [],
   "source": [
    "dict2 = dict()"
   ]
  },
  {
   "cell_type": "code",
   "execution_count": 4,
   "id": "b109c028",
   "metadata": {},
   "outputs": [
    {
     "data": {
      "text/plain": [
       "{}"
      ]
     },
     "execution_count": 4,
     "metadata": {},
     "output_type": "execute_result"
    }
   ],
   "source": [
    "dict2"
   ]
  },
  {
   "cell_type": "markdown",
   "id": "374c3810",
   "metadata": {},
   "source": [
    "#### Q2. What is the value of a dictionary value with the key 'foo' and the value 42?"
   ]
  },
  {
   "cell_type": "code",
   "execution_count": 5,
   "id": "412af72b",
   "metadata": {},
   "outputs": [],
   "source": [
    "dict1 = {\"foo\":42}"
   ]
  },
  {
   "cell_type": "code",
   "execution_count": 6,
   "id": "3731d524",
   "metadata": {},
   "outputs": [
    {
     "data": {
      "text/plain": [
       "dict_values([42])"
      ]
     },
     "execution_count": 6,
     "metadata": {},
     "output_type": "execute_result"
    }
   ],
   "source": [
    "dict1.values() # Get values in dictionaty"
   ]
  },
  {
   "cell_type": "code",
   "execution_count": 7,
   "id": "95076d42",
   "metadata": {},
   "outputs": [
    {
     "data": {
      "text/plain": [
       "dict_keys(['foo'])"
      ]
     },
     "execution_count": 7,
     "metadata": {},
     "output_type": "execute_result"
    }
   ],
   "source": [
    "dict1.keys() # Get keys in dictionary"
   ]
  },
  {
   "cell_type": "code",
   "execution_count": 8,
   "id": "730a0b95",
   "metadata": {},
   "outputs": [
    {
     "data": {
      "text/plain": [
       "42"
      ]
     },
     "execution_count": 8,
     "metadata": {},
     "output_type": "execute_result"
    }
   ],
   "source": [
    "dict1[\"foo\"] # Get value using key"
   ]
  },
  {
   "cell_type": "markdown",
   "id": "6a705406",
   "metadata": {},
   "source": [
    "#### Q3. What is the most significant distinction between a dictionary and a list?"
   ]
  },
  {
   "cell_type": "markdown",
   "id": "1416404f",
   "metadata": {},
   "source": [
    "+ Dictionary is unordered collection of items while list is ordered collection of items."
   ]
  },
  {
   "cell_type": "code",
   "execution_count": 9,
   "id": "ee1761b9",
   "metadata": {},
   "outputs": [],
   "source": [
    "name = [\"yogesh\",\"Ganesh\",\"Amit\",\"Sonali\"]\n",
    "spam = [\"yogesh\",\"Ganesh\",\"Amit\",\"Sonali\"]"
   ]
  },
  {
   "cell_type": "code",
   "execution_count": 10,
   "id": "f096bdb9",
   "metadata": {},
   "outputs": [
    {
     "data": {
      "text/plain": [
       "True"
      ]
     },
     "execution_count": 10,
     "metadata": {},
     "output_type": "execute_result"
    }
   ],
   "source": [
    "name == spam"
   ]
  },
  {
   "cell_type": "code",
   "execution_count": 11,
   "id": "24d10cc8",
   "metadata": {},
   "outputs": [],
   "source": [
    "name = [\"yogesh\",\"Ganesh\",\"Amit\",\"Sonali\"]\n",
    "spam = [\"yogesh\",\"Amit\",\"Sonali\",\"Ganesh\"]"
   ]
  },
  {
   "cell_type": "code",
   "execution_count": 12,
   "id": "a1da85e2",
   "metadata": {},
   "outputs": [
    {
     "data": {
      "text/plain": [
       "False"
      ]
     },
     "execution_count": 12,
     "metadata": {},
     "output_type": "execute_result"
    }
   ],
   "source": [
    "name == spam "
   ]
  },
  {
   "cell_type": "markdown",
   "id": "68e2cc80",
   "metadata": {},
   "source": [
    "The both list contains same items but order of items is diffetent so result is false"
   ]
  },
  {
   "cell_type": "code",
   "execution_count": 13,
   "id": "f78b91b1",
   "metadata": {},
   "outputs": [],
   "source": [
    "friends = {\"yogesh\":\"Kolte\",\"Ganesh\":\"Landge\",\"Amit\":\"Kumbhar\",\"Sonali\":\"Dandwate\"}"
   ]
  },
  {
   "cell_type": "code",
   "execution_count": 14,
   "id": "aa0add8b",
   "metadata": {},
   "outputs": [],
   "source": [
    "friends_new = {\"Ganesh\":\"Landge\",\"Amit\":\"Kumbhar\",\"Sonali\":\"Dandwate\",\"yogesh\":\"Kolte\"}"
   ]
  },
  {
   "cell_type": "code",
   "execution_count": 15,
   "id": "c99ca594",
   "metadata": {},
   "outputs": [
    {
     "data": {
      "text/plain": [
       "True"
      ]
     },
     "execution_count": 15,
     "metadata": {},
     "output_type": "execute_result"
    }
   ],
   "source": [
    "friends == friends_new"
   ]
  },
  {
   "cell_type": "markdown",
   "id": "ad5bda2a",
   "metadata": {},
   "source": [
    "+ Odrer of items in dictionary does not matter because each item in dictionary reference by their key: value pair.\n",
    "+ Dictionaries are not ordered, they can’t be sliced like lists."
   ]
  },
  {
   "cell_type": "code",
   "execution_count": 16,
   "id": "40826346",
   "metadata": {},
   "outputs": [
    {
     "ename": "KeyError",
     "evalue": "'Pranali'",
     "output_type": "error",
     "traceback": [
      "\u001b[1;31m---------------------------------------------------------------------------\u001b[0m",
      "\u001b[1;31mKeyError\u001b[0m                                  Traceback (most recent call last)",
      "\u001b[1;32m~\\AppData\\Local\\Temp/ipykernel_2240/3051327702.py\u001b[0m in \u001b[0;36m<module>\u001b[1;34m\u001b[0m\n\u001b[1;32m----> 1\u001b[1;33m \u001b[0mfriends\u001b[0m\u001b[1;33m[\u001b[0m\u001b[1;34m\"Pranali\"\u001b[0m\u001b[1;33m]\u001b[0m\u001b[1;33m\u001b[0m\u001b[1;33m\u001b[0m\u001b[0m\n\u001b[0m",
      "\u001b[1;31mKeyError\u001b[0m: 'Pranali'"
     ]
    }
   ],
   "source": [
    "friends[\"Pranali\"]"
   ]
  },
  {
   "cell_type": "markdown",
   "id": "9eaeb146",
   "metadata": {},
   "source": [
    "If we try to access a key that does not exist in dictionary result in al KeyError"
   ]
  },
  {
   "cell_type": "code",
   "execution_count": 17,
   "id": "5ff66a01",
   "metadata": {},
   "outputs": [
    {
     "data": {
      "text/plain": [
       "4"
      ]
     },
     "execution_count": 17,
     "metadata": {},
     "output_type": "execute_result"
    }
   ],
   "source": [
    "len(name)"
   ]
  },
  {
   "cell_type": "code",
   "execution_count": 18,
   "id": "6864908b",
   "metadata": {},
   "outputs": [
    {
     "ename": "IndexError",
     "evalue": "list index out of range",
     "output_type": "error",
     "traceback": [
      "\u001b[1;31m---------------------------------------------------------------------------\u001b[0m",
      "\u001b[1;31mIndexError\u001b[0m                                Traceback (most recent call last)",
      "\u001b[1;32m~\\AppData\\Local\\Temp/ipykernel_2240/891339142.py\u001b[0m in \u001b[0;36m<module>\u001b[1;34m\u001b[0m\n\u001b[1;32m----> 1\u001b[1;33m \u001b[0mname\u001b[0m\u001b[1;33m[\u001b[0m\u001b[1;36m5\u001b[0m\u001b[1;33m]\u001b[0m\u001b[1;33m\u001b[0m\u001b[1;33m\u001b[0m\u001b[0m\n\u001b[0m",
      "\u001b[1;31mIndexError\u001b[0m: list index out of range"
     ]
    }
   ],
   "source": [
    "name[5]"
   ]
  },
  {
   "cell_type": "markdown",
   "id": "1ef2875e",
   "metadata": {},
   "source": [
    "If you provide index value grater than length of list then result will be Indexerror."
   ]
  },
  {
   "cell_type": "markdown",
   "id": "f61f6f53",
   "metadata": {},
   "source": [
    "#### Dictionary:\n",
    "\n",
    "+ Items in dictionareis are accessed by using respective key values.\n",
    "+ Keys in dictionay are immutable and must be unique, while key value can have any datatype and it is mutable.\n",
    "\n",
    "#### List:\n",
    "    \n",
    "+ List is ordered collection of items.\n",
    "+ Items in list accessed by index value of item.\n",
    "\n"
   ]
  },
  {
   "cell_type": "markdown",
   "id": "32e66adb",
   "metadata": {},
   "source": [
    "#### Q4. What happens if you try to access spam['foo'] if spam is {'bar': 100}?"
   ]
  },
  {
   "cell_type": "markdown",
   "id": "b002bfeb",
   "metadata": {},
   "source": [
    "Result KeyError"
   ]
  },
  {
   "cell_type": "markdown",
   "id": "d46e3d78",
   "metadata": {},
   "source": [
    "#### Q 5. If a dictionary is stored in spam, what is the difference between the expressions 'cat' in spam and 'cat' in spam.keys()?"
   ]
  },
  {
   "cell_type": "code",
   "execution_count": 19,
   "id": "835c1636",
   "metadata": {},
   "outputs": [],
   "source": [
    "spam = {\"cat\":\"mani\", \"age\": \"2\"}"
   ]
  },
  {
   "cell_type": "code",
   "execution_count": 20,
   "id": "6ccc9ebb",
   "metadata": {},
   "outputs": [
    {
     "data": {
      "text/plain": [
       "True"
      ]
     },
     "execution_count": 20,
     "metadata": {},
     "output_type": "execute_result"
    }
   ],
   "source": [
    "\"cat\" in spam"
   ]
  },
  {
   "cell_type": "code",
   "execution_count": 21,
   "id": "b14a0fb3",
   "metadata": {},
   "outputs": [
    {
     "data": {
      "text/plain": [
       "True"
      ]
     },
     "execution_count": 21,
     "metadata": {},
     "output_type": "execute_result"
    }
   ],
   "source": [
    "\"cat\" in spam.keys()"
   ]
  },
  {
   "cell_type": "markdown",
   "id": "a2a4a20c",
   "metadata": {},
   "source": [
    "There is no difference between above two expressions interms of execution both checks given key present in dictionary or not."
   ]
  },
  {
   "cell_type": "markdown",
   "id": "c75a53d4",
   "metadata": {},
   "source": [
    "#### Q6. If a dictionary is stored in spam, what is the difference between the expressions 'cat' in spam and 'cat' in spam.values()?"
   ]
  },
  {
   "cell_type": "code",
   "execution_count": 22,
   "id": "b11b1ad3",
   "metadata": {},
   "outputs": [],
   "source": [
    "spam = {\"cat\":\"mani\", \"age\": \"2\"}"
   ]
  },
  {
   "cell_type": "code",
   "execution_count": 23,
   "id": "62dbe765",
   "metadata": {},
   "outputs": [
    {
     "data": {
      "text/plain": [
       "True"
      ]
     },
     "execution_count": 23,
     "metadata": {},
     "output_type": "execute_result"
    }
   ],
   "source": [
    "'cat' in spam"
   ]
  },
  {
   "cell_type": "markdown",
   "id": "6c9ff00a",
   "metadata": {},
   "source": [
    " 'cat' in spam checks key with name \"cat\" present in dictionary or not"
   ]
  },
  {
   "cell_type": "code",
   "execution_count": 24,
   "id": "57ca6456",
   "metadata": {},
   "outputs": [
    {
     "data": {
      "text/plain": [
       "False"
      ]
     },
     "execution_count": 24,
     "metadata": {},
     "output_type": "execute_result"
    }
   ],
   "source": [
    "'cat' in spam.values()"
   ]
  },
  {
   "cell_type": "markdown",
   "id": "d5c737fe",
   "metadata": {},
   "source": [
    "'cat' in spam.values() check the item in dictionary having value is \"cat\""
   ]
  },
  {
   "cell_type": "markdown",
   "id": "c4e57a97",
   "metadata": {},
   "source": [
    "#### Q7. What is a shortcut for the following code?\n",
    "\n",
    "if 'color' not in spam:\n",
    "    \n",
    "    spam['color'] = 'black'\n"
   ]
  },
  {
   "cell_type": "code",
   "execution_count": 25,
   "id": "81a8902f",
   "metadata": {},
   "outputs": [
    {
     "data": {
      "text/plain": [
       "{'cat': 'mani', 'age': '2'}"
      ]
     },
     "execution_count": 25,
     "metadata": {},
     "output_type": "execute_result"
    }
   ],
   "source": [
    "spam"
   ]
  },
  {
   "cell_type": "code",
   "execution_count": 26,
   "id": "813250ae",
   "metadata": {},
   "outputs": [
    {
     "data": {
      "text/plain": [
       "'black'"
      ]
     },
     "execution_count": 26,
     "metadata": {},
     "output_type": "execute_result"
    }
   ],
   "source": [
    "spam.setdefault(\"color\", \"black\")"
   ]
  },
  {
   "cell_type": "markdown",
   "id": "a49635f2",
   "metadata": {},
   "source": [
    "setdefault(key, value) used to check given key is present in dictionary or not. If key is not present in dictionary then it will inset key and value pair provided in method setdefault as an argument."
   ]
  },
  {
   "cell_type": "code",
   "execution_count": 27,
   "id": "5236d0f7",
   "metadata": {},
   "outputs": [
    {
     "data": {
      "text/plain": [
       "{'cat': 'mani', 'age': '2', 'color': 'black'}"
      ]
     },
     "execution_count": 27,
     "metadata": {},
     "output_type": "execute_result"
    }
   ],
   "source": [
    "spam"
   ]
  },
  {
   "cell_type": "code",
   "execution_count": 28,
   "id": "93109d3d",
   "metadata": {},
   "outputs": [
    {
     "data": {
      "text/plain": [
       "'black'"
      ]
     },
     "execution_count": 28,
     "metadata": {},
     "output_type": "execute_result"
    }
   ],
   "source": [
    "spam.setdefault(\"color\", \"brown\") "
   ]
  },
  {
   "cell_type": "markdown",
   "id": "380cf622",
   "metadata": {},
   "source": [
    "If key is present dictionary then key value is not updated by setdefault(key, value) method.  "
   ]
  },
  {
   "cell_type": "code",
   "execution_count": 29,
   "id": "87c11a93",
   "metadata": {},
   "outputs": [
    {
     "data": {
      "text/plain": [
       "{'cat': 'mani', 'age': '2', 'color': 'black'}"
      ]
     },
     "execution_count": 29,
     "metadata": {},
     "output_type": "execute_result"
    }
   ],
   "source": [
    "spam"
   ]
  },
  {
   "cell_type": "markdown",
   "id": "dc8d9a40",
   "metadata": {},
   "source": [
    "#### Q8. How do you \"pretty print\" dictionary values using which module and function?"
   ]
  },
  {
   "cell_type": "markdown",
   "id": "39b8ea46",
   "metadata": {},
   "source": [
    "pretty print used to print dictionary values more sutable way "
   ]
  },
  {
   "cell_type": "code",
   "execution_count": 34,
   "id": "47f8d742",
   "metadata": {},
   "outputs": [
    {
     "name": "stdout",
     "output_type": "stream",
     "text": [
      "{'I': 1, 't': 6, ' ': 13, 'w': 2, 'a': 4, 's': 3, 'b': 1, 'r': 5, 'i': 6, 'g': 2, 'h': 3, 'c': 3, 'o': 2, 'l': 3, 'd': 3, 'y': 1, 'n': 4, 'A': 1, 'p': 1, ',': 1, 'e': 5, 'k': 2, '.': 1}\n"
     ]
    }
   ],
   "source": [
    "message = 'It was a bright cold day in April, and the clocks were striking thirteen.'\n",
    "count = {}\n",
    "\n",
    "for character in message:\n",
    "    count.setdefault(character, 0)\n",
    "    count[character] = count[character] + 1\n",
    "\n",
    "print(count)"
   ]
  },
  {
   "cell_type": "code",
   "execution_count": 33,
   "id": "b43d2430",
   "metadata": {},
   "outputs": [
    {
     "name": "stdout",
     "output_type": "stream",
     "text": [
      "{' ': 13,\n",
      " ',': 1,\n",
      " '.': 1,\n",
      " 'A': 1,\n",
      " 'I': 1,\n",
      " 'a': 4,\n",
      " 'b': 1,\n",
      " 'c': 3,\n",
      " 'd': 3,\n",
      " 'e': 5,\n",
      " 'g': 2,\n",
      " 'h': 3,\n",
      " 'i': 6,\n",
      " 'k': 2,\n",
      " 'l': 3,\n",
      " 'n': 4,\n",
      " 'o': 2,\n",
      " 'p': 1,\n",
      " 'r': 5,\n",
      " 's': 3,\n",
      " 't': 6,\n",
      " 'w': 2,\n",
      " 'y': 1}\n"
     ]
    }
   ],
   "source": [
    "import pprint\n",
    "message = 'It was a bright cold day in April, and the clocks were striking thirteen.'\n",
    "count = {}\n",
    "\n",
    "for character in message:\n",
    "    count.setdefault(character, 0)\n",
    "    count[character] = count[character] + 1\n",
    "\n",
    "pprint.pprint(count)"
   ]
  },
  {
   "cell_type": "markdown",
   "id": "05d289b7",
   "metadata": {},
   "source": [
    "The pprint.pprint() function is especially helpful when the dictionary itself contains nested lists or dictionaries."
   ]
  },
  {
   "cell_type": "code",
   "execution_count": null,
   "id": "96d5d280",
   "metadata": {},
   "outputs": [],
   "source": []
  }
 ],
 "metadata": {
  "kernelspec": {
   "display_name": "Python 3 (ipykernel)",
   "language": "python",
   "name": "python3"
  },
  "language_info": {
   "codemirror_mode": {
    "name": "ipython",
    "version": 3
   },
   "file_extension": ".py",
   "mimetype": "text/x-python",
   "name": "python",
   "nbconvert_exporter": "python",
   "pygments_lexer": "ipython3",
   "version": "3.9.7"
  }
 },
 "nbformat": 4,
 "nbformat_minor": 5
}
