{
 "cells": [
  {
   "cell_type": "markdown",
   "id": "6c1567de",
   "metadata": {},
   "source": [
    "#### Q1. To what does a relative path refer?"
   ]
  },
  {
   "cell_type": "markdown",
   "id": "7a31a2bd",
   "metadata": {},
   "source": [
    "A relative path is relative to the program’s current working directory.\n",
    "\n",
    "+ For C:\\home then relative path is .\\"
   ]
  },
  {
   "cell_type": "code",
   "execution_count": null,
   "id": "2d18fcd6",
   "metadata": {},
   "outputs": [],
   "source": []
  },
  {
   "cell_type": "markdown",
   "id": "b5285971",
   "metadata": {},
   "source": [
    "#### Q2. What does an absolute path start with your operating system?"
   ]
  },
  {
   "cell_type": "markdown",
   "id": "3becf11f",
   "metadata": {},
   "source": [
    "absolute path is always starst with the root folder."
   ]
  },
  {
   "cell_type": "markdown",
   "id": "ec9a5bbe",
   "metadata": {},
   "source": [
    "#### Q3. What do the functions os.getcwd() and os.chdir() do?"
   ]
  },
  {
   "cell_type": "code",
   "execution_count": 1,
   "id": "2b9ee152",
   "metadata": {},
   "outputs": [
    {
     "data": {
      "text/plain": [
       "'E:\\\\Complete_python\\\\Krishna\\\\Fullstack\\\\FSDS_Assignments\\\\Python_Basic_Assignment'"
      ]
     },
     "execution_count": 1,
     "metadata": {},
     "output_type": "execute_result"
    }
   ],
   "source": [
    "import os\n",
    "os.getcwd()"
   ]
  },
  {
   "cell_type": "code",
   "execution_count": 2,
   "id": "80cf50c4",
   "metadata": {},
   "outputs": [],
   "source": [
    "os.chdir(r\"E:/Complete_python/Krishna/Fullstack\")"
   ]
  },
  {
   "cell_type": "code",
   "execution_count": 3,
   "id": "6f645194",
   "metadata": {},
   "outputs": [
    {
     "data": {
      "text/plain": [
       "'E:\\\\Complete_python\\\\Krishna\\\\Fullstack'"
      ]
     },
     "execution_count": 3,
     "metadata": {},
     "output_type": "execute_result"
    }
   ],
   "source": [
    "os.getcwd()"
   ]
  },
  {
   "cell_type": "markdown",
   "id": "521f201b",
   "metadata": {},
   "source": [
    "+ __os.getcwd():__ Get current working directory path.\n",
    "+ __os.chdir()__: Change the current working directory to the specified path."
   ]
  },
  {
   "cell_type": "markdown",
   "id": "375e7ec2",
   "metadata": {},
   "source": [
    "#### Q4. What are the . and .. folders?"
   ]
  },
  {
   "cell_type": "markdown",
   "id": "6ff4d34b",
   "metadata": {},
   "source": [
    "+ The . and .. are related to relative path which specify the directory or file based on the currernt working directory.\n",
    "+ .. represent the parent directory.\n",
    "+ . represent the current directory.\n",
    "+ The dot (.) notation is commonly used when running programs that read the current directory name."
   ]
  },
  {
   "cell_type": "markdown",
   "id": "2ff05c63",
   "metadata": {},
   "source": [
    "#### Q5. In C:\\bacon\\eggs\\spam.txt, which part is the dir name, and which part is the base name?"
   ]
  },
  {
   "cell_type": "markdown",
   "id": "1d12481e",
   "metadata": {},
   "source": [
    "+ Dir name -- C:\\bacon\\eggs\\\n",
    "+ Base bname -- spam.txt"
   ]
  },
  {
   "cell_type": "code",
   "execution_count": 4,
   "id": "6bacce6a",
   "metadata": {},
   "outputs": [
    {
     "data": {
      "text/plain": [
       "'E:\\\\Complete_python\\\\Krishna\\\\Fullstack'"
      ]
     },
     "execution_count": 4,
     "metadata": {},
     "output_type": "execute_result"
    }
   ],
   "source": [
    "pwd"
   ]
  },
  {
   "cell_type": "code",
   "execution_count": 5,
   "id": "cabebd67",
   "metadata": {},
   "outputs": [],
   "source": [
    "fpaht = \"E:\\Complete_python\\Krishna\\Fullstack\\FSDS_Assignments\\Python_Basic_Assignment\\Assignment_9.ipynb\""
   ]
  },
  {
   "cell_type": "code",
   "execution_count": 6,
   "id": "c3fdf5c6",
   "metadata": {},
   "outputs": [
    {
     "data": {
      "text/plain": [
       "'E:\\\\Complete_python\\\\Krishna\\\\Fullstack\\\\FSDS_Assignments\\\\Python_Basic_Assignment'"
      ]
     },
     "execution_count": 6,
     "metadata": {},
     "output_type": "execute_result"
    }
   ],
   "source": [
    "import os\n",
    "os.path.dirname(fpaht)"
   ]
  },
  {
   "cell_type": "code",
   "execution_count": 7,
   "id": "e8405f76",
   "metadata": {},
   "outputs": [
    {
     "data": {
      "text/plain": [
       "'Assignment_9.ipynb'"
      ]
     },
     "execution_count": 7,
     "metadata": {},
     "output_type": "execute_result"
    }
   ],
   "source": [
    "os.path.basename(fpaht)"
   ]
  },
  {
   "cell_type": "code",
   "execution_count": 8,
   "id": "73919f0f",
   "metadata": {},
   "outputs": [
    {
     "data": {
      "text/plain": [
       "('E:\\\\Complete_python\\\\Krishna\\\\Fullstack\\\\FSDS_Assignments\\\\Python_Basic_Assignment',\n",
       " 'Assignment_9.ipynb')"
      ]
     },
     "execution_count": 8,
     "metadata": {},
     "output_type": "execute_result"
    }
   ],
   "source": [
    "#Split file or dir path nased on  dirname and basename\n",
    "os.path.split(fpaht)"
   ]
  },
  {
   "cell_type": "code",
   "execution_count": 9,
   "id": "582ebcc7",
   "metadata": {},
   "outputs": [
    {
     "data": {
      "text/plain": [
       "['E:',\n",
       " 'Complete_python',\n",
       " 'Krishna',\n",
       " 'Fullstack',\n",
       " 'FSDS_Assignments',\n",
       " 'Python_Basic_Assignment',\n",
       " 'Assignment_9.ipynb']"
      ]
     },
     "execution_count": 9,
     "metadata": {},
     "output_type": "execute_result"
    }
   ],
   "source": [
    "#Return list of the path\n",
    "fpaht.split(os.path.sep)"
   ]
  },
  {
   "cell_type": "markdown",
   "id": "a8d9e909",
   "metadata": {},
   "source": [
    "#### Q6. What are the three “mode” arguments that can be passed to the open() function?"
   ]
  },
  {
   "cell_type": "markdown",
   "id": "3e3f0b01",
   "metadata": {},
   "source": [
    "The three arguments passed to open function to open the file in python are as falows:\n",
    "\n",
    "+ \"r\" : Python allow user to read data from file. This mode does not allow user to write data in to the file. This is default mode of operation when read file with open function. \n",
    "\n",
    "+ \"w\" : writing mode will overwrite the existing file (truncating the file if it already exists)\n",
    "\n",
    "+ \"a\" : Append mode will append text to the end of existing file, justlike appending variable to the list in python."
   ]
  },
  {
   "cell_type": "markdown",
   "id": "886bc183",
   "metadata": {},
   "source": [
    "#### Q7. What happens if an existing file is opened in write mode?"
   ]
  },
  {
   "cell_type": "markdown",
   "id": "d87c6bb2",
   "metadata": {},
   "source": [
    "If an existing file is opened in write mode then privious content in file will be erased and new text will be overwritten.  "
   ]
  },
  {
   "cell_type": "markdown",
   "id": "94c50d1a",
   "metadata": {},
   "source": [
    "#### Q8. How do you tell the difference between read() and readlines()?"
   ]
  },
  {
   "cell_type": "markdown",
   "id": "e870d6c9",
   "metadata": {},
   "source": [
    "+ fileobj.read(): Used to read the entire contents of a file as string value.\n",
    "+ fileobj.readlines(): Used to get a list of string values from the file, one string at each line of text. "
   ]
  },
  {
   "cell_type": "markdown",
   "id": "dac4b980",
   "metadata": {},
   "source": [
    "#### Q9. What data structure does a shelf value resemble?"
   ]
  },
  {
   "cell_type": "markdown",
   "id": "a2c6c7e8",
   "metadata": {},
   "source": [
    "A self value resembale in the form of Dictionary. The shelf values have key() and value() methods."
   ]
  },
  {
   "cell_type": "code",
   "execution_count": null,
   "id": "a61fdc57",
   "metadata": {},
   "outputs": [],
   "source": []
  }
 ],
 "metadata": {
  "kernelspec": {
   "display_name": "Python 3 (ipykernel)",
   "language": "python",
   "name": "python3"
  },
  "language_info": {
   "codemirror_mode": {
    "name": "ipython",
    "version": 3
   },
   "file_extension": ".py",
   "mimetype": "text/x-python",
   "name": "python",
   "nbconvert_exporter": "python",
   "pygments_lexer": "ipython3",
   "version": "3.9.7"
  }
 },
 "nbformat": 4,
 "nbformat_minor": 5
}
