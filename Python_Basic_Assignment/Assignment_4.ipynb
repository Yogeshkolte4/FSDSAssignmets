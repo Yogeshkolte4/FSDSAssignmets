{
 "cells": [
  {
   "cell_type": "markdown",
   "id": "2526a967",
   "metadata": {},
   "source": [
    "#### Q1. What exactly is []?"
   ]
  },
  {
   "cell_type": "markdown",
   "id": "a75edbcf",
   "metadata": {},
   "source": [
    "[] used to create empty list in python. It is an odered heterogeneous collection of object."
   ]
  },
  {
   "cell_type": "markdown",
   "id": "5e8f04fd",
   "metadata": {},
   "source": [
    "#### Q2. In a list of values stored in a variable called spam, how would you assign the value 'hello' as the third value? (Assume [2, 4, 6, 8, 10] are in spam.)"
   ]
  },
  {
   "cell_type": "code",
   "execution_count": 1,
   "id": "f5e8fb53",
   "metadata": {},
   "outputs": [],
   "source": [
    "spam = [2,4,6,8,10]"
   ]
  },
  {
   "cell_type": "code",
   "execution_count": 2,
   "id": "90558369",
   "metadata": {},
   "outputs": [],
   "source": [
    "spam[2] = \"hello\""
   ]
  },
  {
   "cell_type": "code",
   "execution_count": 3,
   "id": "48a22624",
   "metadata": {},
   "outputs": [
    {
     "data": {
      "text/plain": [
       "[2, 4, 'hello', 8, 10]"
      ]
     },
     "execution_count": 3,
     "metadata": {},
     "output_type": "execute_result"
    }
   ],
   "source": [
    "spam #laist is mutable object"
   ]
  },
  {
   "cell_type": "markdown",
   "id": "db2537d1",
   "metadata": {},
   "source": [
    "Let's pretend the spam includes the list ['a', 'b', 'c', 'd'] for the next three queries.\n",
    "\n",
    "#### Q3. What is the value of spam[int(int('3' * 2) / 11)]?"
   ]
  },
  {
   "cell_type": "code",
   "execution_count": 4,
   "id": "6bf9d0ac",
   "metadata": {},
   "outputs": [],
   "source": [
    "spam = [\"a\",\"b\",\"c\",\"d\"]"
   ]
  },
  {
   "cell_type": "code",
   "execution_count": 5,
   "id": "7c0f1b4a",
   "metadata": {},
   "outputs": [
    {
     "data": {
      "text/plain": [
       "'d'"
      ]
     },
     "execution_count": 5,
     "metadata": {},
     "output_type": "execute_result"
    }
   ],
   "source": [
    "spam[int(int(\"3\"*2)/11)]"
   ]
  },
  {
   "cell_type": "markdown",
   "id": "ee9ccd1e",
   "metadata": {},
   "source": [
    "#### Q4. What is the value of spam[-1]?"
   ]
  },
  {
   "cell_type": "code",
   "execution_count": 6,
   "id": "a7e5ddc3",
   "metadata": {},
   "outputs": [
    {
     "data": {
      "text/plain": [
       "'d'"
      ]
     },
     "execution_count": 6,
     "metadata": {},
     "output_type": "execute_result"
    }
   ],
   "source": [
    "spam[-1]"
   ]
  },
  {
   "cell_type": "markdown",
   "id": "d3acaca2",
   "metadata": {},
   "source": [
    "#### Q5. What is the value of spam[:2]?"
   ]
  },
  {
   "cell_type": "code",
   "execution_count": 7,
   "id": "8bd1d6b3",
   "metadata": {},
   "outputs": [
    {
     "data": {
      "text/plain": [
       "['a', 'b']"
      ]
     },
     "execution_count": 7,
     "metadata": {},
     "output_type": "execute_result"
    }
   ],
   "source": [
    "spam[:2]"
   ]
  },
  {
   "cell_type": "markdown",
   "id": "b61e8400",
   "metadata": {},
   "source": [
    "Let's pretend bacon has the list [3.14, 'cat,' 11, 'cat,' True] for the next three questions."
   ]
  },
  {
   "cell_type": "code",
   "execution_count": 8,
   "id": "a9993d4e",
   "metadata": {},
   "outputs": [],
   "source": [
    "bacon = [3.14, 'cat', 11, 'cat', True] "
   ]
  },
  {
   "cell_type": "markdown",
   "id": "71eeebf0",
   "metadata": {},
   "source": [
    "#### Q6. What is the value of bacon.index('cat')?"
   ]
  },
  {
   "cell_type": "code",
   "execution_count": 9,
   "id": "1c4e711d",
   "metadata": {},
   "outputs": [
    {
     "data": {
      "text/plain": [
       "1"
      ]
     },
     "execution_count": 9,
     "metadata": {},
     "output_type": "execute_result"
    }
   ],
   "source": [
    "bacon.index(\"cat\")"
   ]
  },
  {
   "cell_type": "markdown",
   "id": "0ec8ac56",
   "metadata": {},
   "source": [
    "#### Q7. How does bacon.append(99) change the look of the list value in bacon?"
   ]
  },
  {
   "cell_type": "code",
   "execution_count": 10,
   "id": "2f1aad0c",
   "metadata": {},
   "outputs": [],
   "source": [
    "bacon.append(99)"
   ]
  },
  {
   "cell_type": "code",
   "execution_count": 11,
   "id": "ce0ccf20",
   "metadata": {},
   "outputs": [
    {
     "data": {
      "text/plain": [
       "[3.14, 'cat', 11, 'cat', True, 99]"
      ]
     },
     "execution_count": 11,
     "metadata": {},
     "output_type": "execute_result"
    }
   ],
   "source": [
    "bacon"
   ]
  },
  {
   "cell_type": "markdown",
   "id": "d0154fae",
   "metadata": {},
   "source": [
    "#### Q8. How does bacon.remove('cat') change the look of the list in bacon?"
   ]
  },
  {
   "cell_type": "code",
   "execution_count": 12,
   "id": "2ef50fca",
   "metadata": {},
   "outputs": [],
   "source": [
    "bacon.remove(\"cat\")"
   ]
  },
  {
   "cell_type": "code",
   "execution_count": 13,
   "id": "b47e03f4",
   "metadata": {},
   "outputs": [
    {
     "data": {
      "text/plain": [
       "[3.14, 11, 'cat', True, 99]"
      ]
     },
     "execution_count": 13,
     "metadata": {},
     "output_type": "execute_result"
    }
   ],
   "source": [
    "bacon"
   ]
  },
  {
   "cell_type": "markdown",
   "id": "6db67083",
   "metadata": {},
   "source": [
    "#### Q9. What are the list concatenation and list replication operators?"
   ]
  },
  {
   "cell_type": "code",
   "execution_count": 14,
   "id": "5cadb701",
   "metadata": {},
   "outputs": [],
   "source": [
    "l1 = [1,2,3]\n",
    "l2 = [11,22,33]"
   ]
  },
  {
   "cell_type": "code",
   "execution_count": 15,
   "id": "9fbbd153",
   "metadata": {},
   "outputs": [
    {
     "data": {
      "text/plain": [
       "[1, 2, 3, 11, 22, 33]"
      ]
     },
     "execution_count": 15,
     "metadata": {},
     "output_type": "execute_result"
    }
   ],
   "source": [
    "l1+l2"
   ]
  },
  {
   "cell_type": "markdown",
   "id": "615cdccb",
   "metadata": {},
   "source": [
    "+ \"+\" is list concatenation operatoe"
   ]
  },
  {
   "cell_type": "code",
   "execution_count": 16,
   "id": "f3e489b0",
   "metadata": {},
   "outputs": [
    {
     "data": {
      "text/plain": [
       "[1, 2, 3, 1, 2, 3, 1, 2, 3]"
      ]
     },
     "execution_count": 16,
     "metadata": {},
     "output_type": "execute_result"
    }
   ],
   "source": [
    "l1*3"
   ]
  },
  {
   "cell_type": "markdown",
   "id": "73f8b3dd",
   "metadata": {},
   "source": [
    "+ \"*\" is the list replication operator"
   ]
  },
  {
   "cell_type": "markdown",
   "id": "278f7645",
   "metadata": {},
   "source": [
    "#### Q10. What is difference between the list methods append() and insert()?"
   ]
  },
  {
   "cell_type": "markdown",
   "id": "caba4d94",
   "metadata": {},
   "source": [
    "+ list.append(): Method append object at the end of the list.\n",
    "+ list.insert(): Insert a object  at before index. "
   ]
  },
  {
   "cell_type": "markdown",
   "id": "9090391b",
   "metadata": {},
   "source": [
    "#### Q11. What are the two methods for removing items from a list?"
   ]
  },
  {
   "cell_type": "markdown",
   "id": "559c83ea",
   "metadata": {},
   "source": [
    "+ list.remove(): Used to remove the first occurrence of item in list.\n"
   ]
  },
  {
   "cell_type": "code",
   "execution_count": 17,
   "id": "bf8818b6",
   "metadata": {},
   "outputs": [
    {
     "data": {
      "text/plain": [
       "[1, 2, 3]"
      ]
     },
     "execution_count": 17,
     "metadata": {},
     "output_type": "execute_result"
    }
   ],
   "source": [
    "l1"
   ]
  },
  {
   "cell_type": "code",
   "execution_count": 18,
   "id": "01eaf29b",
   "metadata": {},
   "outputs": [],
   "source": [
    "l1.remove(1)"
   ]
  },
  {
   "cell_type": "code",
   "execution_count": 19,
   "id": "e578e4cb",
   "metadata": {},
   "outputs": [
    {
     "data": {
      "text/plain": [
       "[2, 3]"
      ]
     },
     "execution_count": 19,
     "metadata": {},
     "output_type": "execute_result"
    }
   ],
   "source": [
    "l1"
   ]
  },
  {
   "cell_type": "markdown",
   "id": "bd9f71fd",
   "metadata": {},
   "source": [
    "+ list.pop(): Used to remove and return last element in te list."
   ]
  },
  {
   "cell_type": "code",
   "execution_count": 20,
   "id": "c515d89a",
   "metadata": {},
   "outputs": [
    {
     "data": {
      "text/plain": [
       "[2, 3]"
      ]
     },
     "execution_count": 20,
     "metadata": {},
     "output_type": "execute_result"
    }
   ],
   "source": [
    "l1"
   ]
  },
  {
   "cell_type": "code",
   "execution_count": 21,
   "id": "031f01e3",
   "metadata": {},
   "outputs": [
    {
     "data": {
      "text/plain": [
       "3"
      ]
     },
     "execution_count": 21,
     "metadata": {},
     "output_type": "execute_result"
    }
   ],
   "source": [
    "l1.pop()"
   ]
  },
  {
   "cell_type": "code",
   "execution_count": 22,
   "id": "ff4a24c1",
   "metadata": {},
   "outputs": [
    {
     "data": {
      "text/plain": [
       "[2]"
      ]
     },
     "execution_count": 22,
     "metadata": {},
     "output_type": "execute_result"
    }
   ],
   "source": [
    "l1"
   ]
  },
  {
   "cell_type": "markdown",
   "id": "f8649b35",
   "metadata": {},
   "source": [
    "#### Q12. Describe how list values and string values are identical."
   ]
  },
  {
   "cell_type": "markdown",
   "id": "a5484942",
   "metadata": {},
   "source": [
    "+ List and str are ordered sequence in python.\n",
    "+ List is mutable object however str is immutable object.\n",
    "+ List can hold object of different datatype where as datatype of all element in string is str. "
   ]
  },
  {
   "cell_type": "code",
   "execution_count": 23,
   "id": "95b5ee17",
   "metadata": {},
   "outputs": [],
   "source": [
    "l1 = [1,2,3,4,5,6]"
   ]
  },
  {
   "cell_type": "code",
   "execution_count": 24,
   "id": "b7a1673e",
   "metadata": {},
   "outputs": [
    {
     "data": {
      "text/plain": [
       "5"
      ]
     },
     "execution_count": 24,
     "metadata": {},
     "output_type": "execute_result"
    }
   ],
   "source": [
    "l1[4]"
   ]
  },
  {
   "cell_type": "code",
   "execution_count": 25,
   "id": "e181cccf",
   "metadata": {},
   "outputs": [],
   "source": [
    "s = \"Radar and Satalite Meteorology\""
   ]
  },
  {
   "cell_type": "code",
   "execution_count": 26,
   "id": "5bf1b2a7",
   "metadata": {},
   "outputs": [
    {
     "data": {
      "text/plain": [
       "'r'"
      ]
     },
     "execution_count": 26,
     "metadata": {},
     "output_type": "execute_result"
    }
   ],
   "source": [
    "s[4]"
   ]
  },
  {
   "cell_type": "markdown",
   "id": "f8c1fbb5",
   "metadata": {},
   "source": [
    "#### Q13. What's the difference between tuples and lists?"
   ]
  },
  {
   "cell_type": "markdown",
   "id": "13069d96",
   "metadata": {},
   "source": [
    "+ Tuple and list are two built-in ordered data structure in python.\n",
    "+ Both contain heterogeneous values such as integers, floats, strings, tuples, lists, and dictionaries.\n",
    "+ Tuple is immutable data type where as list is mutable dats type."
   ]
  },
  {
   "cell_type": "code",
   "execution_count": 27,
   "id": "1c29a05b",
   "metadata": {},
   "outputs": [],
   "source": [
    "t = (1,2,3,\"sun\", {\"car\":\"land rover\"},[\"a\",\"g\",\"t\"])"
   ]
  },
  {
   "cell_type": "code",
   "execution_count": 28,
   "id": "1c053862",
   "metadata": {},
   "outputs": [
    {
     "data": {
      "text/plain": [
       "'sun'"
      ]
     },
     "execution_count": 28,
     "metadata": {},
     "output_type": "execute_result"
    }
   ],
   "source": [
    "t[3]"
   ]
  },
  {
   "cell_type": "code",
   "execution_count": 29,
   "id": "97745c38",
   "metadata": {},
   "outputs": [
    {
     "data": {
      "text/plain": [
       "2"
      ]
     },
     "execution_count": 29,
     "metadata": {},
     "output_type": "execute_result"
    }
   ],
   "source": [
    "t.index(3)"
   ]
  },
  {
   "cell_type": "code",
   "execution_count": 30,
   "id": "316c52ac",
   "metadata": {},
   "outputs": [],
   "source": [
    "l2 = [1,2,3,\"sun\", {\"car\":\"land rover\"},[\"a\",\"g\",\"t\"]]"
   ]
  },
  {
   "cell_type": "code",
   "execution_count": 31,
   "id": "71843c2f",
   "metadata": {},
   "outputs": [
    {
     "data": {
      "text/plain": [
       "1"
      ]
     },
     "execution_count": 31,
     "metadata": {},
     "output_type": "execute_result"
    }
   ],
   "source": [
    "l2.count(3)"
   ]
  },
  {
   "cell_type": "code",
   "execution_count": 32,
   "id": "c21a722e",
   "metadata": {},
   "outputs": [
    {
     "data": {
      "text/plain": [
       "{'car': 'land rover'}"
      ]
     },
     "execution_count": 32,
     "metadata": {},
     "output_type": "execute_result"
    }
   ],
   "source": [
    "l2[4]"
   ]
  },
  {
   "cell_type": "code",
   "execution_count": 33,
   "id": "2cfd8249",
   "metadata": {},
   "outputs": [],
   "source": [
    "l2.append(\"earth\")"
   ]
  },
  {
   "cell_type": "code",
   "execution_count": 34,
   "id": "653d8ba0",
   "metadata": {},
   "outputs": [
    {
     "data": {
      "text/plain": [
       "[1, 2, 3, 'sun', {'car': 'land rover'}, ['a', 'g', 't'], 'earth']"
      ]
     },
     "execution_count": 34,
     "metadata": {},
     "output_type": "execute_result"
    }
   ],
   "source": [
    "l2"
   ]
  },
  {
   "cell_type": "code",
   "execution_count": 35,
   "id": "f888f049",
   "metadata": {},
   "outputs": [],
   "source": [
    "l2[2] = \"moon\""
   ]
  },
  {
   "cell_type": "code",
   "execution_count": 36,
   "id": "3ae1cf46",
   "metadata": {},
   "outputs": [
    {
     "data": {
      "text/plain": [
       "[1, 2, 'moon', 'sun', {'car': 'land rover'}, ['a', 'g', 't'], 'earth']"
      ]
     },
     "execution_count": 36,
     "metadata": {},
     "output_type": "execute_result"
    }
   ],
   "source": [
    "l2"
   ]
  },
  {
   "cell_type": "code",
   "execution_count": 37,
   "id": "acd4f3d0",
   "metadata": {},
   "outputs": [
    {
     "ename": "TypeError",
     "evalue": "'tuple' object does not support item assignment",
     "output_type": "error",
     "traceback": [
      "\u001b[1;31m---------------------------------------------------------------------------\u001b[0m",
      "\u001b[1;31mTypeError\u001b[0m                                 Traceback (most recent call last)",
      "\u001b[1;32m~\\AppData\\Local\\Temp/ipykernel_18484/3491606767.py\u001b[0m in \u001b[0;36m<module>\u001b[1;34m\u001b[0m\n\u001b[1;32m----> 1\u001b[1;33m \u001b[0mt\u001b[0m\u001b[1;33m[\u001b[0m\u001b[1;36m2\u001b[0m\u001b[1;33m]\u001b[0m \u001b[1;33m=\u001b[0m \u001b[1;34m\"moon\"\u001b[0m\u001b[1;33m\u001b[0m\u001b[1;33m\u001b[0m\u001b[0m\n\u001b[0m",
      "\u001b[1;31mTypeError\u001b[0m: 'tuple' object does not support item assignment"
     ]
    }
   ],
   "source": [
    "t[2] = \"moon\""
   ]
  },
  {
   "cell_type": "markdown",
   "id": "ea6c976b",
   "metadata": {},
   "source": [
    "#### Q14. How do you type a tuple value that only contains the integer 42?"
   ]
  },
  {
   "cell_type": "code",
   "execution_count": 38,
   "id": "0a99ada3",
   "metadata": {},
   "outputs": [],
   "source": [
    "t1 = (42)"
   ]
  },
  {
   "cell_type": "code",
   "execution_count": 39,
   "id": "fb5d7a14",
   "metadata": {},
   "outputs": [
    {
     "data": {
      "text/plain": [
       "42"
      ]
     },
     "execution_count": 39,
     "metadata": {},
     "output_type": "execute_result"
    }
   ],
   "source": [
    "t1"
   ]
  },
  {
   "cell_type": "markdown",
   "id": "2ec511eb",
   "metadata": {},
   "source": [
    "#### Q15. How do you get a list value's tuple form? How do you get a tuple value's list form?"
   ]
  },
  {
   "cell_type": "code",
   "execution_count": 40,
   "id": "95ea0f97",
   "metadata": {},
   "outputs": [],
   "source": [
    "l3 = [3,4,5,6,\"sudh\",\"python\"]"
   ]
  },
  {
   "cell_type": "code",
   "execution_count": 41,
   "id": "4b237bb7",
   "metadata": {},
   "outputs": [
    {
     "data": {
      "text/plain": [
       "[3, 4, 5, 6, 'sudh', 'python']"
      ]
     },
     "execution_count": 41,
     "metadata": {},
     "output_type": "execute_result"
    }
   ],
   "source": [
    "l3"
   ]
  },
  {
   "cell_type": "code",
   "execution_count": 42,
   "id": "38c129ac",
   "metadata": {},
   "outputs": [],
   "source": [
    "a = l3[3]"
   ]
  },
  {
   "cell_type": "code",
   "execution_count": 43,
   "id": "45e06571",
   "metadata": {},
   "outputs": [
    {
     "data": {
      "text/plain": [
       "6"
      ]
     },
     "execution_count": 43,
     "metadata": {},
     "output_type": "execute_result"
    }
   ],
   "source": [
    "a"
   ]
  },
  {
   "cell_type": "code",
   "execution_count": null,
   "id": "59c6b665",
   "metadata": {},
   "outputs": [],
   "source": []
  },
  {
   "cell_type": "code",
   "execution_count": 44,
   "id": "e99e8c87",
   "metadata": {},
   "outputs": [],
   "source": [
    "t3 = tuple(l3)"
   ]
  },
  {
   "cell_type": "code",
   "execution_count": 45,
   "id": "1fd24e53",
   "metadata": {},
   "outputs": [
    {
     "data": {
      "text/plain": [
       "(3, 4, 5, 6, 'sudh', 'python')"
      ]
     },
     "execution_count": 45,
     "metadata": {},
     "output_type": "execute_result"
    }
   ],
   "source": [
    "t3"
   ]
  },
  {
   "cell_type": "code",
   "execution_count": 46,
   "id": "19aff37c",
   "metadata": {},
   "outputs": [],
   "source": [
    "l3 = list(t3)"
   ]
  },
  {
   "cell_type": "code",
   "execution_count": 47,
   "id": "684c67ee",
   "metadata": {},
   "outputs": [
    {
     "data": {
      "text/plain": [
       "[3, 4, 5, 6, 'sudh', 'python']"
      ]
     },
     "execution_count": 47,
     "metadata": {},
     "output_type": "execute_result"
    }
   ],
   "source": [
    "l3"
   ]
  },
  {
   "cell_type": "markdown",
   "id": "c7981b8e",
   "metadata": {},
   "source": [
    "#### Q16. Variables that \"contain\" list values are not necessarily lists themselves. Instead, what do they contain?"
   ]
  },
  {
   "cell_type": "markdown",
   "id": "15260bde",
   "metadata": {},
   "source": [
    "item in the list"
   ]
  },
  {
   "cell_type": "markdown",
   "id": "83953b3e",
   "metadata": {},
   "source": [
    "#### Q17. How do you distinguish between copy.copy() and copy.deepcopy()?"
   ]
  },
  {
   "cell_type": "code",
   "execution_count": 48,
   "id": "60338fcf",
   "metadata": {},
   "outputs": [],
   "source": [
    "import copy"
   ]
  },
  {
   "cell_type": "markdown",
   "id": "cfc20d6f",
   "metadata": {},
   "source": [
    "A deep copy constructs a new compound object and then, recursively, inserts copies into it of the objects found in the original."
   ]
  },
  {
   "cell_type": "code",
   "execution_count": 49,
   "id": "59a3e237",
   "metadata": {},
   "outputs": [],
   "source": [
    "l1 = [55,66,77,88]\n",
    "l2 = copy.deepcopy(l1)"
   ]
  },
  {
   "cell_type": "code",
   "execution_count": 50,
   "id": "f241b1d7",
   "metadata": {},
   "outputs": [
    {
     "data": {
      "text/plain": [
       "[55, 66, 77, 88]"
      ]
     },
     "execution_count": 50,
     "metadata": {},
     "output_type": "execute_result"
    }
   ],
   "source": [
    "l1"
   ]
  },
  {
   "cell_type": "code",
   "execution_count": 51,
   "id": "efa3e908",
   "metadata": {},
   "outputs": [
    {
     "data": {
      "text/plain": [
       "[55, 66, 77, 88]"
      ]
     },
     "execution_count": 51,
     "metadata": {},
     "output_type": "execute_result"
    }
   ],
   "source": [
    "l2"
   ]
  },
  {
   "cell_type": "code",
   "execution_count": 52,
   "id": "7d18ec07",
   "metadata": {},
   "outputs": [],
   "source": [
    "l1[1] = \"Deepcopy\""
   ]
  },
  {
   "cell_type": "code",
   "execution_count": 53,
   "id": "54fec492",
   "metadata": {},
   "outputs": [
    {
     "data": {
      "text/plain": [
       "[55, 'Deepcopy', 77, 88]"
      ]
     },
     "execution_count": 53,
     "metadata": {},
     "output_type": "execute_result"
    }
   ],
   "source": [
    "l1"
   ]
  },
  {
   "cell_type": "code",
   "execution_count": 54,
   "id": "1bcd07d5",
   "metadata": {},
   "outputs": [
    {
     "data": {
      "text/plain": [
       "[55, 66, 77, 88]"
      ]
     },
     "execution_count": 54,
     "metadata": {},
     "output_type": "execute_result"
    }
   ],
   "source": [
    "l2"
   ]
  },
  {
   "cell_type": "markdown",
   "id": "b0963166",
   "metadata": {},
   "source": [
    "copy.copy(): Makes a shallow copy of list. It make a duplicate copy of a mutable value like a list or dictionary, not just a copy of a reference."
   ]
  },
  {
   "cell_type": "code",
   "execution_count": 55,
   "id": "8e966490",
   "metadata": {},
   "outputs": [
    {
     "name": "stdout",
     "output_type": "stream",
     "text": [
      "Old list: [[1, 2, 3], [4, 5, 6], [7, 8, 9]]\n",
      "New list: [[1, 2, 3], [4, 5, 6], [7, 8, 9]]\n"
     ]
    }
   ],
   "source": [
    "import copy\n",
    "\n",
    "old_list = [[1, 2, 3], [4, 5, 6], [7, 8, 9]]\n",
    "new_list = copy.copy(old_list)\n",
    "\n",
    "print(\"Old list:\", old_list)\n",
    "print(\"New list:\", new_list)"
   ]
  },
  {
   "cell_type": "code",
   "execution_count": 56,
   "id": "c13bb647",
   "metadata": {},
   "outputs": [
    {
     "data": {
      "text/plain": [
       "1600846215424"
      ]
     },
     "execution_count": 56,
     "metadata": {},
     "output_type": "execute_result"
    }
   ],
   "source": [
    "id(old_list)"
   ]
  },
  {
   "cell_type": "code",
   "execution_count": 57,
   "id": "6fe782a6",
   "metadata": {},
   "outputs": [
    {
     "data": {
      "text/plain": [
       "1600846310720"
      ]
     },
     "execution_count": 57,
     "metadata": {},
     "output_type": "execute_result"
    }
   ],
   "source": [
    "id(new_list)"
   ]
  },
  {
   "cell_type": "code",
   "execution_count": 58,
   "id": "8693897d",
   "metadata": {},
   "outputs": [],
   "source": [
    "old_list.append([44,55,66])"
   ]
  },
  {
   "cell_type": "code",
   "execution_count": 59,
   "id": "e3336191",
   "metadata": {},
   "outputs": [
    {
     "name": "stdout",
     "output_type": "stream",
     "text": [
      "Old list [[1, 2, 3], [4, 5, 6], [7, 8, 9], [44, 55, 66]]\n"
     ]
    }
   ],
   "source": [
    "print(\"Old list\", old_list)"
   ]
  },
  {
   "cell_type": "code",
   "execution_count": 60,
   "id": "c49ddee4",
   "metadata": {},
   "outputs": [
    {
     "name": "stdout",
     "output_type": "stream",
     "text": [
      "New list [[1, 2, 3], [4, 5, 6], [7, 8, 9]]\n"
     ]
    }
   ],
   "source": [
    "print(\"New list\", new_list)"
   ]
  },
  {
   "cell_type": "markdown",
   "id": "5d6629c3",
   "metadata": {},
   "source": [
    "In above program we have created a shallow copy of old_list. The new_list contains the reference to origional nested objects stored in old_list. Then we have added the new list in the old list . The new sublist will not copied in new_list."
   ]
  },
  {
   "cell_type": "code",
   "execution_count": 61,
   "id": "dbc6d46d",
   "metadata": {},
   "outputs": [],
   "source": [
    "old_list[0][1] = 2233"
   ]
  },
  {
   "cell_type": "code",
   "execution_count": 62,
   "id": "47b718db",
   "metadata": {},
   "outputs": [
    {
     "name": "stdout",
     "output_type": "stream",
     "text": [
      "Old list [[1, 2233, 3], [4, 5, 6], [7, 8, 9], [44, 55, 66]]\n"
     ]
    }
   ],
   "source": [
    "print(\"Old list\", old_list)"
   ]
  },
  {
   "cell_type": "code",
   "execution_count": 63,
   "id": "e9a7bc30",
   "metadata": {},
   "outputs": [
    {
     "name": "stdout",
     "output_type": "stream",
     "text": [
      "New List [[1, 2233, 3], [4, 5, 6], [7, 8, 9]]\n"
     ]
    }
   ],
   "source": [
    "print(\"New List\",new_list)"
   ]
  },
  {
   "cell_type": "markdown",
   "id": "c3bc5a51",
   "metadata": {},
   "source": [
    "Here we changed the one of element in origional list and new_list which  reference the  old_list so change in old_list is reflected in new_list"
   ]
  },
  {
   "cell_type": "code",
   "execution_count": null,
   "id": "55ccbb3c",
   "metadata": {},
   "outputs": [],
   "source": []
  },
  {
   "cell_type": "code",
   "execution_count": null,
   "id": "8db09970",
   "metadata": {},
   "outputs": [],
   "source": []
  }
 ],
 "metadata": {
  "kernelspec": {
   "display_name": "Python 3 (ipykernel)",
   "language": "python",
   "name": "python3"
  },
  "language_info": {
   "codemirror_mode": {
    "name": "ipython",
    "version": 3
   },
   "file_extension": ".py",
   "mimetype": "text/x-python",
   "name": "python",
   "nbconvert_exporter": "python",
   "pygments_lexer": "ipython3",
   "version": "3.9.7"
  }
 },
 "nbformat": 4,
 "nbformat_minor": 5
}
