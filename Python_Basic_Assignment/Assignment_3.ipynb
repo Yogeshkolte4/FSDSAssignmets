{
 "cells": [
  {
   "cell_type": "markdown",
   "id": "9374b9e8",
   "metadata": {},
   "source": [
    "#### Q1. Why are functions advantageous to have in your programs?"
   ]
  },
  {
   "cell_type": "markdown",
   "id": "f1d93191",
   "metadata": {},
   "source": [
    "+ Function used to group the program code in to small group or bolck to  perform the perticular task.\n",
    "+ Function allows readability of code which allows user to debug the program faster and better way.\n",
    "+ Add resuability of code: We can use same function when we want's to perform similer kind of task no need write entier block of code again and again.\n",
    "+ It encourages us to call the same method with different inputs over multiple times."
   ]
  },
  {
   "cell_type": "markdown",
   "id": "7064519f",
   "metadata": {},
   "source": [
    "#### Q2. When does the code in a function run: when it's specified or when it's called?"
   ]
  },
  {
   "cell_type": "markdown",
   "id": "6c9767ce",
   "metadata": {},
   "source": [
    "+ def creates a function object and assigns it to a name.\n",
    "+ User block of code in function by calling the function with their arguments.\n",
    "+ Return sends a result object back to the caller\n",
    "+ When a function is called, the caller stops until the function finishes its work and returns control to the caller. Functions that compute a value send it back to the caller with a return statement."
   ]
  },
  {
   "cell_type": "markdown",
   "id": "32765776",
   "metadata": {},
   "source": [
    "#### Q3. What statement creates a function?"
   ]
  },
  {
   "cell_type": "markdown",
   "id": "341bbeae",
   "metadata": {},
   "source": [
    "The inbuilt key word in python \"def\"  with the \"functionname\" is used to create function.\n",
    "\n",
    "Ex:\n",
    "    \n",
    "def add_no(a,b):\n",
    "\n",
    "    \"\"\"Add two numbers\"\"\"\n",
    "    \n",
    "    return a+b\n",
    "Where add_no is a function name . \"a\" and \"b\" are two arguments passed to function."
   ]
  },
  {
   "cell_type": "code",
   "execution_count": 1,
   "id": "a800ff05",
   "metadata": {},
   "outputs": [],
   "source": [
    "#Define function\n",
    "def add_no(a,b):\n",
    "    return a+b\n",
    "    "
   ]
  },
  {
   "cell_type": "code",
   "execution_count": 2,
   "id": "09f3f229",
   "metadata": {},
   "outputs": [],
   "source": [
    "# Call function\n",
    "c = add_no(10, 46)"
   ]
  },
  {
   "cell_type": "code",
   "execution_count": 3,
   "id": "05c796e9",
   "metadata": {},
   "outputs": [
    {
     "data": {
      "text/plain": [
       "56"
      ]
     },
     "execution_count": 3,
     "metadata": {},
     "output_type": "execute_result"
    }
   ],
   "source": [
    "c"
   ]
  },
  {
   "cell_type": "markdown",
   "id": "1fbcb7b0",
   "metadata": {},
   "source": [
    "#### Q4. What is the difference between a function and a function call?"
   ]
  },
  {
   "cell_type": "markdown",
   "id": "e1c17a29",
   "metadata": {},
   "source": [
    "In function defination we bind block of code in to function whrer as in function call we call function to get result from function. "
   ]
  },
  {
   "cell_type": "markdown",
   "id": "bd68b739",
   "metadata": {},
   "source": [
    "#### Q5. How many global scopes are there in a Python program? How many local scopes?"
   ]
  },
  {
   "cell_type": "markdown",
   "id": "a760c43c",
   "metadata": {},
   "source": [
    "+ There are three scopes present in the python Builtin(predefined functions), Global and lacal.\n",
    "+ There are two global scopes avalible in python whose scope limited to module.\n",
    "+ The variable is created at the top level of module file and variable decleare using global keyword has global scope.\n",
    "+ One locale scope present in python.The variable name assigned inside a function def has scope limited to function only."
   ]
  },
  {
   "cell_type": "code",
   "execution_count": 4,
   "id": "f7ede556",
   "metadata": {},
   "outputs": [
    {
     "name": "stdout",
     "output_type": "stream",
     "text": [
      "73\n"
     ]
    }
   ],
   "source": [
    "#Global scope\n",
    "x = 23 # x and function assigned at top level of module : global\n",
    "\n",
    "def add_no(y):\n",
    "    #local scope\n",
    "    z = x + y # x is not assigned in function so x has global scope.\n",
    "    return z # y and z are local variable whose scope limited within the function.\n",
    "\n",
    "print(add_no(y = 50))"
   ]
  },
  {
   "cell_type": "markdown",
   "id": "cc21d73e",
   "metadata": {},
   "source": [
    "#### Q6. What happens to variables in a local scope when the function call returns?"
   ]
  },
  {
   "cell_type": "markdown",
   "id": "5202db0f",
   "metadata": {},
   "source": [
    "+ The local variables serve as temporary names you need only while a function is running."
   ]
  },
  {
   "cell_type": "markdown",
   "id": "31386060",
   "metadata": {},
   "source": [
    "#### Q7. What is the concept of a return value? Is it possible to have a return value in an expression?"
   ]
  },
  {
   "cell_type": "markdown",
   "id": "e08841be",
   "metadata": {},
   "source": [
    "+ The Python return statement can show up in function bodies; it ends the function call and sends a result back to the caller. \n",
    "+ Return is optional if it's not present function return None object autometically.\n",
    "+ Return statement send back the value of call expression.\n",
    "\n",
    "+ In python you use the expression directly as a return value, But python first evaluates the expression and then returns the result of the evaluation."
   ]
  },
  {
   "cell_type": "markdown",
   "id": "3c8a6ef3",
   "metadata": {},
   "source": [
    "#### Q8. If a function does not have a return statement, what is the return value of a call to that function?"
   ]
  },
  {
   "cell_type": "markdown",
   "id": "f7caeeab",
   "metadata": {},
   "source": [
    "If a function does not have a return statement then return value will be None."
   ]
  },
  {
   "cell_type": "markdown",
   "id": "1ee95431",
   "metadata": {},
   "source": [
    "#### Q9. How do you make a function variable refer to the global variable?"
   ]
  },
  {
   "cell_type": "markdown",
   "id": "c68cfa31",
   "metadata": {},
   "source": [
    "By default, all variables assigned in a function are local to that function and exist only while the function runs. To assign s variable as a global variable whose scope lemited to module then global keyword usded before variable.\n",
    "Ex. \n"
   ]
  },
  {
   "cell_type": "code",
   "execution_count": 5,
   "id": "537ca808",
   "metadata": {},
   "outputs": [],
   "source": [
    "count = 0\n",
    "def count_even(x):\n",
    "    global count # global variable\n",
    "    if type(x)== list:\n",
    "        for no in x:\n",
    "            if no %2 ==0:\n",
    "                count = count + 1\n",
    "            else:\n",
    "                pass\n",
    "        return count\n",
    "    else:\n",
    "        return \n"
   ]
  },
  {
   "cell_type": "code",
   "execution_count": 6,
   "id": "ac154cf0",
   "metadata": {},
   "outputs": [
    {
     "data": {
      "text/plain": [
       "3"
      ]
     },
     "execution_count": 6,
     "metadata": {},
     "output_type": "execute_result"
    }
   ],
   "source": [
    "count_even([1,2,3,4,5,6,7])"
   ]
  },
  {
   "cell_type": "code",
   "execution_count": 7,
   "id": "5a1738ef",
   "metadata": {},
   "outputs": [
    {
     "data": {
      "text/plain": [
       "3"
      ]
     },
     "execution_count": 7,
     "metadata": {},
     "output_type": "execute_result"
    }
   ],
   "source": [
    "count #Count updated value can be accessed out side function."
   ]
  },
  {
   "cell_type": "markdown",
   "id": "ef7d367a",
   "metadata": {},
   "source": [
    "#### Q10. What is the data type of None?"
   ]
  },
  {
   "cell_type": "code",
   "execution_count": 8,
   "id": "9b88fb61",
   "metadata": {},
   "outputs": [],
   "source": [
    "x = None"
   ]
  },
  {
   "cell_type": "code",
   "execution_count": 9,
   "id": "ba09e64b",
   "metadata": {},
   "outputs": [
    {
     "data": {
      "text/plain": [
       "NoneType"
      ]
     },
     "execution_count": 9,
     "metadata": {},
     "output_type": "execute_result"
    }
   ],
   "source": [
    "type(x)"
   ]
  },
  {
   "cell_type": "markdown",
   "id": "a144c780",
   "metadata": {},
   "source": [
    "+ Data type of None is NoneType.\n",
    "+ The None keyword is used to define a null value, or no value at all"
   ]
  },
  {
   "cell_type": "markdown",
   "id": "5b74c291",
   "metadata": {},
   "source": [
    "#### Q11. What does the sentence import areallyourpetsnamederic do?"
   ]
  },
  {
   "cell_type": "markdown",
   "id": "dfb2be1d",
   "metadata": {},
   "source": [
    "The import statement import a module areallyourpetsnamederic."
   ]
  },
  {
   "cell_type": "markdown",
   "id": "7d8238c8",
   "metadata": {},
   "source": [
    "#### Q12. If you had a bacon() feature in a spam module, what would you call it after importing spam?"
   ]
  },
  {
   "cell_type": "markdown",
   "id": "17b64eaa",
   "metadata": {},
   "source": [
    "spam.bacon()"
   ]
  },
  {
   "cell_type": "markdown",
   "id": "6814d587",
   "metadata": {},
   "source": [
    "#### Q13. What can you do to save a programme from crashing if it encounters an error?"
   ]
  },
  {
   "cell_type": "markdown",
   "id": "22be8d98",
   "metadata": {},
   "source": [
    "Place the line of code that might cause an error in a try clause."
   ]
  },
  {
   "cell_type": "markdown",
   "id": "317a95e3",
   "metadata": {},
   "source": [
    "#### Q14. What is the purpose of the try clause? What is the purpose of the except clause?"
   ]
  },
  {
   "cell_type": "markdown",
   "id": "8187289e",
   "metadata": {},
   "source": [
    "The block of code may cause error is placed in try clause to avoide crashing of program when error occur. What action can be taken after error raised that code written in except clause."
   ]
  },
  {
   "cell_type": "code",
   "execution_count": null,
   "id": "d2c51e68",
   "metadata": {},
   "outputs": [],
   "source": []
  }
 ],
 "metadata": {
  "kernelspec": {
   "display_name": "Python 3 (ipykernel)",
   "language": "python",
   "name": "python3"
  },
  "language_info": {
   "codemirror_mode": {
    "name": "ipython",
    "version": 3
   },
   "file_extension": ".py",
   "mimetype": "text/x-python",
   "name": "python",
   "nbconvert_exporter": "python",
   "pygments_lexer": "ipython3",
   "version": "3.9.7"
  }
 },
 "nbformat": 4,
 "nbformat_minor": 5
}
