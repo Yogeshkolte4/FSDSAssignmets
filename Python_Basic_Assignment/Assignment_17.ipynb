{
 "cells": [
  {
   "cell_type": "markdown",
   "id": "7cfab3f5",
   "metadata": {},
   "source": [
    "#### Q1. Assign the value 7 to the variable guess_me. Then, write the conditional tests (if, else, and elif) to print the string 'too low' if guess_me is less than 7, 'too high' if greater than 7, and 'just right' if equal to 7."
   ]
  },
  {
   "cell_type": "code",
   "execution_count": 1,
   "id": "c5464028",
   "metadata": {},
   "outputs": [
    {
     "name": "stdout",
     "output_type": "stream",
     "text": [
      "Enter Guess number: 7\n",
      "just right\n"
     ]
    }
   ],
   "source": [
    "guess_me = int(input(\"Enter Guess number: \"))\n",
    "\n",
    "if guess_me < 7:\n",
    "    print(\"too low\")\n",
    "elif guess_me > 7:\n",
    "    print(\"too high\")\n",
    "else:\n",
    "    print(\"just right\")"
   ]
  },
  {
   "cell_type": "markdown",
   "id": "610a60aa",
   "metadata": {},
   "source": [
    "#### Q2. Assign the value 7 to the variable guess_me and the value 1 to the variable start. Write a while loop that compares start with guess_me. Print too low if start is less than guess me. If start equals guess_me, print 'found it!' and exit the loop. If start is greater than guess_me, print 'oops' and exit the loop. Increment start at the end of the loop."
   ]
  },
  {
   "cell_type": "code",
   "execution_count": 2,
   "id": "c63556bc",
   "metadata": {},
   "outputs": [
    {
     "name": "stdout",
     "output_type": "stream",
     "text": [
      "too low\n",
      "too low\n",
      "too low\n",
      "too low\n",
      "too low\n",
      "too low\n",
      "fount it!\n"
     ]
    }
   ],
   "source": [
    "guess_me = 7\n",
    "start = 1\n",
    "\n",
    "while True:\n",
    "    if start < guess_me:\n",
    "        print(\"too low\")\n",
    "    elif start == guess_me:\n",
    "        print(\"fount it!\")\n",
    "        break\n",
    "    else:\n",
    "        print(\"oops!\")\n",
    "        break\n",
    "    start +=1\n",
    "        "
   ]
  },
  {
   "cell_type": "markdown",
   "id": "b077cafe",
   "metadata": {},
   "source": [
    "#### Q3. Print the following values of the list [3, 2, 1, 0] using a for loop."
   ]
  },
  {
   "cell_type": "code",
   "execution_count": 3,
   "id": "16f294a2",
   "metadata": {},
   "outputs": [
    {
     "name": "stdout",
     "output_type": "stream",
     "text": [
      "3\n",
      "2\n",
      "1\n",
      "0\n"
     ]
    }
   ],
   "source": [
    "list1 = [3,2,1,0]\n",
    "\n",
    "for val in list1:\n",
    "    print(val)"
   ]
  },
  {
   "cell_type": "markdown",
   "id": "c04095b7",
   "metadata": {},
   "source": [
    "#### Q4. Use a list comprehension to make a list of the even numbers in range(10)"
   ]
  },
  {
   "cell_type": "code",
   "execution_count": 4,
   "id": "7aa8effd",
   "metadata": {},
   "outputs": [],
   "source": [
    "evenNum = [x for x in range(10) if x%2 == 0]"
   ]
  },
  {
   "cell_type": "code",
   "execution_count": 5,
   "id": "925994c5",
   "metadata": {},
   "outputs": [
    {
     "data": {
      "text/plain": [
       "[0, 2, 4, 6, 8]"
      ]
     },
     "execution_count": 5,
     "metadata": {},
     "output_type": "execute_result"
    }
   ],
   "source": [
    "evenNum"
   ]
  },
  {
   "cell_type": "markdown",
   "id": "3ab6dfd0",
   "metadata": {},
   "source": [
    "#### Q5. Use a dictionary comprehension to create the dictionary squares. Use range(10) to return the keys, and use the square of each key as its value."
   ]
  },
  {
   "cell_type": "code",
   "execution_count": 6,
   "id": "510efad2",
   "metadata": {},
   "outputs": [],
   "source": [
    "squareNum = {x:x**2 for x in range(1,10)}"
   ]
  },
  {
   "cell_type": "code",
   "execution_count": 7,
   "id": "29cb3d6d",
   "metadata": {},
   "outputs": [
    {
     "data": {
      "text/plain": [
       "{1: 1, 2: 4, 3: 9, 4: 16, 5: 25, 6: 36, 7: 49, 8: 64, 9: 81}"
      ]
     },
     "execution_count": 7,
     "metadata": {},
     "output_type": "execute_result"
    }
   ],
   "source": [
    "squareNum"
   ]
  },
  {
   "cell_type": "markdown",
   "id": "d39dee73",
   "metadata": {},
   "source": [
    "#### Q6. Construct the set odd from the odd numbers in the range using a set comprehension (10)."
   ]
  },
  {
   "cell_type": "code",
   "execution_count": 8,
   "id": "2987c7d0",
   "metadata": {},
   "outputs": [],
   "source": [
    "oddSet = {x for x in range(10) if x%2 !=0}"
   ]
  },
  {
   "cell_type": "code",
   "execution_count": 9,
   "id": "7f89b7d7",
   "metadata": {},
   "outputs": [
    {
     "data": {
      "text/plain": [
       "{1, 3, 5, 7, 9}"
      ]
     },
     "execution_count": 9,
     "metadata": {},
     "output_type": "execute_result"
    }
   ],
   "source": [
    "oddSet"
   ]
  },
  {
   "cell_type": "markdown",
   "id": "8a3f9c31",
   "metadata": {},
   "source": [
    "#### Q7. Use a generator comprehension to return the string 'Got ' and a number for the numbers in range(10). Iterate through this by using a for loop."
   ]
  },
  {
   "cell_type": "markdown",
   "id": "7698eaf0",
   "metadata": {},
   "source": [
    "range is built-in generator, which generates sequence if integers "
   ]
  },
  {
   "cell_type": "code",
   "execution_count": 10,
   "id": "3755a59a",
   "metadata": {},
   "outputs": [],
   "source": [
    "strgen = (\"Got\" + str(i) for i in range(10))"
   ]
  },
  {
   "cell_type": "code",
   "execution_count": 11,
   "id": "db75a6d5",
   "metadata": {},
   "outputs": [
    {
     "data": {
      "text/plain": [
       "<generator object <genexpr> at 0x000001A0C66766D0>"
      ]
     },
     "execution_count": 11,
     "metadata": {},
     "output_type": "execute_result"
    }
   ],
   "source": [
    "strgen"
   ]
  },
  {
   "cell_type": "code",
   "execution_count": 12,
   "id": "40022c5f",
   "metadata": {},
   "outputs": [
    {
     "name": "stdout",
     "output_type": "stream",
     "text": [
      "Got0\n",
      "Got1\n",
      "Got2\n",
      "Got3\n",
      "Got4\n",
      "Got5\n",
      "Got6\n",
      "Got7\n",
      "Got8\n",
      "Got9\n"
     ]
    }
   ],
   "source": [
    "for val in strgen:\n",
    "    print(val)"
   ]
  },
  {
   "cell_type": "markdown",
   "id": "f3a17dfd",
   "metadata": {},
   "source": [
    "#### Q8. Define a function called good that returns the list ['Harry', 'Ron', 'Hermione']."
   ]
  },
  {
   "cell_type": "code",
   "execution_count": 13,
   "id": "8e8eb0f4",
   "metadata": {},
   "outputs": [],
   "source": [
    "def good():\n",
    "    return [\"Harry\",\"Ron\",\"Hermione\"]"
   ]
  },
  {
   "cell_type": "code",
   "execution_count": 14,
   "id": "92b65c10",
   "metadata": {},
   "outputs": [
    {
     "data": {
      "text/plain": [
       "['Harry', 'Ron', 'Hermione']"
      ]
     },
     "execution_count": 14,
     "metadata": {},
     "output_type": "execute_result"
    }
   ],
   "source": [
    "good()"
   ]
  },
  {
   "cell_type": "markdown",
   "id": "973144c1",
   "metadata": {},
   "source": [
    "#### Q9. Define a generator function called get_odds that returns the odd numbers from range(10). Use a for loop to find and print the third value returned."
   ]
  },
  {
   "cell_type": "code",
   "execution_count": 15,
   "id": "b12a9fe1",
   "metadata": {},
   "outputs": [],
   "source": [
    "get_odds = [x for x in range(10) if x%2 == 1]\n",
    "        "
   ]
  },
  {
   "cell_type": "code",
   "execution_count": 16,
   "id": "9a8cbb67",
   "metadata": {},
   "outputs": [
    {
     "data": {
      "text/plain": [
       "[1, 3, 5, 7, 9]"
      ]
     },
     "execution_count": 16,
     "metadata": {},
     "output_type": "execute_result"
    }
   ],
   "source": [
    "get_odds"
   ]
  },
  {
   "cell_type": "code",
   "execution_count": 17,
   "id": "85fa88af",
   "metadata": {},
   "outputs": [],
   "source": [
    "get_odds = [x for x in range(10) if not x % 2 == 0]"
   ]
  },
  {
   "cell_type": "code",
   "execution_count": 18,
   "id": "7222eb71",
   "metadata": {},
   "outputs": [
    {
     "data": {
      "text/plain": [
       "[1, 3, 5, 7, 9]"
      ]
     },
     "execution_count": 18,
     "metadata": {},
     "output_type": "execute_result"
    }
   ],
   "source": [
    "get_odds"
   ]
  },
  {
   "cell_type": "code",
   "execution_count": 19,
   "id": "ddf88651",
   "metadata": {},
   "outputs": [
    {
     "name": "stdout",
     "output_type": "stream",
     "text": [
      "5\n"
     ]
    }
   ],
   "source": [
    "get_odds = [x for x in range(10) if not x % 2 == 0]\n",
    "for i in range(len(get_odds)):\n",
    "    if i==2:\n",
    "        print(get_odds[i])\n",
    "        "
   ]
  },
  {
   "cell_type": "code",
   "execution_count": 20,
   "id": "f724352b",
   "metadata": {},
   "outputs": [
    {
     "name": "stdout",
     "output_type": "stream",
     "text": [
      "5\n"
     ]
    }
   ],
   "source": [
    "get_odds = [x for x in range(10) if not x % 2 == 0]\n",
    "count = 0\n",
    "for num in get_odds:\n",
    "    if count == 2:\n",
    "        print(num)\n",
    "        break\n",
    "    count += 1"
   ]
  },
  {
   "cell_type": "markdown",
   "id": "18df673e",
   "metadata": {},
   "source": [
    "#### Q10. Define an exception called OopsException. Raise this exception to see what happens. Then write the code to catch this exception and print 'Caught an oops'."
   ]
  },
  {
   "cell_type": "code",
   "execution_count": 21,
   "id": "de97f88c",
   "metadata": {},
   "outputs": [
    {
     "name": "stdout",
     "output_type": "stream",
     "text": [
      "Caught an OOPS\n"
     ]
    }
   ],
   "source": [
    "a = 100\n",
    "try:\n",
    "    a/0\n",
    "except Exception as e:\n",
    "    print(\"Caught an OOPS\")\n",
    "    "
   ]
  },
  {
   "cell_type": "code",
   "execution_count": 22,
   "id": "2fc1383d",
   "metadata": {},
   "outputs": [
    {
     "name": "stdout",
     "output_type": "stream",
     "text": [
      "Caught an ooops\n"
     ]
    }
   ],
   "source": [
    "class OoopsException(Exception):\n",
    "    pass\n",
    "\n",
    "def testException(a):\n",
    "    if a < 0:\n",
    "        raise OoopsException(a)\n",
    "        \n",
    "        \n",
    "try:\n",
    "    testException(-2)\n",
    "except OoopsException as error:\n",
    "    print(\"Caught an ooops\")\n",
    "    "
   ]
  },
  {
   "cell_type": "markdown",
   "id": "0cf30203",
   "metadata": {},
   "source": [
    "#### Q11. Use zip() to make a dictionary called movies that pairs these lists: titles = ['Creature of Habit', 'Crewel Fate'] and plots = ['A nun turns into a monster', 'A haunted yarn shop']."
   ]
  },
  {
   "cell_type": "code",
   "execution_count": 23,
   "id": "1cb4b811",
   "metadata": {},
   "outputs": [
    {
     "name": "stdout",
     "output_type": "stream",
     "text": [
      "{'Creature of Habits': 'A num turns into a monster', 'Crewel Fate': 'A haunted yarn shop'}\n"
     ]
    }
   ],
   "source": [
    "titles = [\"Creature of Habits\",\"Crewel Fate\"]\n",
    "plots = [\"A num turns into a monster\",\"A haunted yarn shop\"]\n",
    "pdict = {}\n",
    "for t,p in zip(titles,plots):\n",
    "    pdict[t] = p\n",
    "print(pdict)"
   ]
  },
  {
   "cell_type": "code",
   "execution_count": null,
   "id": "42072fcd",
   "metadata": {},
   "outputs": [],
   "source": []
  }
 ],
 "metadata": {
  "kernelspec": {
   "display_name": "Python 3 (ipykernel)",
   "language": "python",
   "name": "python3"
  },
  "language_info": {
   "codemirror_mode": {
    "name": "ipython",
    "version": 3
   },
   "file_extension": ".py",
   "mimetype": "text/x-python",
   "name": "python",
   "nbconvert_exporter": "python",
   "pygments_lexer": "ipython3",
   "version": "3.9.7"
  }
 },
 "nbformat": 4,
 "nbformat_minor": 5
}
