{
 "cells": [
  {
   "cell_type": "markdown",
   "id": "706c7fbb",
   "metadata": {},
   "source": [
    "#### Q1.How many seconds are in an hour? Use the interactive interpreter as a calculator and multiply the number of seconds in a minute (60) by the number of minutes in an hour (also 60)."
   ]
  },
  {
   "cell_type": "code",
   "execution_count": 1,
   "id": "098fd93b",
   "metadata": {},
   "outputs": [],
   "source": [
    "second_minute = 60\n",
    "minutes_hour = 60\n",
    "numberOfSeconsInHour = second_minute*minutes_hour"
   ]
  },
  {
   "cell_type": "code",
   "execution_count": 2,
   "id": "b8a4816b",
   "metadata": {},
   "outputs": [
    {
     "name": "stdout",
     "output_type": "stream",
     "text": [
      "Number of seconds in hour =  3600\n"
     ]
    }
   ],
   "source": [
    "print(f\"Number of seconds in hour = % d\" %(numberOfSeconsInHour))"
   ]
  },
  {
   "cell_type": "markdown",
   "id": "b81be5e0",
   "metadata": {},
   "source": [
    "#### Q2. Assign the result from the previous task (seconds in an hour) to a variable called seconds_per_hour."
   ]
  },
  {
   "cell_type": "code",
   "execution_count": 3,
   "id": "ff82c4af",
   "metadata": {},
   "outputs": [
    {
     "name": "stdout",
     "output_type": "stream",
     "text": [
      "Number of seconds in hour =  3600\n"
     ]
    }
   ],
   "source": [
    "seconds_per_hour = 60*60\n",
    "print(f\"Number of seconds in hour = % d\" %(seconds_per_hour))"
   ]
  },
  {
   "cell_type": "markdown",
   "id": "dcb2404d",
   "metadata": {},
   "source": [
    "#### Q3. How many seconds do you think there are in a day? Make use of the variables seconds per hour and minutes per hour."
   ]
  },
  {
   "cell_type": "code",
   "execution_count": 4,
   "id": "75faf762",
   "metadata": {},
   "outputs": [
    {
     "data": {
      "text/plain": [
       "86400"
      ]
     },
     "execution_count": 4,
     "metadata": {},
     "output_type": "execute_result"
    }
   ],
   "source": [
    "seconds_per_hour*24"
   ]
  },
  {
   "cell_type": "markdown",
   "id": "0f3865e6",
   "metadata": {},
   "source": [
    "#### Q4. Calculate seconds per day again, but this time save the result in a variable called seconds_per_day"
   ]
  },
  {
   "cell_type": "code",
   "execution_count": 5,
   "id": "f55a7e54",
   "metadata": {},
   "outputs": [],
   "source": [
    "seconds_per_minute = 60\n",
    "seconds_per_hour = 60 * second_minute\n",
    "hours_per_day = 24 \n",
    "seconds_per_day = hours_per_day*seconds_per_hour"
   ]
  },
  {
   "cell_type": "code",
   "execution_count": 6,
   "id": "b7b73b11",
   "metadata": {},
   "outputs": [
    {
     "name": "stdout",
     "output_type": "stream",
     "text": [
      "Seconds per day = 86400\n"
     ]
    }
   ],
   "source": [
    "print(\"Seconds per day = %d\" %(seconds_per_day))"
   ]
  },
  {
   "cell_type": "markdown",
   "id": "b8c550d2",
   "metadata": {},
   "source": [
    "#### Q5. Divide seconds_per_day by seconds_per_hour. Use floating-point (/) division."
   ]
  },
  {
   "cell_type": "code",
   "execution_count": 7,
   "id": "46714e45",
   "metadata": {},
   "outputs": [
    {
     "data": {
      "text/plain": [
       "24.0"
      ]
     },
     "execution_count": 7,
     "metadata": {},
     "output_type": "execute_result"
    }
   ],
   "source": [
    "seconds_per_day/seconds_per_hour"
   ]
  },
  {
   "cell_type": "markdown",
   "id": "257a7094",
   "metadata": {},
   "source": [
    "#### Q6. Divide seconds_per_day by seconds_per_hour, using integer (//) division. Did this number agree with the floating-point value from the previous question, aside from the final .0?"
   ]
  },
  {
   "cell_type": "code",
   "execution_count": 8,
   "id": "493fc926",
   "metadata": {},
   "outputs": [
    {
     "data": {
      "text/plain": [
       "24"
      ]
     },
     "execution_count": 8,
     "metadata": {},
     "output_type": "execute_result"
    }
   ],
   "source": [
    "seconds_per_day//seconds_per_hour"
   ]
  },
  {
   "cell_type": "markdown",
   "id": "35aef10f",
   "metadata": {},
   "source": [
    "#### Q7. Write a generator, genPrimes, that returns the sequence of prime numbers on successive calls to its next() method: 2, 3, 5, 7, 11, ..."
   ]
  },
  {
   "cell_type": "code",
   "execution_count": 9,
   "id": "25a74a78",
   "metadata": {},
   "outputs": [],
   "source": [
    "def genPrime():\n",
    "    num = 2\n",
    "    yield num\n",
    "    \n",
    "    while True:\n",
    "        num = num +1\n",
    "        for i in range(2,num):\n",
    "            if num % i == 0:\n",
    "                break\n",
    "        else:\n",
    "            yield num\n",
    "        \n",
    "        \n",
    "    "
   ]
  },
  {
   "cell_type": "code",
   "execution_count": 10,
   "id": "deb8ae1f",
   "metadata": {},
   "outputs": [],
   "source": [
    "pgen = genPrime()"
   ]
  },
  {
   "cell_type": "code",
   "execution_count": 11,
   "id": "4900aca8",
   "metadata": {},
   "outputs": [
    {
     "data": {
      "text/plain": [
       "<generator object genPrime at 0x0000016F34A7A9E0>"
      ]
     },
     "execution_count": 11,
     "metadata": {},
     "output_type": "execute_result"
    }
   ],
   "source": [
    "pgen"
   ]
  },
  {
   "cell_type": "code",
   "execution_count": 12,
   "id": "a254dda3",
   "metadata": {},
   "outputs": [
    {
     "name": "stdout",
     "output_type": "stream",
     "text": [
      "2\n",
      "3\n",
      "5\n",
      "7\n",
      "11\n",
      "13\n",
      "17\n",
      "19\n",
      "23\n",
      "29\n",
      "31\n",
      "37\n",
      "41\n",
      "43\n",
      "47\n"
     ]
    }
   ],
   "source": [
    "for pnum in genPrime():\n",
    "    if pnum > 50:\n",
    "        break\n",
    "    print(pnum)"
   ]
  },
  {
   "cell_type": "code",
   "execution_count": null,
   "id": "72f563fe",
   "metadata": {},
   "outputs": [],
   "source": []
  }
 ],
 "metadata": {
  "kernelspec": {
   "display_name": "Python 3 (ipykernel)",
   "language": "python",
   "name": "python3"
  },
  "language_info": {
   "codemirror_mode": {
    "name": "ipython",
    "version": 3
   },
   "file_extension": ".py",
   "mimetype": "text/x-python",
   "name": "python",
   "nbconvert_exporter": "python",
   "pygments_lexer": "ipython3",
   "version": "3.9.7"
  }
 },
 "nbformat": 4,
 "nbformat_minor": 5
}
