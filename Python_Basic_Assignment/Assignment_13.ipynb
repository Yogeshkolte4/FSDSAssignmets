{
 "cells": [
  {
   "cell_type": "markdown",
   "id": "4f98c53b",
   "metadata": {},
   "source": [
    "#### Q1. What advantages do Excel spreadsheets have over CSV spreadsheets?"
   ]
  },
  {
   "cell_type": "markdown",
   "id": "195c6251",
   "metadata": {},
   "source": [
    "+ The excel is a binary file that store data in worksheet and workbook.\n",
    "+ With excel we not only store the data but we can perform data operations on it.\n",
    "+ Files saved in excel cannot be opened of deited by text editors.\n",
    "+ In data-warehouse, Excel is preferable for detailed standaridized schema specification.\n",
    "+ Apart from text, data can also be stored in from of charts and graphs while CSV can not store charts or graphs."
   ]
  },
  {
   "cell_type": "markdown",
   "id": "4b141c9c",
   "metadata": {},
   "source": [
    "#### Q2.What do you pass to csv.reader() and csv.writer() to create reader and writer objects?"
   ]
  },
  {
   "cell_type": "markdown",
   "id": "12f59f6f",
   "metadata": {},
   "source": [
    "+ The fileobject from open() function is passed to csv.reader() function."
   ]
  },
  {
   "cell_type": "code",
   "execution_count": 1,
   "id": "e4e740fd",
   "metadata": {},
   "outputs": [],
   "source": [
    "import csv\n",
    "fileObj = open(\"PH-Sales.csv\")\n",
    "csvObj = csv.reader(fileObj)\n",
    "data = list(csvObj)"
   ]
  },
  {
   "cell_type": "code",
   "execution_count": 2,
   "id": "7e2bccfa",
   "metadata": {},
   "outputs": [
    {
     "data": {
      "text/plain": [
       "[['Month-Year', 'Number of Tractor Sold'],\n",
       " ['Jan-03', '141'],\n",
       " ['Feb-03', '157'],\n",
       " ['Mar-03', '185'],\n",
       " ['Apr-03', '199'],\n",
       " ['May-03', '203'],\n",
       " ['Jun-03', '189'],\n",
       " ['Jul-03', '207'],\n",
       " ['Aug-03', '207'],\n",
       " ['Sep-03', '171'],\n",
       " ['Oct-03', '150'],\n",
       " ['Nov-03', '138'],\n",
       " ['Dec-03', '165'],\n",
       " ['Jan-04', '145'],\n",
       " ['Feb-04', '168'],\n",
       " ['Mar-04', '197'],\n",
       " ['Apr-04', '208'],\n",
       " ['May-04', '210'],\n",
       " ['Jun-04', '209'],\n",
       " ['Jul-04', '238'],\n",
       " ['Aug-04', '238'],\n",
       " ['Sep-04', '199'],\n",
       " ['Oct-04', '168'],\n",
       " ['Nov-04', '152'],\n",
       " ['Dec-04', '196'],\n",
       " ['Jan-05', '183'],\n",
       " ['Feb-05', '200'],\n",
       " ['Mar-05', '249'],\n",
       " ['Apr-05', '251'],\n",
       " ['May-05', '289'],\n",
       " ['Jun-05', '249'],\n",
       " ['Jul-05', '279'],\n",
       " ['Aug-05', '279'],\n",
       " ['Sep-05', '232'],\n",
       " ['Oct-05', '204'],\n",
       " ['Nov-05', '194'],\n",
       " ['Dec-05', '232'],\n",
       " ['Jan-06', '215'],\n",
       " ['Feb-06', '239'],\n",
       " ['Mar-06', '270'],\n",
       " ['Apr-06', '279'],\n",
       " ['May-06', '307'],\n",
       " ['Jun-06', '305'],\n",
       " ['Jul-06', '322'],\n",
       " ['Aug-06', '339'],\n",
       " ['Sep-06', '263'],\n",
       " ['Oct-06', '241'],\n",
       " ['Nov-06', '229'],\n",
       " ['Dec-06', '272'],\n",
       " ['Jan-07', '247'],\n",
       " ['Feb-07', '261'],\n",
       " ['Mar-07', '330'],\n",
       " ['Apr-07', '362'],\n",
       " ['May-07', '385'],\n",
       " ['Jun-07', '340'],\n",
       " ['Jul-07', '370'],\n",
       " ['Aug-07', '381'],\n",
       " ['Sep-07', '299'],\n",
       " ['Oct-07', '266'],\n",
       " ['Nov-07', '239'],\n",
       " ['Dec-07', '281'],\n",
       " ['Jan-08', '257'],\n",
       " ['Feb-08', '250'],\n",
       " ['Mar-08', '329'],\n",
       " ['Apr-08', '350'],\n",
       " ['May-08', '393'],\n",
       " ['Jun-08', '370'],\n",
       " ['Jul-08', '423'],\n",
       " ['Aug-08', '410'],\n",
       " ['Sep-08', '326'],\n",
       " ['Oct-08', '289'],\n",
       " ['Nov-08', '270'],\n",
       " ['Dec-08', '321'],\n",
       " ['Jan-09', '305'],\n",
       " ['Feb-09', '310'],\n",
       " ['Mar-09', '374'],\n",
       " ['Apr-09', '414'],\n",
       " ['May-09', '454'],\n",
       " ['Jun-09', '441'],\n",
       " ['Jul-09', '510'],\n",
       " ['Aug-09', '486'],\n",
       " ['Sep-09', '393'],\n",
       " ['Oct-09', '345'],\n",
       " ['Nov-09', '315'],\n",
       " ['Dec-09', '389'],\n",
       " ['Jan-10', '358'],\n",
       " ['Feb-10', '368'],\n",
       " ['Mar-10', '444'],\n",
       " ['Apr-10', '482'],\n",
       " ['May-10', '534'],\n",
       " ['Jun-10', '524'],\n",
       " ['Jul-10', '578'],\n",
       " ['Aug-10', '567'],\n",
       " ['Sep-10', '447'],\n",
       " ['Oct-10', '386'],\n",
       " ['Nov-10', '360'],\n",
       " ['Dec-10', '428'],\n",
       " ['Jan-11', '397'],\n",
       " ['Feb-11', '400'],\n",
       " ['Mar-11', '498'],\n",
       " ['Apr-11', '536'],\n",
       " ['May-11', '596'],\n",
       " ['Jun-11', '591'],\n",
       " ['Jul-11', '651'],\n",
       " ['Aug-11', '654'],\n",
       " ['Sep-11', '509'],\n",
       " ['Oct-11', '437'],\n",
       " ['Nov-11', '406'],\n",
       " ['Dec-11', '470'],\n",
       " ['Jan-12', '428'],\n",
       " ['Feb-12', '423'],\n",
       " ['Mar-12', '507'],\n",
       " ['Apr-12', '536'],\n",
       " ['May-12', '610'],\n",
       " ['Jun-12', '609'],\n",
       " ['Jul-12', '687'],\n",
       " ['Aug-12', '707'],\n",
       " ['Sep-12', '509'],\n",
       " ['Oct-12', '452'],\n",
       " ['Nov-12', '412'],\n",
       " ['Dec-12', '472'],\n",
       " ['Jan-13', '454'],\n",
       " ['Feb-13', '455'],\n",
       " ['Mar-13', '568'],\n",
       " ['Apr-13', '610'],\n",
       " ['May-13', '706'],\n",
       " ['Jun-13', '661'],\n",
       " ['Jul-13', '767'],\n",
       " ['Aug-13', '783'],\n",
       " ['Sep-13', '583'],\n",
       " ['Oct-13', '513'],\n",
       " ['Nov-13', '481'],\n",
       " ['Dec-13', '567'],\n",
       " ['Jan-14', '525'],\n",
       " ['Feb-14', '520'],\n",
       " ['Mar-14', '587'],\n",
       " ['Apr-14', '710'],\n",
       " ['May-14', '793'],\n",
       " ['Jun-14', '749'],\n",
       " ['Jul-14', '871'],\n",
       " ['Aug-14', '848'],\n",
       " ['Sep-14', '640'],\n",
       " ['Oct-14', '581'],\n",
       " ['Nov-14', '519'],\n",
       " ['Dec-14', '605']]"
      ]
     },
     "execution_count": 2,
     "metadata": {},
     "output_type": "execute_result"
    }
   ],
   "source": [
    "data"
   ]
  },
  {
   "cell_type": "code",
   "execution_count": 3,
   "id": "61a09dc3",
   "metadata": {},
   "outputs": [
    {
     "name": "stdout",
     "output_type": "stream",
     "text": [
      "ROW # ['Month-Year', 'Number of Tractor Sold']\n",
      "ROW # ['Jan-03', '141']\n",
      "ROW # ['Feb-03', '157']\n",
      "ROW # ['Mar-03', '185']\n",
      "ROW # ['Apr-03', '199']\n",
      "ROW # ['May-03', '203']\n",
      "ROW # ['Jun-03', '189']\n",
      "ROW # ['Jul-03', '207']\n",
      "ROW # ['Aug-03', '207']\n",
      "ROW # ['Sep-03', '171']\n",
      "ROW # ['Oct-03', '150']\n",
      "ROW # ['Nov-03', '138']\n",
      "ROW # ['Dec-03', '165']\n",
      "ROW # ['Jan-04', '145']\n",
      "ROW # ['Feb-04', '168']\n",
      "ROW # ['Mar-04', '197']\n",
      "ROW # ['Apr-04', '208']\n",
      "ROW # ['May-04', '210']\n",
      "ROW # ['Jun-04', '209']\n",
      "ROW # ['Jul-04', '238']\n",
      "ROW # ['Aug-04', '238']\n",
      "ROW # ['Sep-04', '199']\n",
      "ROW # ['Oct-04', '168']\n",
      "ROW # ['Nov-04', '152']\n",
      "ROW # ['Dec-04', '196']\n",
      "ROW # ['Jan-05', '183']\n",
      "ROW # ['Feb-05', '200']\n",
      "ROW # ['Mar-05', '249']\n",
      "ROW # ['Apr-05', '251']\n",
      "ROW # ['May-05', '289']\n",
      "ROW # ['Jun-05', '249']\n",
      "ROW # ['Jul-05', '279']\n",
      "ROW # ['Aug-05', '279']\n",
      "ROW # ['Sep-05', '232']\n",
      "ROW # ['Oct-05', '204']\n",
      "ROW # ['Nov-05', '194']\n",
      "ROW # ['Dec-05', '232']\n",
      "ROW # ['Jan-06', '215']\n",
      "ROW # ['Feb-06', '239']\n",
      "ROW # ['Mar-06', '270']\n",
      "ROW # ['Apr-06', '279']\n",
      "ROW # ['May-06', '307']\n",
      "ROW # ['Jun-06', '305']\n",
      "ROW # ['Jul-06', '322']\n",
      "ROW # ['Aug-06', '339']\n",
      "ROW # ['Sep-06', '263']\n",
      "ROW # ['Oct-06', '241']\n",
      "ROW # ['Nov-06', '229']\n",
      "ROW # ['Dec-06', '272']\n",
      "ROW # ['Jan-07', '247']\n",
      "ROW # ['Feb-07', '261']\n",
      "ROW # ['Mar-07', '330']\n",
      "ROW # ['Apr-07', '362']\n",
      "ROW # ['May-07', '385']\n",
      "ROW # ['Jun-07', '340']\n",
      "ROW # ['Jul-07', '370']\n",
      "ROW # ['Aug-07', '381']\n",
      "ROW # ['Sep-07', '299']\n",
      "ROW # ['Oct-07', '266']\n",
      "ROW # ['Nov-07', '239']\n",
      "ROW # ['Dec-07', '281']\n",
      "ROW # ['Jan-08', '257']\n",
      "ROW # ['Feb-08', '250']\n",
      "ROW # ['Mar-08', '329']\n",
      "ROW # ['Apr-08', '350']\n",
      "ROW # ['May-08', '393']\n",
      "ROW # ['Jun-08', '370']\n",
      "ROW # ['Jul-08', '423']\n",
      "ROW # ['Aug-08', '410']\n",
      "ROW # ['Sep-08', '326']\n",
      "ROW # ['Oct-08', '289']\n",
      "ROW # ['Nov-08', '270']\n",
      "ROW # ['Dec-08', '321']\n",
      "ROW # ['Jan-09', '305']\n",
      "ROW # ['Feb-09', '310']\n",
      "ROW # ['Mar-09', '374']\n",
      "ROW # ['Apr-09', '414']\n",
      "ROW # ['May-09', '454']\n",
      "ROW # ['Jun-09', '441']\n",
      "ROW # ['Jul-09', '510']\n",
      "ROW # ['Aug-09', '486']\n",
      "ROW # ['Sep-09', '393']\n",
      "ROW # ['Oct-09', '345']\n",
      "ROW # ['Nov-09', '315']\n",
      "ROW # ['Dec-09', '389']\n",
      "ROW # ['Jan-10', '358']\n",
      "ROW # ['Feb-10', '368']\n",
      "ROW # ['Mar-10', '444']\n",
      "ROW # ['Apr-10', '482']\n",
      "ROW # ['May-10', '534']\n",
      "ROW # ['Jun-10', '524']\n",
      "ROW # ['Jul-10', '578']\n",
      "ROW # ['Aug-10', '567']\n",
      "ROW # ['Sep-10', '447']\n",
      "ROW # ['Oct-10', '386']\n",
      "ROW # ['Nov-10', '360']\n",
      "ROW # ['Dec-10', '428']\n",
      "ROW # ['Jan-11', '397']\n",
      "ROW # ['Feb-11', '400']\n",
      "ROW # ['Mar-11', '498']\n",
      "ROW # ['Apr-11', '536']\n",
      "ROW # ['May-11', '596']\n",
      "ROW # ['Jun-11', '591']\n",
      "ROW # ['Jul-11', '651']\n",
      "ROW # ['Aug-11', '654']\n",
      "ROW # ['Sep-11', '509']\n",
      "ROW # ['Oct-11', '437']\n",
      "ROW # ['Nov-11', '406']\n",
      "ROW # ['Dec-11', '470']\n",
      "ROW # ['Jan-12', '428']\n",
      "ROW # ['Feb-12', '423']\n",
      "ROW # ['Mar-12', '507']\n",
      "ROW # ['Apr-12', '536']\n",
      "ROW # ['May-12', '610']\n",
      "ROW # ['Jun-12', '609']\n",
      "ROW # ['Jul-12', '687']\n",
      "ROW # ['Aug-12', '707']\n",
      "ROW # ['Sep-12', '509']\n",
      "ROW # ['Oct-12', '452']\n",
      "ROW # ['Nov-12', '412']\n",
      "ROW # ['Dec-12', '472']\n",
      "ROW # ['Jan-13', '454']\n",
      "ROW # ['Feb-13', '455']\n",
      "ROW # ['Mar-13', '568']\n",
      "ROW # ['Apr-13', '610']\n",
      "ROW # ['May-13', '706']\n",
      "ROW # ['Jun-13', '661']\n",
      "ROW # ['Jul-13', '767']\n",
      "ROW # ['Aug-13', '783']\n",
      "ROW # ['Sep-13', '583']\n",
      "ROW # ['Oct-13', '513']\n",
      "ROW # ['Nov-13', '481']\n",
      "ROW # ['Dec-13', '567']\n",
      "ROW # ['Jan-14', '525']\n",
      "ROW # ['Feb-14', '520']\n",
      "ROW # ['Mar-14', '587']\n",
      "ROW # ['Apr-14', '710']\n",
      "ROW # ['May-14', '793']\n",
      "ROW # ['Jun-14', '749']\n",
      "ROW # ['Jul-14', '871']\n",
      "ROW # ['Aug-14', '848']\n",
      "ROW # ['Sep-14', '640']\n",
      "ROW # ['Oct-14', '581']\n",
      "ROW # ['Nov-14', '519']\n",
      "ROW # ['Dec-14', '605']\n"
     ]
    }
   ],
   "source": [
    "for row in data:\n",
    "    print(\"ROW # %s\" %(row) )"
   ]
  },
  {
   "cell_type": "markdown",
   "id": "dbc9638e",
   "metadata": {},
   "source": [
    "+ The fileobject created to write file using __open(\"output.csv\",\"w\",newline = \"\")__ function is passed to csv.writer() function."
   ]
  },
  {
   "cell_type": "code",
   "execution_count": 4,
   "id": "275b5cfc",
   "metadata": {},
   "outputs": [],
   "source": [
    "import csv\n",
    "outfile = open(\"output.csv\",\"w\",newline = \"\")\n",
    "outwriter = csv.writer(outfile)\n",
    "outwriter.writerows(data)\n",
    "outfile.close()"
   ]
  },
  {
   "cell_type": "markdown",
   "id": "e3cb8aed",
   "metadata": {},
   "source": [
    "#### Q3. What modes do File objects for reader and writer objects need to be opened in?"
   ]
  },
  {
   "cell_type": "markdown",
   "id": "6f62c595",
   "metadata": {},
   "source": [
    "+ To read csv file fileobject need to open in read made where as for write operation fileobject need to open in write mode."
   ]
  },
  {
   "cell_type": "markdown",
   "id": "b67f679e",
   "metadata": {},
   "source": [
    "#### Q4. What method takes a list argument and writes it to a CSV file?"
   ]
  },
  {
   "cell_type": "markdown",
   "id": "9d0618bb",
   "metadata": {},
   "source": [
    "+ csv.writer takes a list argumnet and writes it to a CSV file"
   ]
  },
  {
   "cell_type": "code",
   "execution_count": 5,
   "id": "9c336cee",
   "metadata": {},
   "outputs": [],
   "source": [
    "import csv\n",
    "outfile = open(\"output.csv\",\"w\",newline = \"\")\n",
    "outwriter = csv.writer(outfile)"
   ]
  },
  {
   "cell_type": "markdown",
   "id": "f8775dde",
   "metadata": {},
   "source": [
    "#### Q5. What do the keyword arguments delimiter and line terminator do?"
   ]
  },
  {
   "cell_type": "code",
   "execution_count": 6,
   "id": "5392f82e",
   "metadata": {},
   "outputs": [],
   "source": [
    "import csv\n",
    "outfile = open(\"output.csv\",\"w\",newline = \"\")\n",
    "outwriter = csv.writer(outfile,delimiter = \"\\t\",lineterminator = \"\\n\\n\")"
   ]
  },
  {
   "cell_type": "markdown",
   "id": "16d644dc",
   "metadata": {},
   "source": [
    "+ The delimiter is used to seperate the cells in row.By default, the delimiter for csv file is a comma.In above example \"tab\" used as delimiter.\n",
    "+ The line terminator is the character that comes at the end of the row."
   ]
  },
  {
   "cell_type": "markdown",
   "id": "ae24461a",
   "metadata": {},
   "source": [
    "#### Q6. What function takes a string of JSON data and returns a Python data structure?"
   ]
  },
  {
   "cell_type": "code",
   "execution_count": 7,
   "id": "65dc1b39",
   "metadata": {},
   "outputs": [
    {
     "name": "stdout",
     "output_type": "stream",
     "text": [
      "{'name': 'Yogesh', 'sname': 'Kolte'}\n"
     ]
    }
   ],
   "source": [
    "import json\n",
    "strjson = '{\"name\":\"Yogesh\",\"sname\":\"Kolte\"}'\n",
    "jsondata = json.loads(strjson)\n",
    "print(jsondata)"
   ]
  },
  {
   "cell_type": "code",
   "execution_count": 8,
   "id": "33d3ccf7",
   "metadata": {},
   "outputs": [
    {
     "data": {
      "text/plain": [
       "dict"
      ]
     },
     "execution_count": 8,
     "metadata": {},
     "output_type": "execute_result"
    }
   ],
   "source": [
    "type(jsondata)"
   ]
  },
  {
   "cell_type": "markdown",
   "id": "6b65908a",
   "metadata": {},
   "source": [
    "+ The transform string containing JSON data to python dictionary json.loads() function used. "
   ]
  },
  {
   "cell_type": "markdown",
   "id": "209947a3",
   "metadata": {},
   "source": [
    "#### Q7. What function takes a Python data structure and returns a string of JSON data?"
   ]
  },
  {
   "cell_type": "code",
   "execution_count": 9,
   "id": "c77cb360",
   "metadata": {},
   "outputs": [
    {
     "name": "stdout",
     "output_type": "stream",
     "text": [
      "<class 'str'>\n"
     ]
    },
    {
     "data": {
      "text/plain": [
       "'{\"name\": \"Yogesh\", \"sname\": \"Kolte\"}'"
      ]
     },
     "execution_count": 9,
     "metadata": {},
     "output_type": "execute_result"
    }
   ],
   "source": [
    "import json\n",
    "pythondict = {\"name\":\"Yogesh\",\"sname\":\"Kolte\"}\n",
    "jsonstr = json.dumps(pythondict)\n",
    "print(type(jsonstr))\n",
    "jsonstr"
   ]
  },
  {
   "cell_type": "markdown",
   "id": "4d9c9eeb",
   "metadata": {},
   "source": [
    "+ json.dumps(pythondict) takes pthondict and translate into a string of JSON-formated data."
   ]
  },
  {
   "cell_type": "code",
   "execution_count": null,
   "id": "8e150709",
   "metadata": {},
   "outputs": [],
   "source": []
  }
 ],
 "metadata": {
  "kernelspec": {
   "display_name": "Python 3 (ipykernel)",
   "language": "python",
   "name": "python3"
  },
  "language_info": {
   "codemirror_mode": {
    "name": "ipython",
    "version": 3
   },
   "file_extension": ".py",
   "mimetype": "text/x-python",
   "name": "python",
   "nbconvert_exporter": "python",
   "pygments_lexer": "ipython3",
   "version": "3.9.7"
  }
 },
 "nbformat": 4,
 "nbformat_minor": 5
}
