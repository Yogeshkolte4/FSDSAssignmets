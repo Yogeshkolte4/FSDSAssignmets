{
 "cells": [
  {
   "cell_type": "markdown",
   "id": "d3e9ccd8",
   "metadata": {},
   "source": [
    "+ Assertions are the condition or boolean expression which are always supposed to be true in the code.\n",
    "+ assert statement takes an expression and optional message.\n",
    "+ assert statement is used to check types, values of argument and the output of the function.\n",
    "+ assert statement is used as debugging tool as it halts the program at the point where an error occurs.\n"
   ]
  },
  {
   "cell_type": "markdown",
   "id": "cc62bd73",
   "metadata": {},
   "source": [
    "#### Q1. Create an assert statement that throws an AssertionError if the variable spam is a negative integer."
   ]
  },
  {
   "cell_type": "code",
   "execution_count": 1,
   "id": "dd11f7a7",
   "metadata": {},
   "outputs": [
    {
     "ename": "AssertionError",
     "evalue": "Negative numbers are not allowed",
     "output_type": "error",
     "traceback": [
      "\u001b[1;31m---------------------------------------------------------------------------\u001b[0m",
      "\u001b[1;31mAssertionError\u001b[0m                            Traceback (most recent call last)",
      "\u001b[1;32m~\\AppData\\Local\\Temp/ipykernel_14384/3347295016.py\u001b[0m in \u001b[0;36m<module>\u001b[1;34m\u001b[0m\n\u001b[0;32m      1\u001b[0m \u001b[0mspam\u001b[0m \u001b[1;33m=\u001b[0m \u001b[1;33m-\u001b[0m\u001b[1;36m10\u001b[0m\u001b[1;33m\u001b[0m\u001b[1;33m\u001b[0m\u001b[0m\n\u001b[1;32m----> 2\u001b[1;33m \u001b[1;32massert\u001b[0m \u001b[0mspam\u001b[0m \u001b[1;33m>\u001b[0m \u001b[1;36m0\u001b[0m \u001b[1;33m,\u001b[0m\u001b[1;34m\"Negative numbers are not allowed\"\u001b[0m\u001b[1;33m\u001b[0m\u001b[1;33m\u001b[0m\u001b[0m\n\u001b[0m",
      "\u001b[1;31mAssertionError\u001b[0m: Negative numbers are not allowed"
     ]
    }
   ],
   "source": [
    "spam = -10\n",
    "assert spam > 0 ,\"Negative numbers are not allowed\""
   ]
  },
  {
   "cell_type": "markdown",
   "id": "3ca1e9e7",
   "metadata": {},
   "source": [
    "#### Q2. Write an assert statement that triggers an AssertionError if the variables eggs and bacon contain strings that are the same as each other, even if their cases are different (that is, 'hello' and 'hello' are considered the same, and 'goodbye' and 'GOODbye' are also considered the same)."
   ]
  },
  {
   "cell_type": "code",
   "execution_count": 2,
   "id": "199ed1fa",
   "metadata": {},
   "outputs": [],
   "source": [
    "eggs = \"hello\"\n",
    "bacon = \"hello\""
   ]
  },
  {
   "cell_type": "code",
   "execution_count": 3,
   "id": "c5780ddf",
   "metadata": {},
   "outputs": [
    {
     "ename": "AssertionError",
     "evalue": "Both variable contains same value",
     "output_type": "error",
     "traceback": [
      "\u001b[1;31m---------------------------------------------------------------------------\u001b[0m",
      "\u001b[1;31mAssertionError\u001b[0m                            Traceback (most recent call last)",
      "\u001b[1;32m~\\AppData\\Local\\Temp/ipykernel_14384/3733209223.py\u001b[0m in \u001b[0;36m<module>\u001b[1;34m\u001b[0m\n\u001b[1;32m----> 1\u001b[1;33m \u001b[1;32massert\u001b[0m \u001b[0meggs\u001b[0m\u001b[1;33m.\u001b[0m\u001b[0mlower\u001b[0m\u001b[1;33m(\u001b[0m\u001b[1;33m)\u001b[0m \u001b[1;33m!=\u001b[0m \u001b[0mbacon\u001b[0m\u001b[1;33m.\u001b[0m\u001b[0mlower\u001b[0m\u001b[1;33m(\u001b[0m\u001b[1;33m)\u001b[0m\u001b[1;33m,\u001b[0m \u001b[1;34m\"Both variable contains same value\"\u001b[0m\u001b[1;33m\u001b[0m\u001b[1;33m\u001b[0m\u001b[0m\n\u001b[0m",
      "\u001b[1;31mAssertionError\u001b[0m: Both variable contains same value"
     ]
    }
   ],
   "source": [
    "assert eggs.lower() != bacon.lower(), \"Both variable contains same value\""
   ]
  },
  {
   "cell_type": "code",
   "execution_count": null,
   "id": "e8b3b5a2",
   "metadata": {},
   "outputs": [],
   "source": [
    "eggs = \"goodbye\"\n",
    "bacon = \"GOODbye\"\n",
    "eggs.lower() != bacon.lower(), \"Both variable contains same value\""
   ]
  },
  {
   "cell_type": "code",
   "execution_count": null,
   "id": "5a93cd02",
   "metadata": {},
   "outputs": [],
   "source": [
    "def avg(marks):\n",
    "    \"\"\" Calculate average from input list .\n",
    "    If length of input list is zero then assetr condition statement become False then program raise AssertionError\n",
    "    If length of input list is not equal to zero assert condition becomes true and next lines in programe will be executed\"\"\"\n",
    "    assert len(marks) != 0#, \"list is empty\"\n",
    "    return sum(marks)/len(marks)\n"
   ]
  },
  {
   "cell_type": "code",
   "execution_count": null,
   "id": "efc57618",
   "metadata": {},
   "outputs": [],
   "source": [
    "mark1 = []\n",
    "print(\"Average of mark1:\", avg(mark1))"
   ]
  },
  {
   "cell_type": "code",
   "execution_count": null,
   "id": "b2b0ee49",
   "metadata": {},
   "outputs": [],
   "source": [
    "mark1 = [1,2,3,4,5,6]\n",
    "print(\"Average of mark1:\", avg(mark1))"
   ]
  },
  {
   "cell_type": "markdown",
   "id": "8a6ba265",
   "metadata": {},
   "source": [
    "### Q3. Create an assert statement that throws an AssertionError every time."
   ]
  },
  {
   "cell_type": "code",
   "execution_count": 4,
   "id": "ab2c1e3e",
   "metadata": {},
   "outputs": [
    {
     "ename": "AssertionError",
     "evalue": "Assert alwayse false",
     "output_type": "error",
     "traceback": [
      "\u001b[1;31m---------------------------------------------------------------------------\u001b[0m",
      "\u001b[1;31mAssertionError\u001b[0m                            Traceback (most recent call last)",
      "\u001b[1;32m~\\AppData\\Local\\Temp/ipykernel_14384/3161200233.py\u001b[0m in \u001b[0;36m<module>\u001b[1;34m\u001b[0m\n\u001b[1;32m----> 1\u001b[1;33m \u001b[1;32massert\u001b[0m \u001b[1;32mFalse\u001b[0m\u001b[1;33m,\u001b[0m\u001b[1;34m\"Assert alwayse false\"\u001b[0m\u001b[1;33m\u001b[0m\u001b[1;33m\u001b[0m\u001b[0m\n\u001b[0m",
      "\u001b[1;31mAssertionError\u001b[0m: Assert alwayse false"
     ]
    }
   ],
   "source": [
    "assert False,\"Assert alwayse false\""
   ]
  },
  {
   "cell_type": "markdown",
   "id": "4009a6a4",
   "metadata": {},
   "source": [
    "#### Q4. What are the two lines that must be present in your software in order to call logging.debug()?"
   ]
  },
  {
   "cell_type": "code",
   "execution_count": 5,
   "id": "ef4c19c0",
   "metadata": {},
   "outputs": [],
   "source": [
    "import logging\n",
    "logging.basicConfig(level = logging.DEBUG,\n",
    "              format = \"%(asctime)s - %(levelname)s - %(message)s\")"
   ]
  },
  {
   "cell_type": "markdown",
   "id": "24606bf4",
   "metadata": {},
   "source": [
    "#### Q5. What are the two lines that your program must have in order to have logging.debug() send a logging message to a file named programLog.txt?"
   ]
  },
  {
   "cell_type": "code",
   "execution_count": 6,
   "id": "756210e3",
   "metadata": {},
   "outputs": [
    {
     "name": "stderr",
     "output_type": "stream",
     "text": [
      "2022-06-08 23:27:53,000 - DEBUG - Start of program\n",
      "2022-06-08 23:27:53,004 - DEBUG - Start of factorial 5\n",
      "2022-06-08 23:27:53,005 - DEBUG - 1 is total 1\n",
      "2022-06-08 23:27:53,005 - DEBUG - 2 is total 2\n",
      "2022-06-08 23:27:53,006 - DEBUG - 3 is total 6\n",
      "2022-06-08 23:27:53,007 - DEBUG - 4 is total 24\n",
      "2022-06-08 23:27:53,007 - DEBUG - 5 is total 120\n",
      "2022-06-08 23:27:53,008 - DEBUG - End of factorial 5\n",
      "2022-06-08 23:27:53,008 - DEBUG - End of program\n"
     ]
    },
    {
     "name": "stdout",
     "output_type": "stream",
     "text": [
      "120\n"
     ]
    }
   ],
   "source": [
    " import logging\n",
    "logging.basicConfig(filename = \"assignment11_log.txt\",\n",
    "              level = logging.DEBUG,\n",
    "              format = \"%(asctime)s - %(levelname)s - %(message)s\")\n",
    "logging.debug(\"Start of program\")\n",
    "\n",
    "def factorial(n):\n",
    "    logging.debug(\"Start of factorial %d\" %(n))\n",
    "    total = 1\n",
    "    for i in range(1,n+1):\n",
    "        total *= i\n",
    "        logging.debug(\"%d is total %d\" %(i, total))\n",
    "    logging.debug(\"End of factorial %d\" %(n))\n",
    "    return total\n",
    "\n",
    "print(factorial(5))\n",
    "logging.debug(\"End of program\")"
   ]
  },
  {
   "cell_type": "markdown",
   "id": "90e26b8b",
   "metadata": {},
   "source": [
    "#### Q6. What are the five levels of logging?"
   ]
  },
  {
   "cell_type": "markdown",
   "id": "758d57ef",
   "metadata": {},
   "source": [
    "+ DEBUG: logging.debug() - This is a low priority logging used for small detalis. Usually you care about these messages only when diagnosing problem.\n",
    "\n",
    "+ INFO: logging.info() -  Used to record information on general event in your program or confirm that things are working at their point in the program.\n",
    "\n",
    "+ WORNING: logging.worning() - Used to indicate a potentional problem that dosent stop the program execution.\n",
    "\n",
    "+ ERROR: logging.error() Used to record an error that stop the program execution.\n",
    "\n",
    "+ CRITICAL: logging.critical() - This is the high priority logging level used to log important error that cause the program to stop running entirely.\n",
    "\n"
   ]
  },
  {
   "cell_type": "markdown",
   "id": "7030fbcf",
   "metadata": {},
   "source": [
    "#### Q7. What line of code would you add to your software to disable all logging messages?"
   ]
  },
  {
   "cell_type": "code",
   "execution_count": 7,
   "id": "558e462f",
   "metadata": {},
   "outputs": [
    {
     "name": "stderr",
     "output_type": "stream",
     "text": [
      "2022-06-08 23:27:54,207 - CRITICAL - Critical error occured\n"
     ]
    }
   ],
   "source": [
    "import logging\n",
    "logging.basicConfig(filename = 'assignment11_log.txt',level=logging.DEBUG,format= \"%(asctime)s - %(levelname)s - %(message)s\")\n",
    "logging.critical(\"Critical error occured\")\n",
    "logging.disable(logging.CRITICAL)\n",
    "logging.critical(\"Critical error after dissable logging\")\n",
    "logging.error(\"Error\")"
   ]
  },
  {
   "cell_type": "markdown",
   "id": "5b06f3f6",
   "metadata": {},
   "source": [
    "#### Q8.Why is using logging messages better than using print() to display the same message?"
   ]
  },
  {
   "cell_type": "markdown",
   "id": "0510e1d1",
   "metadata": {},
   "source": [
    "+ The logging module not only display the massage on screen but also facilate to save these log message in to file."
   ]
  },
  {
   "cell_type": "markdown",
   "id": "9a554544",
   "metadata": {},
   "source": [
    "#### Q9. What are the differences between the Step Over, Step In, and Step Out buttons in the debugger?"
   ]
  },
  {
   "cell_type": "markdown",
   "id": "23609909",
   "metadata": {},
   "source": [
    "+ Step in will cause the debugger to execute the next line of code and then pause again. The Debug Control window’s list of global and local variables will be updated if their values change. If the next line of code is a function call, the debugger will “step into” that function and jump to the first line of code of that function.\n",
    "\n",
    "+ Step Over will execute the next line of code, similar to the Step button. However, if the next line of code is a function call, the Over button will “step over” the code in the function. The function’s code will be executed at full speed, and the debugger will pause as soon as the function call returns.\n",
    "\n",
    "+ Out will cause the debugger to execute lines of code at full speed until it returns from the current function. If you have stepped into a function call with the Step button and now simply want to keep executing instructions until you get back out, click the Out button to “step out” of the current function call."
   ]
  },
  {
   "cell_type": "markdown",
   "id": "b61bbf4a",
   "metadata": {},
   "source": [
    "#### Q 10.After you click Continue, when will the debugger stop ?"
   ]
  },
  {
   "cell_type": "markdown",
   "id": "2117b52f",
   "metadata": {},
   "source": [
    "+ Untill program terminate or control reach breakpoint."
   ]
  },
  {
   "cell_type": "markdown",
   "id": "c60cba65",
   "metadata": {},
   "source": [
    "#### Q11. What is the concept of a breakpoint?"
   ]
  },
  {
   "cell_type": "markdown",
   "id": "401cbadc",
   "metadata": {},
   "source": [
    "A breakpoint can be set on a specific line of code and forces the debugger to pause whenever the program execution reaches that line. "
   ]
  },
  {
   "cell_type": "code",
   "execution_count": null,
   "id": "6af53a87",
   "metadata": {},
   "outputs": [],
   "source": []
  }
 ],
 "metadata": {
  "kernelspec": {
   "display_name": "Python 3 (ipykernel)",
   "language": "python",
   "name": "python3"
  },
  "language_info": {
   "codemirror_mode": {
    "name": "ipython",
    "version": 3
   },
   "file_extension": ".py",
   "mimetype": "text/x-python",
   "name": "python",
   "nbconvert_exporter": "python",
   "pygments_lexer": "ipython3",
   "version": "3.9.7"
  }
 },
 "nbformat": 4,
 "nbformat_minor": 5
}
