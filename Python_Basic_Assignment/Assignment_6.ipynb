{
 "cells": [
  {
   "cell_type": "markdown",
   "id": "1c36bc66",
   "metadata": {},
   "source": [
    "#### Q1. What are escape characters, and how do you use them?"
   ]
  },
  {
   "cell_type": "markdown",
   "id": "c7f7bd71",
   "metadata": {},
   "source": [
    "An escape characters consist of a backslash (/) fallowed by the character you want to add to the string."
   ]
  },
  {
   "cell_type": "code",
   "execution_count": 1,
   "id": "fbd17ee4",
   "metadata": {},
   "outputs": [
    {
     "ename": "SyntaxError",
     "evalue": "invalid syntax (Temp/ipykernel_8492/3245963823.py, line 1)",
     "output_type": "error",
     "traceback": [
      "\u001b[1;36m  File \u001b[1;32m\"C:\\Users\\Lenovo\\AppData\\Local\\Temp/ipykernel_8492/3245963823.py\"\u001b[1;36m, line \u001b[1;32m1\u001b[0m\n\u001b[1;33m    print(\"He said, \"What's there?\"\")\u001b[0m\n\u001b[1;37m                     ^\u001b[0m\n\u001b[1;31mSyntaxError\u001b[0m\u001b[1;31m:\u001b[0m invalid syntax\n"
     ]
    }
   ],
   "source": [
    "print(\"He said, \"What's there?\"\")"
   ]
  },
  {
   "cell_type": "code",
   "execution_count": null,
   "id": "56e25577",
   "metadata": {},
   "outputs": [],
   "source": [
    "print(\"He said, \\\"What's there?\\\"\")"
   ]
  },
  {
   "cell_type": "markdown",
   "id": "3d7198cf",
   "metadata": {},
   "source": [
    "Here \\\" used as escape character to print \"\""
   ]
  },
  {
   "cell_type": "markdown",
   "id": "8c6424ce",
   "metadata": {},
   "source": [
    "#### Escape sequences\n",
    "\\n : New line.\n",
    "\n",
    "\\\\ : Backslash.\n",
    "\n",
    "\\' : Single quote.\n",
    "\n",
    "\\\" : Double quote.\n",
    "\n",
    "\\t : Horizontal tab.\n",
    "\n",
    "\\v : Vertical tab.\n",
    "\n",
    "\\ooo: Character with octal value.\n",
    "\n",
    "\\xHH : Character with hexadecimal value.\n"
   ]
  },
  {
   "cell_type": "markdown",
   "id": "ba084c09",
   "metadata": {},
   "source": [
    "#### Q2. What do the escape characters n and t stand for?"
   ]
  },
  {
   "cell_type": "markdown",
   "id": "6470e5ba",
   "metadata": {},
   "source": [
    "\\t : Horizontal tab\n",
    "\n",
    "\\n : New line"
   ]
  },
  {
   "cell_type": "markdown",
   "id": "f9bbcc01",
   "metadata": {},
   "source": [
    "#### Q3. What is the way to include backslash characters in a string?"
   ]
  },
  {
   "cell_type": "code",
   "execution_count": null,
   "id": "24064a46",
   "metadata": {},
   "outputs": [],
   "source": [
    "path = \"E:\\\\FSDS_Assignments\\\\Python_Basic_Assignment\\\\\""
   ]
  },
  {
   "cell_type": "code",
   "execution_count": null,
   "id": "cae1c6fb",
   "metadata": {},
   "outputs": [],
   "source": [
    "print(path)"
   ]
  },
  {
   "cell_type": "markdown",
   "id": "4636c233",
   "metadata": {},
   "source": [
    "Using \\\\\\"
   ]
  },
  {
   "cell_type": "markdown",
   "id": "aef029db",
   "metadata": {},
   "source": [
    "#### Q4. The string \"Howl's Moving Castle\" is a correct value. Why isn't the single quote character in the word Howl's not escaped a problem?"
   ]
  },
  {
   "cell_type": "code",
   "execution_count": 2,
   "id": "91b5d59a",
   "metadata": {},
   "outputs": [],
   "source": [
    "str1=  \"Howl's Moving Castle\""
   ]
  },
  {
   "cell_type": "markdown",
   "id": "81b4317f",
   "metadata": {},
   "source": [
    "String object can be created by enclosing characters asingle quote of double-quotes. Here string is enclosed in double quotes and single qoute is not consider as end of string so we not need to add ascape charecter."
   ]
  },
  {
   "cell_type": "code",
   "execution_count": 3,
   "id": "c65502a1",
   "metadata": {},
   "outputs": [
    {
     "ename": "SyntaxError",
     "evalue": "invalid syntax (Temp/ipykernel_8492/1796713251.py, line 1)",
     "output_type": "error",
     "traceback": [
      "\u001b[1;36m  File \u001b[1;32m\"C:\\Users\\Lenovo\\AppData\\Local\\Temp/ipykernel_8492/1796713251.py\"\u001b[1;36m, line \u001b[1;32m1\u001b[0m\n\u001b[1;33m    str1=  'Howl's Moving Castle'\u001b[0m\n\u001b[1;37m                 ^\u001b[0m\n\u001b[1;31mSyntaxError\u001b[0m\u001b[1;31m:\u001b[0m invalid syntax\n"
     ]
    }
   ],
   "source": [
    "str1=  'Howl's Moving Castle'"
   ]
  },
  {
   "cell_type": "markdown",
   "id": "15042868",
   "metadata": {},
   "source": [
    "Error raised in above line bacause single quote before s is consider as end of string before s and open single quote raise syntax error."
   ]
  },
  {
   "cell_type": "markdown",
   "id": "e84cd6cd",
   "metadata": {},
   "source": [
    "#### Q5. How do you write a string of newlines if you don't want to use the n character?"
   ]
  },
  {
   "cell_type": "markdown",
   "id": "6847b276",
   "metadata": {},
   "source": [
    "Multiline setring can be created using \"\"\"Multi line string\"\"\""
   ]
  },
  {
   "cell_type": "code",
   "execution_count": 4,
   "id": "beecfee4",
   "metadata": {},
   "outputs": [],
   "source": [
    "str2 = \"\"\"This is an multiline\n",
    "string syntax\"\"\""
   ]
  },
  {
   "cell_type": "code",
   "execution_count": 5,
   "id": "df6a672c",
   "metadata": {},
   "outputs": [
    {
     "name": "stdout",
     "output_type": "stream",
     "text": [
      "This is an multiline\n",
      "string syntax\n"
     ]
    }
   ],
   "source": [
    "print(str2)"
   ]
  },
  {
   "cell_type": "markdown",
   "id": "c4fdb889",
   "metadata": {},
   "source": [
    "#### Q6. What are the values of the given expressions?\n",
    "'Hello, world!'[1]\n",
    "\n",
    "'Hello, world!'[0:5]\n",
    "\n",
    "'Hello, world!'[:5]\n",
    "\n",
    "'Hello, world!'[3:]\n"
   ]
  },
  {
   "cell_type": "code",
   "execution_count": 6,
   "id": "6c926a1e",
   "metadata": {},
   "outputs": [
    {
     "data": {
      "text/plain": [
       "'e'"
      ]
     },
     "execution_count": 6,
     "metadata": {},
     "output_type": "execute_result"
    }
   ],
   "source": [
    "'Hello, world!'[1] #Extract 1st index value"
   ]
  },
  {
   "cell_type": "code",
   "execution_count": 7,
   "id": "f35299fa",
   "metadata": {},
   "outputs": [
    {
     "data": {
      "text/plain": [
       "'Hello'"
      ]
     },
     "execution_count": 7,
     "metadata": {},
     "output_type": "execute_result"
    }
   ],
   "source": [
    "'Hello, world!'[0:5] #Get characters in string having starting index is 0 and end of index is 4"
   ]
  },
  {
   "cell_type": "markdown",
   "id": "9ef339a7",
   "metadata": {},
   "source": [
    "Range of index from one index to another is given in expression so the starting index is included and the ending index is not included during the slicing of string."
   ]
  },
  {
   "cell_type": "code",
   "execution_count": 8,
   "id": "c2e4c14b",
   "metadata": {},
   "outputs": [
    {
     "name": "stdout",
     "output_type": "stream",
     "text": [
      "Sample first five index of string.get n-1 characters\n"
     ]
    }
   ],
   "source": [
    "'Hello, world!'[:5]\n",
    "print(\"Sample first five index of string.get n-1 characters\")"
   ]
  },
  {
   "cell_type": "code",
   "execution_count": 9,
   "id": "a7028b62",
   "metadata": {},
   "outputs": [
    {
     "name": "stdout",
     "output_type": "stream",
     "text": [
      "lo, world!\n",
      "\n",
      "Get all characters in string whose indexes are >=3\n"
     ]
    }
   ],
   "source": [
    "print('Hello, world!'[3:])\n",
    "print(\"\\nGet all characters in string whose indexes are >=3\")"
   ]
  },
  {
   "cell_type": "markdown",
   "id": "bc37aff8",
   "metadata": {},
   "source": [
    "#### Q7. What are the values of the following expressions?\n",
    "'Hello'.upper()\n",
    "\n",
    "'Hello'.upper().isupper()\n",
    "\n",
    "'Hello'.upper().lower()\n",
    "\n"
   ]
  },
  {
   "cell_type": "code",
   "execution_count": 10,
   "id": "da6e92dc",
   "metadata": {},
   "outputs": [],
   "source": [
    "str1= \"Hello\""
   ]
  },
  {
   "cell_type": "code",
   "execution_count": 11,
   "id": "80b4c68b",
   "metadata": {},
   "outputs": [
    {
     "data": {
      "text/plain": [
       "'HELLO'"
      ]
     },
     "execution_count": 11,
     "metadata": {},
     "output_type": "execute_result"
    }
   ],
   "source": [
    "# Convert string in to uppercase\n",
    "str1.upper()"
   ]
  },
  {
   "cell_type": "code",
   "execution_count": 12,
   "id": "787d590b",
   "metadata": {},
   "outputs": [
    {
     "data": {
      "text/plain": [
       "True"
      ]
     },
     "execution_count": 12,
     "metadata": {},
     "output_type": "execute_result"
    }
   ],
   "source": [
    "#Conver string in to uppercase and then test string is in uppercase or not\n",
    "'Hello'.upper().isupper()"
   ]
  },
  {
   "cell_type": "code",
   "execution_count": 13,
   "id": "6953240a",
   "metadata": {},
   "outputs": [
    {
     "data": {
      "text/plain": [
       "'hello'"
      ]
     },
     "execution_count": 13,
     "metadata": {},
     "output_type": "execute_result"
    }
   ],
   "source": [
    "#Conver string in to uppercase and then convert string into lowercase \n",
    "'Hello'.upper().lower()"
   ]
  },
  {
   "cell_type": "markdown",
   "id": "31094aca",
   "metadata": {},
   "source": [
    "The upper() and lower() methods are helpful if you need to make a case-insensitive comparison."
   ]
  },
  {
   "cell_type": "markdown",
   "id": "99b86982",
   "metadata": {},
   "source": [
    "#### Q8. What are the values of the following expressions?\n",
    "\n",
    "'Remember, remember, the fifth of July.'.split()\n",
    "\n",
    "'-'.join('There can only one.'.split())\n"
   ]
  },
  {
   "cell_type": "code",
   "execution_count": 14,
   "id": "5fc0a3f8",
   "metadata": {},
   "outputs": [
    {
     "data": {
      "text/plain": [
       "['Remember,', 'remember,', 'the', 'fifth', 'of', 'July.']"
      ]
     },
     "execution_count": 14,
     "metadata": {},
     "output_type": "execute_result"
    }
   ],
   "source": [
    "'Remember, remember, the fifth of July.'.split()"
   ]
  },
  {
   "cell_type": "markdown",
   "id": "c8839f93",
   "metadata": {},
   "source": [
    "In above line string has splitted using space character and result is store in the list"
   ]
  },
  {
   "cell_type": "code",
   "execution_count": 15,
   "id": "7e8d9dd8",
   "metadata": {},
   "outputs": [
    {
     "data": {
      "text/plain": [
       "'There-can-only-one.'"
      ]
     },
     "execution_count": 15,
     "metadata": {},
     "output_type": "execute_result"
    }
   ],
   "source": [
    "'-'.join('There can only one.'.split())"
   ]
  },
  {
   "cell_type": "markdown",
   "id": "8e80edd5",
   "metadata": {},
   "source": [
    "In above line string has splitted using space character and result is store in the list and then join the strings in list by '-'."
   ]
  },
  {
   "cell_type": "markdown",
   "id": "ec8f1dd0",
   "metadata": {},
   "source": [
    "#### Q9. What are the methods for right-justifying, left-justifying, and centering a string?"
   ]
  },
  {
   "cell_type": "markdown",
   "id": "cde36ef9",
   "metadata": {},
   "source": [
    "The rjust() and ljust() string methods return a padded version of the string they are called on, with spaces inserted to justify the text. The first argument to both methods is an integer length for the justified string."
   ]
  },
  {
   "cell_type": "code",
   "execution_count": 16,
   "id": "bc3e13cd",
   "metadata": {},
   "outputs": [],
   "source": [
    "str1 = \"Differential phase\""
   ]
  },
  {
   "cell_type": "code",
   "execution_count": 17,
   "id": "c3bdc5f2",
   "metadata": {},
   "outputs": [
    {
     "name": "stdout",
     "output_type": "stream",
     "text": [
      "Differential phase\n"
     ]
    }
   ],
   "source": [
    "print(str1)"
   ]
  },
  {
   "cell_type": "code",
   "execution_count": 18,
   "id": "6224cb7f",
   "metadata": {},
   "outputs": [
    {
     "data": {
      "text/plain": [
       "18"
      ]
     },
     "execution_count": 18,
     "metadata": {},
     "output_type": "execute_result"
    }
   ],
   "source": [
    "len(str1)"
   ]
  },
  {
   "cell_type": "code",
   "execution_count": 19,
   "id": "a1b72f16",
   "metadata": {},
   "outputs": [],
   "source": [
    "str2 = str1.rjust(50,\"-\")#Justify test in right"
   ]
  },
  {
   "cell_type": "code",
   "execution_count": 20,
   "id": "ea963cbe",
   "metadata": {},
   "outputs": [
    {
     "data": {
      "text/plain": [
       "'--------------------------------Differential phase'"
      ]
     },
     "execution_count": 20,
     "metadata": {},
     "output_type": "execute_result"
    }
   ],
   "source": [
    "str2"
   ]
  },
  {
   "cell_type": "code",
   "execution_count": 21,
   "id": "e75d87ad",
   "metadata": {},
   "outputs": [
    {
     "data": {
      "text/plain": [
       "50"
      ]
     },
     "execution_count": 21,
     "metadata": {},
     "output_type": "execute_result"
    }
   ],
   "source": [
    "len(str2)"
   ]
  },
  {
   "cell_type": "code",
   "execution_count": 22,
   "id": "9c159213",
   "metadata": {},
   "outputs": [
    {
     "data": {
      "text/plain": [
       "'Differential phase********************************'"
      ]
     },
     "execution_count": 22,
     "metadata": {},
     "output_type": "execute_result"
    }
   ],
   "source": [
    "str1.ljust(50,\"*\")#Justify test in left"
   ]
  },
  {
   "cell_type": "code",
   "execution_count": 23,
   "id": "c575cb80",
   "metadata": {},
   "outputs": [
    {
     "data": {
      "text/plain": [
       "'****************Differential phase****************'"
      ]
     },
     "execution_count": 23,
     "metadata": {},
     "output_type": "execute_result"
    }
   ],
   "source": [
    "str1.center(50,\"*\") #Justify test in center"
   ]
  },
  {
   "cell_type": "markdown",
   "id": "286b79e1",
   "metadata": {},
   "source": [
    "#### Q10. What is the best way to remove whitespace characters from the start or end?"
   ]
  },
  {
   "cell_type": "markdown",
   "id": "c84f95ed",
   "metadata": {},
   "source": [
    " The strip() string method will return a new string without any whitespace characters at the beginning or end."
   ]
  },
  {
   "cell_type": "code",
   "execution_count": 24,
   "id": "05625c5d",
   "metadata": {},
   "outputs": [],
   "source": [
    "str1 = \"   Differential phase    \""
   ]
  },
  {
   "cell_type": "code",
   "execution_count": 25,
   "id": "2e4bfa2b",
   "metadata": {},
   "outputs": [],
   "source": [
    "str2 = str1.strip()"
   ]
  },
  {
   "cell_type": "code",
   "execution_count": 26,
   "id": "68c2ebe4",
   "metadata": {},
   "outputs": [
    {
     "data": {
      "text/plain": [
       "'Differential phase'"
      ]
     },
     "execution_count": 26,
     "metadata": {},
     "output_type": "execute_result"
    }
   ],
   "source": [
    "str2"
   ]
  },
  {
   "cell_type": "code",
   "execution_count": 27,
   "id": "5dcd609a",
   "metadata": {},
   "outputs": [],
   "source": [
    "spam = 'SpamSpamBaconSpamEggsSpamSpam'"
   ]
  },
  {
   "cell_type": "code",
   "execution_count": 28,
   "id": "a376816b",
   "metadata": {},
   "outputs": [
    {
     "data": {
      "text/plain": [
       "'BaconSpamEggs'"
      ]
     },
     "execution_count": 28,
     "metadata": {},
     "output_type": "execute_result"
    }
   ],
   "source": [
    "spam.strip(\"ampS\")"
   ]
  },
  {
   "cell_type": "markdown",
   "id": "5ac1a519",
   "metadata": {},
   "source": [
    "Remove the occurance of a,m,p and S from both side of string"
   ]
  },
  {
   "cell_type": "markdown",
   "id": "7646dd97",
   "metadata": {},
   "source": [
    "The lstrip() and rstrip() methods will remove whitespace characters from the left and right ends, respectively"
   ]
  },
  {
   "cell_type": "code",
   "execution_count": 29,
   "id": "e6ae2592",
   "metadata": {},
   "outputs": [
    {
     "data": {
      "text/plain": [
       "'Differential phase    '"
      ]
     },
     "execution_count": 29,
     "metadata": {},
     "output_type": "execute_result"
    }
   ],
   "source": [
    "str1.lstrip()"
   ]
  },
  {
   "cell_type": "code",
   "execution_count": 30,
   "id": "56e970a7",
   "metadata": {},
   "outputs": [
    {
     "data": {
      "text/plain": [
       "'   Differential phase'"
      ]
     },
     "execution_count": 30,
     "metadata": {},
     "output_type": "execute_result"
    }
   ],
   "source": [
    "str1.rstrip()"
   ]
  },
  {
   "cell_type": "code",
   "execution_count": null,
   "id": "b9c65d8c",
   "metadata": {},
   "outputs": [],
   "source": []
  }
 ],
 "metadata": {
  "kernelspec": {
   "display_name": "Python 3 (ipykernel)",
   "language": "python",
   "name": "python3"
  },
  "language_info": {
   "codemirror_mode": {
    "name": "ipython",
    "version": 3
   },
   "file_extension": ".py",
   "mimetype": "text/x-python",
   "name": "python",
   "nbconvert_exporter": "python",
   "pygments_lexer": "ipython3",
   "version": "3.9.7"
  }
 },
 "nbformat": 4,
 "nbformat_minor": 5
}
