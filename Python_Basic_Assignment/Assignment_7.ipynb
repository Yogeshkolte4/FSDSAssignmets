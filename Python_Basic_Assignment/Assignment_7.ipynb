{
 "cells": [
  {
   "cell_type": "markdown",
   "id": "ff2b852d",
   "metadata": {},
   "source": [
    "#### Q1. What is the name of the feature responsible for generating Regex objects?"
   ]
  },
  {
   "cell_type": "markdown",
   "id": "004f6f93",
   "metadata": {},
   "source": [
    "import re\n",
    "\n",
    "re.compile(string pattern)method used to create Regex pattern object."
   ]
  },
  {
   "cell_type": "code",
   "execution_count": 1,
   "id": "4aaacc47",
   "metadata": {},
   "outputs": [],
   "source": [
    "import re\n",
    "phoneNumRegex = re.compile(r'\\d\\d\\d-\\d\\d\\d-\\d\\d\\d\\d')"
   ]
  },
  {
   "cell_type": "markdown",
   "id": "69a7f099",
   "metadata": {},
   "source": [
    "A Regex object’s search() method searches the string it is passed for any matches to the regex. The search() method will return None if the regex pattern is not found in the string.If the pattern is found, the search() method returns a Match object.  \n",
    "\n",
    "Match objects have a group() method that will return the actual matched text from the searched string."
   ]
  },
  {
   "cell_type": "code",
   "execution_count": 2,
   "id": "f0beb47e",
   "metadata": {},
   "outputs": [],
   "source": [
    "import re\n",
    "phoneNumRegex = re.compile(r'\\d\\d\\d-\\d\\d\\d-\\d\\d\\d\\d')"
   ]
  },
  {
   "cell_type": "code",
   "execution_count": 3,
   "id": "7c2578c9",
   "metadata": {},
   "outputs": [],
   "source": [
    "mo_no = phoneNumRegex.search(\"My phone number is 012-555-6789.\")"
   ]
  },
  {
   "cell_type": "code",
   "execution_count": 4,
   "id": "a031fd43",
   "metadata": {},
   "outputs": [
    {
     "data": {
      "text/plain": [
       "'012-555-6789'"
      ]
     },
     "execution_count": 4,
     "metadata": {},
     "output_type": "execute_result"
    }
   ],
   "source": [
    "mo_no.group()"
   ]
  },
  {
   "cell_type": "markdown",
   "id": "36627f5e",
   "metadata": {},
   "source": [
    "#### Q2. Why do raw strings often appear in Regex objects?"
   ]
  },
  {
   "cell_type": "markdown",
   "id": "cb757ffc",
   "metadata": {},
   "source": [
    "Regular expressions frequently use backslashes in them to seperate character so it is convenient to pass raw strings to the instead of typing extra backslashes. \n",
    "\n",
    "Typing r'\\d\\d\\d-\\d\\d\\d-\\d\\d\\d\\d' is much easier than typing '\\\\d\\\\d\\\\d-\\\\d\\\\d\\\\d-\\\\d\\\\d\\\\d\\\\d'."
   ]
  },
  {
   "cell_type": "markdown",
   "id": "b9b8cbbb",
   "metadata": {},
   "source": [
    "#### Q3. What is the return value of the search() method?"
   ]
  },
  {
   "cell_type": "markdown",
   "id": "3e73ab26",
   "metadata": {},
   "source": [
    "+ The search() method searches the string that is passed for any matches to the regex.\n",
    "+ The search() method will return None if the regex pattern is not found in the string.\n",
    "+ If search pattern found in string the search method returns a match object. The match object have group method that will return the actual match text from the search string. "
   ]
  },
  {
   "cell_type": "markdown",
   "id": "5ccc26b5",
   "metadata": {},
   "source": [
    "#### Q4. From a Match item, how do you get the actual strings that match the pattern?"
   ]
  },
  {
   "cell_type": "markdown",
   "id": "dd4a49df",
   "metadata": {},
   "source": [
    "We can get the actual strings that match the pattern by using group method avalible in the search object. "
   ]
  },
  {
   "cell_type": "markdown",
   "id": "d6739824",
   "metadata": {},
   "source": [
    "#### Q5. In the regex which created from the r'(\\d\\d\\d)-(\\d\\d\\d-\\d\\d\\d\\d)', what does group zero cover? Group 2? Group 1?"
   ]
  },
  {
   "cell_type": "code",
   "execution_count": 5,
   "id": "fae3aedd",
   "metadata": {},
   "outputs": [],
   "source": [
    "import re"
   ]
  },
  {
   "cell_type": "code",
   "execution_count": 6,
   "id": "b5119b13",
   "metadata": {},
   "outputs": [],
   "source": [
    "pn_regex = re.compile(r'(\\d\\d\\d)-(\\d\\d\\d-\\d\\d\\d\\d)')"
   ]
  },
  {
   "cell_type": "code",
   "execution_count": 7,
   "id": "d286fd92",
   "metadata": {},
   "outputs": [],
   "source": [
    "str1 = \"Hi my phone number is 123-333-4567 please text me.\""
   ]
  },
  {
   "cell_type": "code",
   "execution_count": 8,
   "id": "843d23a9",
   "metadata": {},
   "outputs": [],
   "source": [
    "mo_no = pn_regex.search(str1)"
   ]
  },
  {
   "cell_type": "code",
   "execution_count": 9,
   "id": "8dd0cbdf",
   "metadata": {},
   "outputs": [
    {
     "data": {
      "text/plain": [
       "'123-333-4567'"
      ]
     },
     "execution_count": 9,
     "metadata": {},
     "output_type": "execute_result"
    }
   ],
   "source": [
    "mo_no.group(0) #Return entire matched tex"
   ]
  },
  {
   "cell_type": "code",
   "execution_count": 10,
   "id": "9372fbe8",
   "metadata": {},
   "outputs": [
    {
     "data": {
      "text/plain": [
       "'123'"
      ]
     },
     "execution_count": 10,
     "metadata": {},
     "output_type": "execute_result"
    }
   ],
   "source": [
    "mo_no.group(1) #Get first set of parentheses in a regex string"
   ]
  },
  {
   "cell_type": "code",
   "execution_count": 11,
   "id": "c6bc08bf",
   "metadata": {},
   "outputs": [
    {
     "data": {
      "text/plain": [
       "'333-4567'"
      ]
     },
     "execution_count": 11,
     "metadata": {},
     "output_type": "execute_result"
    }
   ],
   "source": [
    "mo_no.group(2) #Get second set of parentheses in a regex string"
   ]
  },
  {
   "cell_type": "markdown",
   "id": "7a95d3b7",
   "metadata": {},
   "source": [
    "#### Q6. In standard expression syntax, parentheses and intervals have distinct meanings. How can you tell a regex that you want it to fit real parentheses and periods?"
   ]
  },
  {
   "cell_type": "markdown",
   "id": "ff5d1a93",
   "metadata": {},
   "source": [
    "The | character is called a pipe. You can use it anywhere you want to match one of many expressions. "
   ]
  },
  {
   "cell_type": "code",
   "execution_count": 12,
   "id": "9ff23f1e",
   "metadata": {},
   "outputs": [],
   "source": [
    "str1 = \"High ZDR and KDP observe in strong echo\""
   ]
  },
  {
   "cell_type": "code",
   "execution_count": 13,
   "id": "d2fa07d2",
   "metadata": {},
   "outputs": [],
   "source": [
    "import re\n",
    "reg_pattern = re.compile(r\"ZDR|KDP\") #Search ZDR or KDP\n",
    "var = reg_pattern.search(str1) #First occurance of matching text will be return as Match object."
   ]
  },
  {
   "cell_type": "code",
   "execution_count": 14,
   "id": "5a23f3ed",
   "metadata": {},
   "outputs": [
    {
     "data": {
      "text/plain": [
       "'ZDR'"
      ]
     },
     "execution_count": 14,
     "metadata": {},
     "output_type": "execute_result"
    }
   ],
   "source": [
    "var.group() "
   ]
  },
  {
   "cell_type": "code",
   "execution_count": 15,
   "id": "5691a763",
   "metadata": {},
   "outputs": [],
   "source": [
    "reg_pattern = re.compile(r\"KDP|ZDR\")"
   ]
  },
  {
   "cell_type": "code",
   "execution_count": 16,
   "id": "489caa50",
   "metadata": {},
   "outputs": [],
   "source": [
    "var = reg_pattern.search(str1)"
   ]
  },
  {
   "cell_type": "code",
   "execution_count": 17,
   "id": "6fc6b854",
   "metadata": {},
   "outputs": [
    {
     "data": {
      "text/plain": [
       "'ZDR'"
      ]
     },
     "execution_count": 17,
     "metadata": {},
     "output_type": "execute_result"
    }
   ],
   "source": [
    "var.group()"
   ]
  },
  {
   "cell_type": "markdown",
   "id": "b85a1972",
   "metadata": {},
   "source": [
    "#### Q7. The findall() method returns a string list or a list of string tuples. What causes it to return one of the two options?"
   ]
  },
  {
   "cell_type": "code",
   "execution_count": 18,
   "id": "31323733",
   "metadata": {},
   "outputs": [],
   "source": [
    "str1 = \"High ZDR and KDP observe in strong echo\""
   ]
  },
  {
   "cell_type": "code",
   "execution_count": 19,
   "id": "425a3a3c",
   "metadata": {},
   "outputs": [],
   "source": [
    "reg_pattern = re.compile(r\"KDP|ZDR\")"
   ]
  },
  {
   "cell_type": "markdown",
   "id": "5a159c86",
   "metadata": {},
   "source": [
    "+ The findall() method will return the strings of every match in the searched string.\n",
    "+ findall() will not return a Match object but a list of strings—as long as there are no groups in the regular expression."
   ]
  },
  {
   "cell_type": "code",
   "execution_count": 20,
   "id": "0d8d7f63",
   "metadata": {},
   "outputs": [],
   "source": [
    "var = reg_pattern.findall(str1) #Return list of search pattern object"
   ]
  },
  {
   "cell_type": "code",
   "execution_count": 21,
   "id": "0d3e4f95",
   "metadata": {},
   "outputs": [
    {
     "data": {
      "text/plain": [
       "['ZDR', 'KDP']"
      ]
     },
     "execution_count": 21,
     "metadata": {},
     "output_type": "execute_result"
    }
   ],
   "source": [
    "var"
   ]
  },
  {
   "cell_type": "markdown",
   "id": "31ed2317",
   "metadata": {},
   "source": [
    "+ If there are groups in the regular expression, then findall() will return a list of tuples. Each tuple represents a found match, and its items are the matched strings for each group in the regex."
   ]
  },
  {
   "cell_type": "code",
   "execution_count": 22,
   "id": "6fe5f954",
   "metadata": {},
   "outputs": [],
   "source": [
    "reg_pattern = re.compile(r\"(KDP)|(ZDR)\")"
   ]
  },
  {
   "cell_type": "code",
   "execution_count": 23,
   "id": "4c194d15",
   "metadata": {},
   "outputs": [
    {
     "data": {
      "text/plain": [
       "[('', 'ZDR'), ('KDP', '')]"
      ]
     },
     "execution_count": 23,
     "metadata": {},
     "output_type": "execute_result"
    }
   ],
   "source": [
    "reg_pattern.findall(str1)"
   ]
  },
  {
   "cell_type": "markdown",
   "id": "25360283",
   "metadata": {},
   "source": [
    "#### Q8. In standard expressions, what does the | character mean?"
   ]
  },
  {
   "cell_type": "markdown",
   "id": "77f7d441",
   "metadata": {},
   "source": [
    "\"|\" used as bitwise or operator."
   ]
  },
  {
   "cell_type": "markdown",
   "id": "d7b61b45",
   "metadata": {},
   "source": [
    "#### Q9. In regular expressions, what does the ? character stand for?"
   ]
  },
  {
   "cell_type": "markdown",
   "id": "ad37424a",
   "metadata": {},
   "source": [
    "The ? character flags the group that precedes it as an optional part of the pattern."
   ]
  },
  {
   "cell_type": "code",
   "execution_count": 24,
   "id": "ed552e64",
   "metadata": {},
   "outputs": [],
   "source": [
    "regx = re.compile(r\"Bat(wo)?man\") # wo is oprional search pattern"
   ]
  },
  {
   "cell_type": "code",
   "execution_count": 25,
   "id": "021d2da7",
   "metadata": {},
   "outputs": [],
   "source": [
    "var = regx.search(\"The adventure of Batman\")"
   ]
  },
  {
   "cell_type": "code",
   "execution_count": 26,
   "id": "14a51b3b",
   "metadata": {},
   "outputs": [
    {
     "data": {
      "text/plain": [
       "'Batman'"
      ]
     },
     "execution_count": 26,
     "metadata": {},
     "output_type": "execute_result"
    }
   ],
   "source": [
    "var.group()"
   ]
  },
  {
   "cell_type": "markdown",
   "id": "845ad87c",
   "metadata": {},
   "source": [
    "+ In above line (wo) becomes optional string group in expresion becaue of ? so Batman or Batwoman are searched in string.\n",
    "+ Match zero or one of the group preceding  question mark"
   ]
  },
  {
   "cell_type": "code",
   "execution_count": 27,
   "id": "86f6a3a6",
   "metadata": {},
   "outputs": [],
   "source": [
    "var = regx.search(\"The adventure of Batwoman\")"
   ]
  },
  {
   "cell_type": "code",
   "execution_count": 28,
   "id": "f9a2c7e3",
   "metadata": {},
   "outputs": [
    {
     "data": {
      "text/plain": [
       "'Batwoman'"
      ]
     },
     "execution_count": 28,
     "metadata": {},
     "output_type": "execute_result"
    }
   ],
   "source": [
    "var.group()"
   ]
  },
  {
   "cell_type": "markdown",
   "id": "91911b08",
   "metadata": {},
   "source": [
    "#### Q10.In regular expressions, what is the difference between the + and * characters?"
   ]
  },
  {
   "cell_type": "markdown",
   "id": "346dae46",
   "metadata": {},
   "source": [
    "The * (called the star or asterisk) means “match zero or more”—the group that precedes the star can occur any number of times in the text."
   ]
  },
  {
   "cell_type": "markdown",
   "id": "506437d0",
   "metadata": {},
   "source": [
    "The + (or plus) means match one or more."
   ]
  },
  {
   "cell_type": "code",
   "execution_count": 29,
   "id": "def994c3",
   "metadata": {},
   "outputs": [
    {
     "ename": "AttributeError",
     "evalue": "'NoneType' object has no attribute 'group'",
     "output_type": "error",
     "traceback": [
      "\u001b[1;31m---------------------------------------------------------------------------\u001b[0m",
      "\u001b[1;31mAttributeError\u001b[0m                            Traceback (most recent call last)",
      "\u001b[1;32m~\\AppData\\Local\\Temp/ipykernel_15636/3622832432.py\u001b[0m in \u001b[0;36m<module>\u001b[1;34m\u001b[0m\n\u001b[0;32m      1\u001b[0m \u001b[0mregx\u001b[0m \u001b[1;33m=\u001b[0m \u001b[0mre\u001b[0m\u001b[1;33m.\u001b[0m\u001b[0mcompile\u001b[0m\u001b[1;33m(\u001b[0m\u001b[1;34mr'Bat(wo)+man'\u001b[0m\u001b[1;33m)\u001b[0m\u001b[1;33m\u001b[0m\u001b[1;33m\u001b[0m\u001b[0m\n\u001b[0;32m      2\u001b[0m \u001b[0mvar\u001b[0m \u001b[1;33m=\u001b[0m \u001b[0mregx\u001b[0m\u001b[1;33m.\u001b[0m\u001b[0msearch\u001b[0m\u001b[1;33m(\u001b[0m\u001b[1;34m'The Adventures of Batman'\u001b[0m\u001b[1;33m)\u001b[0m\u001b[1;33m\u001b[0m\u001b[1;33m\u001b[0m\u001b[0m\n\u001b[1;32m----> 3\u001b[1;33m \u001b[0mvar\u001b[0m\u001b[1;33m.\u001b[0m\u001b[0mgroup\u001b[0m\u001b[1;33m(\u001b[0m\u001b[1;33m)\u001b[0m\u001b[1;33m\u001b[0m\u001b[1;33m\u001b[0m\u001b[0m\n\u001b[0m",
      "\u001b[1;31mAttributeError\u001b[0m: 'NoneType' object has no attribute 'group'"
     ]
    }
   ],
   "source": [
    "regx = re.compile(r'Bat(wo)+man')\n",
    "var = regx.search('The Adventures of Batman')\n",
    "var.group()"
   ]
  },
  {
   "cell_type": "markdown",
   "id": "b9d2d78e",
   "metadata": {},
   "source": [
    "+ \"+\" used to search one or more oprional match string. Batman does not contains wo so getting error."
   ]
  },
  {
   "cell_type": "code",
   "execution_count": 30,
   "id": "34d9c0e3",
   "metadata": {},
   "outputs": [
    {
     "data": {
      "text/plain": [
       "'Batwoman'"
      ]
     },
     "execution_count": 30,
     "metadata": {},
     "output_type": "execute_result"
    }
   ],
   "source": [
    "regx = re.compile(r'Bat(wo)+man')\n",
    "var = regx.search('The Adventures of Batwoman')\n",
    "var.group()"
   ]
  },
  {
   "cell_type": "code",
   "execution_count": 31,
   "id": "9788d7a2",
   "metadata": {},
   "outputs": [],
   "source": [
    "var2 = regx.search('The Adventures of Batwowowowoman')"
   ]
  },
  {
   "cell_type": "code",
   "execution_count": 32,
   "id": "00e785b5",
   "metadata": {},
   "outputs": [
    {
     "data": {
      "text/plain": [
       "'Batwowowowoman'"
      ]
     },
     "execution_count": 32,
     "metadata": {},
     "output_type": "execute_result"
    }
   ],
   "source": [
    "var2.group()"
   ]
  },
  {
   "cell_type": "code",
   "execution_count": 33,
   "id": "d54e2cdb",
   "metadata": {},
   "outputs": [],
   "source": [
    "regx = re.compile(r'Bat(wo)*man')"
   ]
  },
  {
   "cell_type": "code",
   "execution_count": 34,
   "id": "4efe5514",
   "metadata": {},
   "outputs": [],
   "source": [
    "var = regx.search('The Adventures of Batman')"
   ]
  },
  {
   "cell_type": "code",
   "execution_count": 35,
   "id": "42ec6d5a",
   "metadata": {},
   "outputs": [
    {
     "data": {
      "text/plain": [
       "'Batman'"
      ]
     },
     "execution_count": 35,
     "metadata": {},
     "output_type": "execute_result"
    }
   ],
   "source": [
    "var.group()"
   ]
  },
  {
   "cell_type": "markdown",
   "id": "b55b3309",
   "metadata": {},
   "source": [
    "In the above line (wo)* part of the regex matches zero instances of wo in the string"
   ]
  },
  {
   "cell_type": "code",
   "execution_count": 36,
   "id": "b1dbb11e",
   "metadata": {},
   "outputs": [],
   "source": [
    "var1 = regx.search('The Adventures of Batwoman')"
   ]
  },
  {
   "cell_type": "code",
   "execution_count": 37,
   "id": "17b7c853",
   "metadata": {},
   "outputs": [
    {
     "data": {
      "text/plain": [
       "'Batwoman'"
      ]
     },
     "execution_count": 37,
     "metadata": {},
     "output_type": "execute_result"
    }
   ],
   "source": [
    "var1.group()"
   ]
  },
  {
   "cell_type": "code",
   "execution_count": 38,
   "id": "e2b2ff34",
   "metadata": {},
   "outputs": [
    {
     "ename": "SyntaxError",
     "evalue": "invalid syntax (Temp/ipykernel_15636/2751188048.py, line 1)",
     "output_type": "error",
     "traceback": [
      "\u001b[1;36m  File \u001b[1;32m\"C:\\Users\\Lenovo\\AppData\\Local\\Temp/ipykernel_15636/2751188048.py\"\u001b[1;36m, line \u001b[1;32m1\u001b[0m\n\u001b[1;33m    In the above line (wo)* part of the regex matches zero instances of wo in the string\u001b[0m\n\u001b[1;37m       ^\u001b[0m\n\u001b[1;31mSyntaxError\u001b[0m\u001b[1;31m:\u001b[0m invalid syntax\n"
     ]
    }
   ],
   "source": [
    "In the above line (wo)* part of the regex matches zero instances of wo in the string"
   ]
  },
  {
   "cell_type": "code",
   "execution_count": 39,
   "id": "5dab6255",
   "metadata": {},
   "outputs": [],
   "source": [
    "var2 = regx.search('The Adventures of Batwowowowoman')"
   ]
  },
  {
   "cell_type": "code",
   "execution_count": 40,
   "id": "b936119a",
   "metadata": {},
   "outputs": [
    {
     "data": {
      "text/plain": [
       "'Batwowowowoman'"
      ]
     },
     "execution_count": 40,
     "metadata": {},
     "output_type": "execute_result"
    }
   ],
   "source": [
    "var2.group()"
   ]
  },
  {
   "cell_type": "markdown",
   "id": "d6c3826d",
   "metadata": {},
   "source": [
    "#### Q11. What is the difference between {4} and {4,5} in regular expression?"
   ]
  },
  {
   "cell_type": "markdown",
   "id": "6ee97539",
   "metadata": {},
   "source": [
    "+ \"{4}used in regular expression to  find group of characters repeating 4 times from string.\n"
   ]
  },
  {
   "cell_type": "code",
   "execution_count": 41,
   "id": "1c6242ed",
   "metadata": {},
   "outputs": [],
   "source": [
    "regx = re.compile(r'(Ha){3}')"
   ]
  },
  {
   "cell_type": "code",
   "execution_count": 42,
   "id": "a7ee431b",
   "metadata": {},
   "outputs": [],
   "source": [
    "var1 = regx.search(\"HaHaHa HahaHa\")"
   ]
  },
  {
   "cell_type": "code",
   "execution_count": 43,
   "id": "20e2fc96",
   "metadata": {},
   "outputs": [
    {
     "data": {
      "text/plain": [
       "'HaHaHa'"
      ]
     },
     "execution_count": 43,
     "metadata": {},
     "output_type": "execute_result"
    }
   ],
   "source": [
    "var1.group()"
   ]
  },
  {
   "cell_type": "markdown",
   "id": "5cdbdbd3",
   "metadata": {},
   "source": [
    "In above string 3 times Ha string is searched"
   ]
  },
  {
   "cell_type": "code",
   "execution_count": 44,
   "id": "67bc665f",
   "metadata": {},
   "outputs": [],
   "source": [
    "var2 = regx.search(\"HaHa\")"
   ]
  },
  {
   "cell_type": "code",
   "execution_count": 45,
   "id": "51856c40",
   "metadata": {},
   "outputs": [
    {
     "data": {
      "text/plain": [
       "True"
      ]
     },
     "execution_count": 45,
     "metadata": {},
     "output_type": "execute_result"
    }
   ],
   "source": [
    "var2 == None"
   ]
  },
  {
   "cell_type": "markdown",
   "id": "1e97f9fa",
   "metadata": {},
   "source": [
    "+ \"{4,5}\" can match four, or five instances of Ha in the string ."
   ]
  },
  {
   "cell_type": "code",
   "execution_count": 46,
   "id": "7b57516d",
   "metadata": {},
   "outputs": [],
   "source": [
    "import re\n",
    "regx = re.compile(r'(Ha){4,5}')"
   ]
  },
  {
   "cell_type": "code",
   "execution_count": 47,
   "id": "040c288b",
   "metadata": {},
   "outputs": [],
   "source": [
    "var1 = regx.search(\"HaHaHa HaHaHaHa HaHaHaHaHa HaHaHaHaHaHa\")"
   ]
  },
  {
   "cell_type": "code",
   "execution_count": 48,
   "id": "286ff2d0",
   "metadata": {},
   "outputs": [
    {
     "data": {
      "text/plain": [
       "'HaHaHaHa'"
      ]
     },
     "execution_count": 48,
     "metadata": {},
     "output_type": "execute_result"
    }
   ],
   "source": [
    "var1.group()"
   ]
  },
  {
   "cell_type": "markdown",
   "id": "ac75f910",
   "metadata": {},
   "source": [
    "#### Q12. What do you mean by the \\d, \\w, and \\s shorthand character classes signify in regular expressions?"
   ]
  },
  {
   "cell_type": "markdown",
   "id": "bc3fe480",
   "metadata": {},
   "source": [
    "+ \\d : Any numerical digit from 0 to 9\n",
    "+ \\w : Any letter, numeric digit, or the underscore character (words only)\n",
    "+ \\s : Any space, tab, or newline character(matchong space character)"
   ]
  },
  {
   "cell_type": "code",
   "execution_count": 49,
   "id": "8099da10",
   "metadata": {},
   "outputs": [
    {
     "data": {
      "text/plain": [
       "['12 drummers',\n",
       " '11 pipers',\n",
       " '10 lords',\n",
       " '9 ladies',\n",
       " '8 maids',\n",
       " '6 geese',\n",
       " '5 rings',\n",
       " '4 birds',\n",
       " '3 hens',\n",
       " '2 doves',\n",
       " '1 partridge']"
      ]
     },
     "execution_count": 49,
     "metadata": {},
     "output_type": "execute_result"
    }
   ],
   "source": [
    "xmasRegex = re.compile(r'\\d+\\s\\w+')\n",
    "xmasRegex.findall('12 drummers, 11 pipers, 10 lords, 9 ladies, 8 maids, 7swans, 6 geese, 5 rings, 4 birds, 3 hens, 2 doves, 1 partridge')"
   ]
  },
  {
   "cell_type": "markdown",
   "id": "435bdc98",
   "metadata": {},
   "source": [
    "The regular expression \\d+\\s\\w+ will match text that has one or more numeric digits (\\d+), followed by a whitespace character (\\s), followed by one or more letter/digit/underscore characters (\\w+)"
   ]
  },
  {
   "cell_type": "markdown",
   "id": "66e00bbd",
   "metadata": {},
   "source": [
    "#### Q13. What do means by \\D, \\W, and \\S shorthand character classes signify in regular expressions?"
   ]
  },
  {
   "cell_type": "markdown",
   "id": "2f171830",
   "metadata": {},
   "source": [
    "+ \\D : Any character that is not numerical digit from 0 to 9.\n",
    "+ \\W : Any character that is not a letter, numeric digit, or the inderscore character.\n",
    "+ \\S : Any character that is not a space, tab, or newline"
   ]
  },
  {
   "cell_type": "markdown",
   "id": "6280c1d2",
   "metadata": {},
   "source": [
    "#### Q14. What is the difference between .* and .*?"
   ]
  },
  {
   "cell_type": "markdown",
   "id": "2f05e8c4",
   "metadata": {},
   "source": [
    "+ .* : Used to match to everything and anything from string.\n",
    "+ The dot character means any single character except the newline, and the star character means zero or more of the preceding character."
   ]
  },
  {
   "cell_type": "code",
   "execution_count": 50,
   "id": "7f2e4e23",
   "metadata": {},
   "outputs": [],
   "source": [
    "nameregex = re.compile(r\"First Name: (.*) Last Name: (.*)\")\n",
    "name = nameregex.search(\"First Name: Regex Last Name: Colab\")"
   ]
  },
  {
   "cell_type": "code",
   "execution_count": 51,
   "id": "29454a8b",
   "metadata": {},
   "outputs": [
    {
     "data": {
      "text/plain": [
       "'First Name: Regex Last Name: Colab'"
      ]
     },
     "execution_count": 51,
     "metadata": {},
     "output_type": "execute_result"
    }
   ],
   "source": [
    "name.group()"
   ]
  },
  {
   "cell_type": "code",
   "execution_count": 52,
   "id": "670d8043",
   "metadata": {},
   "outputs": [
    {
     "data": {
      "text/plain": [
       "'Regex'"
      ]
     },
     "execution_count": 52,
     "metadata": {},
     "output_type": "execute_result"
    }
   ],
   "source": [
    "name.group(1)"
   ]
  },
  {
   "cell_type": "code",
   "execution_count": 53,
   "id": "7b78d74c",
   "metadata": {},
   "outputs": [
    {
     "data": {
      "text/plain": [
       "'Colab'"
      ]
     },
     "execution_count": 53,
     "metadata": {},
     "output_type": "execute_result"
    }
   ],
   "source": [
    "name.group(2)"
   ]
  },
  {
   "cell_type": "code",
   "execution_count": 54,
   "id": "5b0fffd0",
   "metadata": {},
   "outputs": [],
   "source": [
    "greedyRegex = re.compile(r'<.*>')"
   ]
  },
  {
   "cell_type": "code",
   "execution_count": 55,
   "id": "c5de0b1f",
   "metadata": {},
   "outputs": [],
   "source": [
    "var1 = greedyRegex.search('<To serve man> for dinner.>')"
   ]
  },
  {
   "cell_type": "code",
   "execution_count": 56,
   "id": "87981eea",
   "metadata": {},
   "outputs": [
    {
     "data": {
      "text/plain": [
       "'<To serve man> for dinner.>'"
      ]
     },
     "execution_count": 56,
     "metadata": {},
     "output_type": "execute_result"
    }
   ],
   "source": [
    "var1.group()"
   ]
  },
  {
   "cell_type": "markdown",
   "id": "2a936dc5",
   "metadata": {},
   "source": [
    "#### To match any and all text in a nongreedy fashion, use the dot, star, and question mark (.*?)"
   ]
  },
  {
   "cell_type": "code",
   "execution_count": 57,
   "id": "e995c247",
   "metadata": {},
   "outputs": [],
   "source": [
    "nongreedyRegex = re.compile(r'<.*?>')"
   ]
  },
  {
   "cell_type": "code",
   "execution_count": 58,
   "id": "e7b5721d",
   "metadata": {},
   "outputs": [],
   "source": [
    "var1 = nongreedyRegex.search('<To serve man> for dinner.>')"
   ]
  },
  {
   "cell_type": "code",
   "execution_count": 59,
   "id": "08e5f470",
   "metadata": {},
   "outputs": [
    {
     "data": {
      "text/plain": [
       "'<To serve man>'"
      ]
     },
     "execution_count": 59,
     "metadata": {},
     "output_type": "execute_result"
    }
   ],
   "source": [
    "var1.group()"
   ]
  },
  {
   "cell_type": "markdown",
   "id": "4430a9c5",
   "metadata": {},
   "source": [
    "#### Q15. What is the syntax for matching both numbers and lowercase letters with a character class?"
   ]
  },
  {
   "cell_type": "code",
   "execution_count": 60,
   "id": "216619b1",
   "metadata": {},
   "outputs": [],
   "source": [
    " numalpha = re.compile('[0-9a-z]')"
   ]
  },
  {
   "cell_type": "code",
   "execution_count": 61,
   "id": "33a19e43",
   "metadata": {},
   "outputs": [
    {
     "data": {
      "text/plain": [
       "['2', '0', 'o', 'a', 'd', 'e', 'w', 'a', 'r', 'k', 'e', 't']"
      ]
     },
     "execution_count": 61,
     "metadata": {},
     "output_type": "execute_result"
    }
   ],
   "source": [
    "numalpha.findall(\"20 Road New Market\")"
   ]
  },
  {
   "cell_type": "markdown",
   "id": "0ce8a43e",
   "metadata": {},
   "source": [
    "#### Q16. What is the procedure for making a normal expression in regax case insensitive?"
   ]
  },
  {
   "cell_type": "code",
   "execution_count": 62,
   "id": "6fb32144",
   "metadata": {},
   "outputs": [],
   "source": [
    "regxz = re.compile(r\"zdr\",re.I)#Ignore case\n",
    "str1 = \"Polarimetric radar measure ZDR. Zdr is related to median volume drop diameter of rain.\""
   ]
  },
  {
   "cell_type": "code",
   "execution_count": 63,
   "id": "f1e013b7",
   "metadata": {},
   "outputs": [],
   "source": [
    "var1 = regxz.search(str1)"
   ]
  },
  {
   "cell_type": "code",
   "execution_count": 64,
   "id": "a7df202d",
   "metadata": {},
   "outputs": [
    {
     "data": {
      "text/plain": [
       "'ZDR'"
      ]
     },
     "execution_count": 64,
     "metadata": {},
     "output_type": "execute_result"
    }
   ],
   "source": [
    "var1.group()"
   ]
  },
  {
   "cell_type": "code",
   "execution_count": 65,
   "id": "6418c934",
   "metadata": {},
   "outputs": [],
   "source": [
    "str1 = \"Polarimetric radar measure ZdR. Zdr is related to median volume drop diameter of rain.\""
   ]
  },
  {
   "cell_type": "code",
   "execution_count": 66,
   "id": "9e22a8b1",
   "metadata": {},
   "outputs": [],
   "source": [
    "var1 = regxz.search(str1)"
   ]
  },
  {
   "cell_type": "code",
   "execution_count": 67,
   "id": "4fae94d5",
   "metadata": {},
   "outputs": [
    {
     "data": {
      "text/plain": [
       "'ZdR'"
      ]
     },
     "execution_count": 67,
     "metadata": {},
     "output_type": "execute_result"
    }
   ],
   "source": [
    "var1.group()"
   ]
  },
  {
   "cell_type": "markdown",
   "id": "f65fe012",
   "metadata": {},
   "source": [
    "#### Q17. What does the . character normally match? What does it match if re.DOTALL is passed as 2nd argument in re.compile()?"
   ]
  },
  {
   "cell_type": "markdown",
   "id": "a8ebb2a1",
   "metadata": {},
   "source": [
    "The dot-star will match everything except a newline. By passing re.DOTALL as the second argument to re.compile(), you can make the dot character match all characters, including the newline character."
   ]
  },
  {
   "cell_type": "code",
   "execution_count": 68,
   "id": "b9b6e79f",
   "metadata": {},
   "outputs": [
    {
     "data": {
      "text/plain": [
       "'The Zh is used to estimate rain. '"
      ]
     },
     "execution_count": 68,
     "metadata": {},
     "output_type": "execute_result"
    }
   ],
   "source": [
    "nonewline = re.compile(\".*\")\n",
    "nonewline.search(\"The Zh is used to estimate rain. \\nHow ever rain rate estimation by polarimatric variables provides better result.\").group()"
   ]
  },
  {
   "cell_type": "markdown",
   "id": "830bbe00",
   "metadata": {},
   "source": [
    "In the above line .* find the all character before first \\n character."
   ]
  },
  {
   "cell_type": "code",
   "execution_count": 69,
   "id": "a210507b",
   "metadata": {},
   "outputs": [
    {
     "data": {
      "text/plain": [
       "'The Zh is used to estimate rain. \\nHow ever rain rate estimation by polarimatric variables provides better result.'"
      ]
     },
     "execution_count": 69,
     "metadata": {},
     "output_type": "execute_result"
    }
   ],
   "source": [
    "nonewline = re.compile(\".*\", re.DOTALL) #Match everythong using re.DOTALL\n",
    "nonewline.search(\"The Zh is used to estimate rain. \\nHow ever rain rate estimation by polarimatric variables provides better result.\").group()"
   ]
  },
  {
   "cell_type": "markdown",
   "id": "1d772b29",
   "metadata": {},
   "source": [
    "#### Q18. If numReg = re.compile(r'\\d+'), what will numRegex.sub('X', '11 drummers, 10 pipers, five rings, 4 hen') return?"
   ]
  },
  {
   "cell_type": "code",
   "execution_count": 70,
   "id": "5b1aac62",
   "metadata": {},
   "outputs": [],
   "source": [
    "import re\n",
    "numReg = re.compile(r'\\d+')"
   ]
  },
  {
   "cell_type": "code",
   "execution_count": 71,
   "id": "fc3e7ef2",
   "metadata": {},
   "outputs": [
    {
     "data": {
      "text/plain": [
       "'X drummers, X pipers, five rings, X hen'"
      ]
     },
     "execution_count": 71,
     "metadata": {},
     "output_type": "execute_result"
    }
   ],
   "source": [
    "numReg.sub('X', '11 drummers, 10 pipers, five rings, 4 hen')"
   ]
  },
  {
   "cell_type": "markdown",
   "id": "4cc7b595",
   "metadata": {},
   "source": [
    "##### numReg.sub(repl, string): \n",
    "Return the string obtained by replacing the leftmost non-overlapping occurrences of pattern in string by the replacement repl."
   ]
  },
  {
   "cell_type": "markdown",
   "id": "844399b5",
   "metadata": {},
   "source": [
    "#### Q19. What does passing re.VERBOSE as the 2nd argument to re.compile() allow to do?"
   ]
  },
  {
   "cell_type": "markdown",
   "id": "10ae33df",
   "metadata": {},
   "source": [
    "by passing re.VERBOSE as second argument to re.compile() we can ignore whitespace and comments inside the regular expression string. "
   ]
  },
  {
   "cell_type": "markdown",
   "id": "bf222c99",
   "metadata": {},
   "source": [
    "#### Q20. How would you write a regex that match a number with comma for every three digits? It must match the given following:\n",
    "'42'\n",
    "\n",
    "'1,234'\n",
    "\n",
    "'6,368,745'\n",
    "\n",
    "but not the following:\n",
    "    \n",
    "'12,34,567' (which has only two digits between the commas)\n",
    "\n",
    "'1234' (which lacks commas)\n"
   ]
  },
  {
   "cell_type": "code",
   "execution_count": 72,
   "id": "920359ff",
   "metadata": {},
   "outputs": [],
   "source": [
    "import re\n",
    "numReg = re.compile(r\"^\\d{1,3}(,\\d{3})*$\")"
   ]
  },
  {
   "cell_type": "code",
   "execution_count": 73,
   "id": "ea287349",
   "metadata": {},
   "outputs": [],
   "source": [
    "v = numReg.search(\"44\")"
   ]
  },
  {
   "cell_type": "code",
   "execution_count": 74,
   "id": "183ad538",
   "metadata": {},
   "outputs": [
    {
     "data": {
      "text/plain": [
       "'44'"
      ]
     },
     "execution_count": 74,
     "metadata": {},
     "output_type": "execute_result"
    }
   ],
   "source": [
    "v.group(0)"
   ]
  },
  {
   "cell_type": "code",
   "execution_count": 75,
   "id": "999e0e6d",
   "metadata": {},
   "outputs": [],
   "source": [
    "v = numReg.search(\"1,234\")"
   ]
  },
  {
   "cell_type": "code",
   "execution_count": 76,
   "id": "82284063",
   "metadata": {},
   "outputs": [
    {
     "data": {
      "text/plain": [
       "'1,234'"
      ]
     },
     "execution_count": 76,
     "metadata": {},
     "output_type": "execute_result"
    }
   ],
   "source": [
    "v.group()"
   ]
  },
  {
   "cell_type": "code",
   "execution_count": 77,
   "id": "1041e483",
   "metadata": {},
   "outputs": [],
   "source": [
    "v = numReg.search('6,368,745')"
   ]
  },
  {
   "cell_type": "code",
   "execution_count": 78,
   "id": "fcb87ab7",
   "metadata": {},
   "outputs": [
    {
     "data": {
      "text/plain": [
       "'6,368,745'"
      ]
     },
     "execution_count": 78,
     "metadata": {},
     "output_type": "execute_result"
    }
   ],
   "source": [
    "v.group()"
   ]
  },
  {
   "cell_type": "code",
   "execution_count": 79,
   "id": "dd16470a",
   "metadata": {},
   "outputs": [
    {
     "data": {
      "text/plain": [
       "[]"
      ]
     },
     "execution_count": 79,
     "metadata": {},
     "output_type": "execute_result"
    }
   ],
   "source": [
    "v = numReg.findall('12,34,567')\n",
    "v"
   ]
  },
  {
   "cell_type": "code",
   "execution_count": 80,
   "id": "31c33231",
   "metadata": {},
   "outputs": [
    {
     "data": {
      "text/plain": [
       "[]"
      ]
     },
     "execution_count": 80,
     "metadata": {},
     "output_type": "execute_result"
    }
   ],
   "source": [
    "v = numReg.findall('1234')\n",
    "v"
   ]
  },
  {
   "cell_type": "markdown",
   "id": "66579924",
   "metadata": {},
   "source": [
    "#### Q21. How would you write a regex that matches the full name of someone whose last name is Watanabe? You can assume that the first name that comes before it will always be one word that begins with a capital letter. The regex must match the following:\n",
    "\n",
    "'Haruto Watanabe'\n",
    "\n",
    "'Alice Watanabe'\n",
    "\n",
    "'RoboCop Watanabe'\n",
    "\n",
    "but not the following:\n",
    "    \n",
    "'haruto Watanabe' (where the first name is not capitalized)\n",
    "\n",
    "'Mr. Watanabe' (where the preceding word has a nonletter character)\n",
    "\n",
    "'Watanabe' (which has no first name)\n",
    "\n",
    "'Haruto watanabe' (where Watanabe is not capitalized)\n"
   ]
  },
  {
   "cell_type": "code",
   "execution_count": 81,
   "id": "0f6cd426",
   "metadata": {},
   "outputs": [],
   "source": [
    "name_regex = re.compile(r'[A-Z](?:\\w)+\\sWatanabe')"
   ]
  },
  {
   "cell_type": "code",
   "execution_count": 82,
   "id": "2629d0e7",
   "metadata": {},
   "outputs": [],
   "source": [
    "va = name_regex.match('Haruto Watanabe')"
   ]
  },
  {
   "cell_type": "code",
   "execution_count": 83,
   "id": "3ea333a1",
   "metadata": {},
   "outputs": [
    {
     "data": {
      "text/plain": [
       "'Haruto Watanabe'"
      ]
     },
     "execution_count": 83,
     "metadata": {},
     "output_type": "execute_result"
    }
   ],
   "source": [
    "va.group()"
   ]
  },
  {
   "cell_type": "code",
   "execution_count": 84,
   "id": "5af85d37",
   "metadata": {},
   "outputs": [],
   "source": [
    "va = name_regex.match('Alice Watanabe')"
   ]
  },
  {
   "cell_type": "code",
   "execution_count": 85,
   "id": "36d3ac0a",
   "metadata": {},
   "outputs": [
    {
     "data": {
      "text/plain": [
       "'Alice Watanabe'"
      ]
     },
     "execution_count": 85,
     "metadata": {},
     "output_type": "execute_result"
    }
   ],
   "source": [
    "va.group()"
   ]
  },
  {
   "cell_type": "code",
   "execution_count": 86,
   "id": "374b1e3e",
   "metadata": {},
   "outputs": [],
   "source": [
    "va = name_regex.match('RoboCop Watanabe')"
   ]
  },
  {
   "cell_type": "code",
   "execution_count": 87,
   "id": "4cf61f49",
   "metadata": {},
   "outputs": [
    {
     "data": {
      "text/plain": [
       "'RoboCop Watanabe'"
      ]
     },
     "execution_count": 87,
     "metadata": {},
     "output_type": "execute_result"
    }
   ],
   "source": [
    "va.group()"
   ]
  },
  {
   "cell_type": "code",
   "execution_count": 88,
   "id": "cabf24a5",
   "metadata": {},
   "outputs": [],
   "source": [
    "va = name_regex.match('haruto Watanabe')"
   ]
  },
  {
   "cell_type": "code",
   "execution_count": 89,
   "id": "f30a2702",
   "metadata": {},
   "outputs": [
    {
     "data": {
      "text/plain": [
       "True"
      ]
     },
     "execution_count": 89,
     "metadata": {},
     "output_type": "execute_result"
    }
   ],
   "source": [
    "va==None"
   ]
  },
  {
   "cell_type": "code",
   "execution_count": 90,
   "id": "28e03bd9",
   "metadata": {},
   "outputs": [],
   "source": [
    "va = name_regex.match('Mr. Watanabe')"
   ]
  },
  {
   "cell_type": "code",
   "execution_count": 91,
   "id": "a931b353",
   "metadata": {},
   "outputs": [
    {
     "data": {
      "text/plain": [
       "True"
      ]
     },
     "execution_count": 91,
     "metadata": {},
     "output_type": "execute_result"
    }
   ],
   "source": [
    "va==None"
   ]
  },
  {
   "cell_type": "code",
   "execution_count": 92,
   "id": "eb166612",
   "metadata": {},
   "outputs": [],
   "source": [
    "va = name_regex.match('Watanabe')"
   ]
  },
  {
   "cell_type": "code",
   "execution_count": 93,
   "id": "96749696",
   "metadata": {},
   "outputs": [
    {
     "data": {
      "text/plain": [
       "True"
      ]
     },
     "execution_count": 93,
     "metadata": {},
     "output_type": "execute_result"
    }
   ],
   "source": [
    "va==None"
   ]
  },
  {
   "cell_type": "code",
   "execution_count": 94,
   "id": "63ce6a94",
   "metadata": {},
   "outputs": [],
   "source": [
    "va = name_regex.match('Haruto watanabe')"
   ]
  },
  {
   "cell_type": "code",
   "execution_count": 95,
   "id": "c59681a4",
   "metadata": {},
   "outputs": [
    {
     "data": {
      "text/plain": [
       "True"
      ]
     },
     "execution_count": 95,
     "metadata": {},
     "output_type": "execute_result"
    }
   ],
   "source": [
    "va==None"
   ]
  },
  {
   "cell_type": "markdown",
   "id": "50380150",
   "metadata": {},
   "source": [
    "#### Q22. How would you write a regex that matches a sentence where the first word is either Alice, Bob, or Carol; the second word is either eats, pets, or throws; the third word is apples, cats, or baseballs; and the sentence ends with a period? This regex should be case-insensitive. It must match the following:\n",
    "\n",
    "'Alice eats apples.'\n",
    "\n",
    "'Bob pets cats.'\n",
    "\n",
    "'Carol throws baseballs.'\n",
    "\n",
    "'Alice throws Apples.'\n",
    "\n",
    "'BOB EATS CATS.'\n",
    "\n",
    "but not the following:\n",
    "    \n",
    "'RoboCop eats apples.'\n",
    "\n",
    "'ALICE THROWS FOOTBALLS.'\n",
    "\n",
    "'Carol eats 7 cats.'\n"
   ]
  },
  {
   "cell_type": "code",
   "execution_count": 96,
   "id": "607e6dca",
   "metadata": {},
   "outputs": [],
   "source": [
    "import re"
   ]
  },
  {
   "cell_type": "code",
   "execution_count": 97,
   "id": "bdfb3a96",
   "metadata": {},
   "outputs": [],
   "source": [
    "patt = re.compile(\"(Alice|Bob|Carol) (eats|pets|throws) (apples|cats|baseballs)\",re.I)"
   ]
  },
  {
   "cell_type": "code",
   "execution_count": 98,
   "id": "a340f138",
   "metadata": {},
   "outputs": [
    {
     "data": {
      "text/plain": [
       "'Alice eats apples'"
      ]
     },
     "execution_count": 98,
     "metadata": {},
     "output_type": "execute_result"
    }
   ],
   "source": [
    "patt.search('Alice eats apples.').group()"
   ]
  },
  {
   "cell_type": "code",
   "execution_count": 99,
   "id": "4befb6df",
   "metadata": {},
   "outputs": [
    {
     "data": {
      "text/plain": [
       "'Bob pets cats'"
      ]
     },
     "execution_count": 99,
     "metadata": {},
     "output_type": "execute_result"
    }
   ],
   "source": [
    "patt.search('Bob pets cats.').group()"
   ]
  },
  {
   "cell_type": "code",
   "execution_count": 100,
   "id": "61e01ddc",
   "metadata": {},
   "outputs": [
    {
     "data": {
      "text/plain": [
       "'Carol throws baseballs'"
      ]
     },
     "execution_count": 100,
     "metadata": {},
     "output_type": "execute_result"
    }
   ],
   "source": [
    "patt.search('Carol throws baseballs.').group()"
   ]
  },
  {
   "cell_type": "code",
   "execution_count": 101,
   "id": "b586ade3",
   "metadata": {},
   "outputs": [
    {
     "data": {
      "text/plain": [
       "'Alice throws Apples'"
      ]
     },
     "execution_count": 101,
     "metadata": {},
     "output_type": "execute_result"
    }
   ],
   "source": [
    "patt.search('Alice throws Apples.').group()"
   ]
  },
  {
   "cell_type": "code",
   "execution_count": 102,
   "id": "1c82874b",
   "metadata": {},
   "outputs": [
    {
     "data": {
      "text/plain": [
       "'BOB EATS CATS'"
      ]
     },
     "execution_count": 102,
     "metadata": {},
     "output_type": "execute_result"
    }
   ],
   "source": [
    "patt.search('BOB EATS CATS.').group()"
   ]
  },
  {
   "cell_type": "code",
   "execution_count": 103,
   "id": "52fb29ad",
   "metadata": {},
   "outputs": [],
   "source": [
    "v = patt.search('RoboCop eats apples.')"
   ]
  },
  {
   "cell_type": "code",
   "execution_count": 104,
   "id": "ba2455d9",
   "metadata": {},
   "outputs": [
    {
     "data": {
      "text/plain": [
       "True"
      ]
     },
     "execution_count": 104,
     "metadata": {},
     "output_type": "execute_result"
    }
   ],
   "source": [
    "v ==None"
   ]
  },
  {
   "cell_type": "code",
   "execution_count": 105,
   "id": "d497643b",
   "metadata": {},
   "outputs": [],
   "source": [
    "v = patt.search('ALICE THROWS FOOTBALLS.')"
   ]
  },
  {
   "cell_type": "code",
   "execution_count": 106,
   "id": "49c754ee",
   "metadata": {},
   "outputs": [
    {
     "data": {
      "text/plain": [
       "True"
      ]
     },
     "execution_count": 106,
     "metadata": {},
     "output_type": "execute_result"
    }
   ],
   "source": [
    "v ==None"
   ]
  },
  {
   "cell_type": "code",
   "execution_count": 107,
   "id": "ac9d9de0",
   "metadata": {},
   "outputs": [],
   "source": [
    "v = patt.search('Carol eats 7 cats.')"
   ]
  },
  {
   "cell_type": "code",
   "execution_count": 108,
   "id": "1a5486f2",
   "metadata": {},
   "outputs": [
    {
     "data": {
      "text/plain": [
       "True"
      ]
     },
     "execution_count": 108,
     "metadata": {},
     "output_type": "execute_result"
    }
   ],
   "source": [
    "v == None"
   ]
  },
  {
   "cell_type": "markdown",
   "id": "bc694e9b",
   "metadata": {},
   "source": [
    "Review of Regex Symbols:\n",
    "+ The ? matches zero or one of the preceding group.\n",
    "\n",
    "\n",
    "+ The * matches zero or more of the preceding group.\n",
    "\n",
    "\n",
    "+ The + matches one or more of the preceding group.\n",
    "\n",
    "\n",
    "+ The {n} matches exactly n of the preceding group.\n",
    "\n",
    "\n",
    "+ The {n,} matches n or more of the preceding group.\n",
    "\n",
    "\n",
    "+ The {,m} matches 0 to m of the preceding group.\n",
    "\n",
    "\n",
    "+ The {n,m} matches at least n and at most m of the preceding group.\n",
    "\n",
    "\n",
    "+ {n,m}? or *? or +? performs a nongreedy match of the preceding group.\n",
    "\n",
    "\n",
    "+ ^spam means the string must begin with spam.\n",
    "\n",
    "+ spam \"$\" means the string must end with spam.\n",
    "\n",
    "\n",
    "+ The . matches any character, except newline characters.\n",
    "\n",
    "\n",
    "+ \\d, \\w, and \\s match a digit, word, or space character, respectively.\n",
    "\n",
    "\n",
    "+ \\D, \\W, and \\S match anything except a digit, word, or space character, respectively.\n",
    "\n",
    "\n",
    "+ [abc] matches any character between the brackets (such as a, b, or c).\n",
    "\n",
    "\n",
    "+ [^abc] matches any character that isn’t between the brackets.\n",
    "\n"
   ]
  },
  {
   "cell_type": "code",
   "execution_count": null,
   "id": "62e408cc",
   "metadata": {},
   "outputs": [],
   "source": []
  }
 ],
 "metadata": {
  "kernelspec": {
   "display_name": "Python 3 (ipykernel)",
   "language": "python",
   "name": "python3"
  },
  "language_info": {
   "codemirror_mode": {
    "name": "ipython",
    "version": 3
   },
   "file_extension": ".py",
   "mimetype": "text/x-python",
   "name": "python",
   "nbconvert_exporter": "python",
   "pygments_lexer": "ipython3",
   "version": "3.8.11"
  }
 },
 "nbformat": 4,
 "nbformat_minor": 5
}
