{
 "cells": [
  {
   "cell_type": "markdown",
   "id": "770601d1",
   "metadata": {},
   "source": [
    "#### Q1:In the below elements which of them are values or an expression? eg:- values can be integer or string and expressions will be mathematical operators."
   ]
  },
  {
   "cell_type": "markdown",
   "id": "b4886668",
   "metadata": {},
   "source": [
    "1. \"*\" : Multiplication operator\n",
    "2. \"hello\" : String value\n",
    "3. -87.8 : integer value\n",
    "4. \"-\" : Subtraction operator\n",
    "5. \"+\" :Addation operator\n",
    "6. 6 : Integer value"
   ]
  },
  {
   "cell_type": "markdown",
   "id": "af3623c9",
   "metadata": {},
   "source": [
    "#### Q2: What is the difference between string and variable?"
   ]
  },
  {
   "cell_type": "markdown",
   "id": "0ae50b6d",
   "metadata": {},
   "source": [
    "+ String is an immutable object defined in python using ' and \" .\n",
    "+ Variable is name assigned to memory location which hold an value or object.\n",
    "+ Variable name can not be start with number .\n",
    "+ Variable name should not contain a special character other than underscore \"_\".\n",
    "+ Variable name is cna not be a python keyword"
   ]
  },
  {
   "cell_type": "markdown",
   "id": "2c436b8b",
   "metadata": {},
   "source": [
    "#### Q3 : Describe three different data types."
   ]
  },
  {
   "cell_type": "markdown",
   "id": "4bfa1eb7",
   "metadata": {},
   "source": [
    "+ Numeric : Int, Float, Complex number\n",
    "+ Sequential : List, Tuple, String\n",
    "+ Non- Sequential:  Set, Dictionaries "
   ]
  },
  {
   "cell_type": "markdown",
   "id": "3bf34e85",
   "metadata": {},
   "source": [
    "#### Q4: What is an expression made up of? What do all expressions do?"
   ]
  },
  {
   "cell_type": "markdown",
   "id": "58f6c386",
   "metadata": {},
   "source": [
    "Expression is an operator which is used to perform mathematical operations such as addation, subtraction, multiplication and devision."
   ]
  },
  {
   "cell_type": "markdown",
   "id": "a70d9aad",
   "metadata": {},
   "source": [
    "#### Q5: This assignment statements, like spam = 10. What is the difference between an expression and a statement?"
   ]
  },
  {
   "cell_type": "markdown",
   "id": "ef994b55",
   "metadata": {},
   "source": [
    "* Expression is the combination of values , variable or mathematical operator used to perform some function.\n",
    "* In given expression spam = 10, spam is variable, = is assignment operator and 10 is an integier value assigned to variable spam."
   ]
  },
  {
   "cell_type": "markdown",
   "id": "cf11814e",
   "metadata": {},
   "source": [
    "#### Q6: After running the following code, what does the variable bacon contain?\n",
    "bacon = 22\n",
    "\n",
    "bacon + 1\n"
   ]
  },
  {
   "cell_type": "code",
   "execution_count": 1,
   "id": "d4d89c33",
   "metadata": {},
   "outputs": [],
   "source": [
    "bacon = 22"
   ]
  },
  {
   "cell_type": "code",
   "execution_count": 2,
   "id": "5091e8fa",
   "metadata": {},
   "outputs": [
    {
     "data": {
      "text/plain": [
       "23"
      ]
     },
     "execution_count": 2,
     "metadata": {},
     "output_type": "execute_result"
    }
   ],
   "source": [
    "bacon + 1"
   ]
  },
  {
   "cell_type": "code",
   "execution_count": 3,
   "id": "a96ab160",
   "metadata": {},
   "outputs": [
    {
     "data": {
      "text/plain": [
       "22"
      ]
     },
     "execution_count": 3,
     "metadata": {},
     "output_type": "execute_result"
    }
   ],
   "source": [
    "bacon"
   ]
  },
  {
   "cell_type": "markdown",
   "id": "03b2bd03",
   "metadata": {},
   "source": [
    "#### Q7: What should the values of the following two terms be?\n",
    "'spam' + 'spamspam'\n",
    "\n",
    "'spam' * 3\n"
   ]
  },
  {
   "cell_type": "code",
   "execution_count": 4,
   "id": "22c8f4b6",
   "metadata": {},
   "outputs": [
    {
     "data": {
      "text/plain": [
       "'spamspamspam'"
      ]
     },
     "execution_count": 4,
     "metadata": {},
     "output_type": "execute_result"
    }
   ],
   "source": [
    "\"spam\" + \"spamspam\""
   ]
  },
  {
   "cell_type": "code",
   "execution_count": 5,
   "id": "a333126f",
   "metadata": {},
   "outputs": [
    {
     "data": {
      "text/plain": [
       "'spamspamspam'"
      ]
     },
     "execution_count": 5,
     "metadata": {},
     "output_type": "execute_result"
    }
   ],
   "source": [
    "\"spam\"*3"
   ]
  },
  {
   "cell_type": "markdown",
   "id": "cc5bdfef",
   "metadata": {},
   "source": [
    "#### Q8. Why is eggs a valid variable name while 100 is invalid?"
   ]
  },
  {
   "cell_type": "markdown",
   "id": "9aa73c2d",
   "metadata": {},
   "source": [
    "In python variable name may contains number but variable name should not be start with number"
   ]
  },
  {
   "cell_type": "markdown",
   "id": "9710f721",
   "metadata": {},
   "source": [
    "#### Q9. What three functions can be used to get the integer, floating-point number, or string version of a value?"
   ]
  },
  {
   "cell_type": "markdown",
   "id": "ec4971e9",
   "metadata": {},
   "source": [
    "int , float and str "
   ]
  },
  {
   "cell_type": "markdown",
   "id": "a3537eed",
   "metadata": {},
   "source": [
    "#### Q10. Why does this expression cause an error? How can you fix it?\n",
    " 'I have eaten ' + 99 + ' burritos.'\n"
   ]
  },
  {
   "cell_type": "markdown",
   "id": "5b40cfa9",
   "metadata": {},
   "source": [
    "The datatype of 'I have eaten ' and ' burritos.' is string and datatype of 99 is int therefore we can not add int and string object. The int value can be convert in to string to perform concatenation operation."
   ]
  },
  {
   "cell_type": "code",
   "execution_count": 6,
   "id": "65cf1d05",
   "metadata": {},
   "outputs": [
    {
     "data": {
      "text/plain": [
       "'I have eaten 99 burritos.'"
      ]
     },
     "execution_count": 6,
     "metadata": {},
     "output_type": "execute_result"
    }
   ],
   "source": [
    "'I have eaten ' + '99' + ' burritos.'"
   ]
  },
  {
   "cell_type": "code",
   "execution_count": null,
   "id": "3335e569",
   "metadata": {},
   "outputs": [],
   "source": []
  }
 ],
 "metadata": {
  "kernelspec": {
   "display_name": "Python 3 (ipykernel)",
   "language": "python",
   "name": "python3"
  },
  "language_info": {
   "codemirror_mode": {
    "name": "ipython",
    "version": 3
   },
   "file_extension": ".py",
   "mimetype": "text/x-python",
   "name": "python",
   "nbconvert_exporter": "python",
   "pygments_lexer": "ipython3",
   "version": "3.9.7"
  }
 },
 "nbformat": 4,
 "nbformat_minor": 5
}
